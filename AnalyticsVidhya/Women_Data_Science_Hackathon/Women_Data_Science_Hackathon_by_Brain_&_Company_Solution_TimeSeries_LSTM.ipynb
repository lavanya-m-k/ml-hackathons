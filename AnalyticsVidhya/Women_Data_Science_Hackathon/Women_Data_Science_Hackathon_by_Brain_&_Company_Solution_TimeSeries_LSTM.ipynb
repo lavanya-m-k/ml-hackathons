{
 "cells": [
  {
   "cell_type": "markdown",
   "metadata": {},
   "source": [
    "### This notebook is Final submission for the hackathon \n",
    "\n",
    "https://datahack.analyticsvidhya.com/contest/women-in-the-loop-a-data-science-hackathon-by-bain/\n",
    "\n",
    "My public and private leaderboard scores are 119.0311429264 (43rd place) and 126.2250155814 (30th place) respectively"
   ]
  },
  {
   "cell_type": "code",
   "execution_count": null,
   "metadata": {
    "colab": {},
    "colab_type": "code",
    "id": "vjSjrIgK6j3D"
   },
   "outputs": [],
   "source": [
    "import pandas as pd\n",
    "import numpy as np\n",
    "import warnings\n",
    "\n",
    "import tensorflow as tf\n",
    "import keras\n",
    "from keras.layers import LeakyReLU\n",
    "from keras import optimizers\n",
    "from keras.utils import plot_model\n",
    "from keras.models import Sequential, Model\n",
    "from keras.layers.convolutional import Conv1D, MaxPooling1D\n",
    "from keras.layers import Dense, LSTM, Flatten\n",
    "from keras.layers import CuDNNLSTM\n",
    "\n",
    "from sklearn.model_selection import train_test_split\n"
   ]
  },
  {
   "cell_type": "code",
   "execution_count": null,
   "metadata": {
    "colab": {},
    "colab_type": "code",
    "id": "L22eCJhT6j3M"
   },
   "outputs": [],
   "source": [
    "train_df = pd.read_csv('train.csv')\n",
    "test_df = pd.read_csv('test_QkPvNLx.csv')"
   ]
  },
  {
   "cell_type": "code",
   "execution_count": null,
   "metadata": {
    "colab": {
     "base_uri": "https://localhost:8080/",
     "height": 34
    },
    "colab_type": "code",
    "id": "8F1NpVA46j3T",
    "outputId": "9fd01f17-82f3-4b06-890c-b5fee2afa5d3"
   },
   "outputs": [],
   "source": [
    "train_df.shape"
   ]
  },
  {
   "cell_type": "code",
   "execution_count": null,
   "metadata": {
    "colab": {
     "base_uri": "https://localhost:8080/",
     "height": 162
    },
    "colab_type": "code",
    "id": "ygFnCNe46j3c",
    "outputId": "d2beb9c8-765f-4982-8933-c84855fbea60"
   },
   "outputs": [],
   "source": [
    "train_df.head(3)"
   ]
  },
  {
   "cell_type": "code",
   "execution_count": null,
   "metadata": {
    "colab": {
     "base_uri": "https://localhost:8080/",
     "height": 34
    },
    "colab_type": "code",
    "id": "8ADK6wXI6j3j",
    "outputId": "5f4fb143-77a8-424e-a7be-33393d9e1942"
   },
   "outputs": [],
   "source": [
    "test_df.shape"
   ]
  },
  {
   "cell_type": "code",
   "execution_count": null,
   "metadata": {
    "colab": {},
    "colab_type": "code",
    "id": "h7T32Qrc6j34"
   },
   "outputs": [],
   "source": [
    "# Fill null values with zeroes \n",
    "train_df.Competition_Metric = train_df.Competition_Metric.fillna(0)"
   ]
  },
  {
   "cell_type": "code",
   "execution_count": null,
   "metadata": {
    "colab": {},
    "colab_type": "code",
    "id": "dNsyxbus6j4Z"
   },
   "outputs": [],
   "source": [
    "# df_course_1 = train_df.loc[train_df.Course_ID ==1]"
   ]
  },
  {
   "cell_type": "code",
   "execution_count": null,
   "metadata": {
    "colab": {},
    "colab_type": "code",
    "id": "lH6CiLR06j4d"
   },
   "outputs": [],
   "source": [
    "def create_lag_features(df, sales_cols, columns_list, lag_days):\n",
    "    temp = df.copy()\n",
    "    for i in range(lag_days, 0, -1):\n",
    "        temp = pd.concat([temp[columns_list],df[sales_cols].shift(i)], axis=1)\n",
    "        columns_list = columns_list +[sales_col+'_t_'+str(i) for sales_col in sales_cols]\n",
    "        temp.columns = columns_list\n",
    "    return temp"
   ]
  },
  {
   "cell_type": "code",
   "execution_count": null,
   "metadata": {
    "colab": {
     "base_uri": "https://localhost:8080/",
     "height": 34
    },
    "colab_type": "code",
    "id": "z2KZC6hd6j4x",
    "outputId": "3c0513b4-d158-4629-fc06-735c488ec366"
   },
   "outputs": [],
   "source": [
    "original_column_list = ['ID', 'Day_No', 'Course_ID', 'Course_Domain', 'Course_Type', 'Public_Holiday', 'Competition_Metric']\n",
    "sales_cols = ['Sales', 'User_Traffic', 'Long_Promotion','Short_Promotion']\n",
    "lag_days = 60\n",
    "train_lag_df = pd.DataFrame()\n",
    "# Create lag features for each unique course\n",
    "for course_id in train_df.Course_ID.unique():\n",
    "    column_list = original_column_list.copy()\n",
    "    temp_df = create_lag_features(train_df.loc[train_df.Course_ID ==course_id], sales_cols, column_list, lag_days)\n",
    "    train_lag_df = train_lag_df.append(temp_df)\n",
    "print(\"Created lag features for \" + str(lag_days) + \" days\")"
   ]
  },
  {
   "cell_type": "code",
   "execution_count": null,
   "metadata": {
    "colab": {},
    "colab_type": "code",
    "id": "lYxk5rkd6j47"
   },
   "outputs": [],
   "source": [
    "# Add User traffic, sales information to lag features dataframe\n",
    "train_lag_df['User_Traffic'] = train_df['User_Traffic']\n",
    "train_lag_df['Sales_Today'] = train_df['Sales']"
   ]
  },
  {
   "cell_type": "code",
   "execution_count": null,
   "metadata": {
    "colab": {},
    "colab_type": "code",
    "id": "5TJ2bx0N6j5d"
   },
   "outputs": [],
   "source": [
    "# Drop null values\n",
    "train_lag_df = train_lag_df.dropna()"
   ]
  },
  {
   "cell_type": "code",
   "execution_count": null,
   "metadata": {
    "colab": {
     "base_uri": "https://localhost:8080/",
     "height": 200
    },
    "colab_type": "code",
    "id": "FSRpi0cT6j5h",
    "outputId": "230b871d-7f33-4096-c7b0-c3d8c640a9b2"
   },
   "outputs": [],
   "source": [
    "train_lag_df.sample(2)"
   ]
  },
  {
   "cell_type": "code",
   "execution_count": null,
   "metadata": {
    "colab": {
     "base_uri": "https://localhost:8080/",
     "height": 34
    },
    "colab_type": "code",
    "id": "zMbPUMl26j5m",
    "outputId": "05bd9f73-6950-4a20-f8be-5d8a13d67bcd"
   },
   "outputs": [],
   "source": [
    "train_lag_df.shape"
   ]
  },
  {
   "cell_type": "code",
   "execution_count": null,
   "metadata": {
    "colab": {
     "base_uri": "https://localhost:8080/",
     "height": 68
    },
    "colab_type": "code",
    "id": "wPvfJT536j51",
    "outputId": "beced350-d0a4-4494-b345-c671ef9a902c"
   },
   "outputs": [],
   "source": [
    "# Use test information in train i.e add lag from test because test preceeds train\n",
    "derived_test_df = pd.DataFrame()\n",
    "actual_training_df = pd.DataFrame()\n",
    "train_target_columns = ['Short_Promotion', 'Public_Holiday', 'Long_Promotion', 'Competition_Metric', 'Sales']\n",
    "train_target_append_columns = [col+'_t_+60' for col in train_target_columns if 'Sales' not in col]\n",
    "for course_id in train_df.Course_ID.unique():\n",
    "    train_lag_course_df = train_lag_df.loc[train_lag_df.Course_ID==course_id]\n",
    "    train_course_df = train_df[train_df.Course_ID==course_id]\n",
    "    train_target_df = train_course_df[train_target_columns].shift(-60)\n",
    "    train_target_df.columns = train_target_append_columns + ['Sales']\n",
    "    temp_actual_training_df = pd.concat([train_lag_course_df, train_target_df], axis=1)\n",
    "    derived_test_df = derived_test_df.append(temp_actual_training_df[temp_actual_training_df['Sales'].isna()],\n",
    "                                            verify_integrity=True)\n",
    "    actual_training_df = actual_training_df.append(temp_actual_training_df.dropna(), verify_integrity=True)\n",
    "    del temp_actual_training_df\n",
    "    del train_target_df\n",
    "    del train_course_df\n",
    "    del train_lag_course_df\n",
    "print(\"Created target for train data and derived test data\")\n",
    "print(\"Actual test data shape \", test_df.shape)\n",
    "print(\"Derived test data from train shape \", derived_test_df.shape)"
   ]
  },
  {
   "cell_type": "code",
   "execution_count": null,
   "metadata": {
    "colab": {
     "base_uri": "https://localhost:8080/",
     "height": 68
    },
    "colab_type": "code",
    "id": "QsUg11py6j6b",
    "outputId": "973f9037-2944-4d49-81df-af8360487748"
   },
   "outputs": [],
   "source": [
    "print(\"Checking whether course ID in derived test is matching actual test\")\n",
    "(derived_test_df.sort_values(by=['Course_ID','Day_No'])['Course_ID'].reset_index(drop=True)==test_df.sort_values(by=['Course_ID','Day_No'])['Course_ID'].reset_index(drop=True)).value_counts()"
   ]
  },
  {
   "cell_type": "code",
   "execution_count": null,
   "metadata": {
    "colab": {},
    "colab_type": "code",
    "id": "EbgivcnR6j6n"
   },
   "outputs": [],
   "source": [
    "# derived_test_df_copy = derived_test_df.copy()\n",
    "# derived_test_df = derived_test_df_copy.copy()"
   ]
  },
  {
   "cell_type": "code",
   "execution_count": null,
   "metadata": {
    "colab": {
     "base_uri": "https://localhost:8080/",
     "height": 34
    },
    "colab_type": "code",
    "id": "HlZrK-ga6j6t",
    "outputId": "c8e8b471-66b3-40ca-a779-bb59539ec1a7"
   },
   "outputs": [],
   "source": [
    "\n",
    "derived_test_columns = ['Short_Promotion', 'Public_Holiday', 'Long_Promotion', 'Competition_Metric']\n",
    "for col in derived_test_columns:\n",
    "    derived_test_df = derived_test_df.sort_values(by=['Course_ID','Day_No']).reset_index(drop=True)\n",
    "    derived_test_df[col+'_t_+60'] = test_df.sort_values(by=['Course_ID','Day_No'])[col]\n",
    "print(\"Derived test data is prepared\")"
   ]
  },
  {
   "cell_type": "code",
   "execution_count": null,
   "metadata": {
    "colab": {
     "base_uri": "https://localhost:8080/",
     "height": 293
    },
    "colab_type": "code",
    "id": "yw1qxOqG6j6y",
    "outputId": "f964483e-5c9e-4633-85db-32b9e5d40aac"
   },
   "outputs": [],
   "source": [
    "derived_test_df.head()"
   ]
  },
  {
   "cell_type": "code",
   "execution_count": null,
   "metadata": {
    "colab": {},
    "colab_type": "code",
    "id": "GLwiA_Oa6j6_"
   },
   "outputs": [],
   "source": [
    "# actual_training_df.reset_index(drop = True).to_csv('actual_train_new.csv',index=False)\n",
    "# derived_test_df.reset_index(drop= True).to_csv('derived_test_new.csv',index=False)"
   ]
  },
  {
   "cell_type": "code",
   "execution_count": null,
   "metadata": {
    "colab": {},
    "colab_type": "code",
    "id": "hzkfakqw6j7k"
   },
   "outputs": [],
   "source": [
    "model_train_df = actual_training_df.reset_index(drop = True)\n",
    "model_test_df = derived_test_df.reset_index(drop= True)"
   ]
  },
  {
   "cell_type": "code",
   "execution_count": null,
   "metadata": {
    "colab": {},
    "colab_type": "code",
    "id": "8ntY-uK56j71"
   },
   "outputs": [],
   "source": [
    "def overall_preprocessing(df, is_test=False):\n",
    "    df.Competition_Metric = df.Competition_Metric.fillna(0)\n",
    "    df['Competition_Metric_t_+60'] = df['Competition_Metric_t_+60'].fillna(0)\n",
    "    course_type = pd.get_dummies(df['Course_Type'])\n",
    "    course_domain = pd.get_dummies(df['Course_Domain'])\n",
    "    \n",
    "    user_traffic_columns = [col for col in df.columns if 'User_Traffic' in col]\n",
    "    \n",
    "    df[user_traffic_columns] = df[user_traffic_columns]/100\n",
    "    df_processed = pd.concat([df, course_type, course_domain], axis=1)\n",
    "    df_processed['Day_No'] = df_processed['Day_No'].mod(365)\n",
    "    df_processed = df_processed.drop(columns = ['ID','Course_Type','Course_Domain'])\n",
    "    if is_test:\n",
    "        del df_processed['Sales']\n",
    "        print(\"Test shape: \" + str(df_processed.shape))\n",
    "        return df_processed\n",
    "    else:\n",
    "        target = df_processed[['Sales']]\n",
    "        del df_processed['Sales'] \n",
    "        print(\"Train shape: \"+str(df_processed.shape))\n",
    "        return df_processed, target"
   ]
  },
  {
   "cell_type": "code",
   "execution_count": null,
   "metadata": {
    "colab": {},
    "colab_type": "code",
    "id": "lX80CYHc6j77"
   },
   "outputs": [],
   "source": [
    "# model_encoded_train_df, model_target_df = overall_preprocessing(model_train_df)\n",
    "# model_encoded_test_df = overall_preprocessing(model_test_df, True)\n",
    "# model_encoded_train_df.head(2)\n",
    "# model_encoded_test_df.head(2)\n",
    "# model_encoded_test_df.isnull().any().value_counts()"
   ]
  },
  {
   "cell_type": "code",
   "execution_count": null,
   "metadata": {
    "colab": {
     "base_uri": "https://localhost:8080/",
     "height": 85
    },
    "colab_type": "code",
    "id": "SGd4gwuM6SCM",
    "outputId": "7927c0b1-e3d1-4e4a-bec6-bbe93eea66f2"
   },
   "outputs": [],
   "source": [
    "# Create train, test, cross validation splits\n",
    "train_cross_val_df = pd.DataFrame()\n",
    "holdout_df = pd.DataFrame()\n",
    "for course_id in list(actual_training_df.Course_ID.unique()):\n",
    "  temp_model_train_df = actual_training_df.loc[actual_training_df.Course_ID==course_id]\n",
    "  train_cross_val_df = train_cross_val_df.append(temp_model_train_df[:-60], ignore_index=True)\n",
    "  holdout_df = holdout_df.append(temp_model_train_df[-60:], ignore_index=True)    \n",
    "  del temp_model_train_df\n",
    "\n",
    "model_train_df = actual_training_df.reset_index(drop = True)\n",
    "model_train_cross_val_df = train_cross_val_df.reset_index(drop=True)\n",
    "model_holdout_df = holdout_df.reset_index(drop=True)\n",
    "model_test_df = derived_test_df.reset_index(drop= True)\n",
    "\n",
    "model_encoded_train_df, model_target_df = overall_preprocessing(model_train_df)\n",
    "model_encoded_train_cross_val_df, model_target_train_cross_val_df = overall_preprocessing(model_train_cross_val_df)\n",
    "model_encoded_holdout_df, model_target_holdout_df = overall_preprocessing(model_holdout_df)\n",
    "model_encoded_test_df = overall_preprocessing(model_test_df, True)\n",
    "\n",
    "X = model_encoded_train_cross_val_df\n",
    "y = model_target_train_cross_val_df.values\n"
   ]
  },
  {
   "cell_type": "code",
   "execution_count": null,
   "metadata": {
    "colab": {},
    "colab_type": "code",
    "id": "nmuCOfAnKJXL"
   },
   "outputs": [],
   "source": [
    "# Save train, cross validation dataframe\n",
    "pd.concat([model_encoded_train_df, model_target_df], axis=1).to_csv('model_encoded_train_df.csv', index=False)\n",
    "pd.concat([model_encoded_train_cross_val_df, model_target_train_cross_val_df], axis=1).to_csv('model_encoded_train_cross_val_df.csv', index=False)"
   ]
  },
  {
   "cell_type": "code",
   "execution_count": null,
   "metadata": {
    "colab": {},
    "colab_type": "code",
    "id": "yXGqbN3jRtvi"
   },
   "outputs": [],
   "source": []
  },
  {
   "cell_type": "code",
   "execution_count": null,
   "metadata": {
    "colab": {
     "base_uri": "https://localhost:8080/",
     "height": 204
    },
    "colab_type": "code",
    "id": "d1lxoCcyKXTa",
    "outputId": "caa58565-d81a-42a7-fd15-1bcfe796ff36"
   },
   "outputs": [],
   "source": [
    "model_target_holdout_df.head()"
   ]
  },
  {
   "cell_type": "code",
   "execution_count": null,
   "metadata": {
    "colab": {},
    "colab_type": "code",
    "id": "oTHzmAglHXuA"
   },
   "outputs": [],
   "source": [
    "# pd.concat([model_encoded_holdout_df, model_target_holdout_df], axis=1).to_csv('model_encoded_holdout_df.csv', index=False)\n",
    "# model_encoded_test_df.to_csv('model_encoded_test_df.csv', index=False)"
   ]
  },
  {
   "cell_type": "code",
   "execution_count": null,
   "metadata": {
    "colab": {},
    "colab_type": "code",
    "id": "kMCNFaQtJ14p"
   },
   "outputs": [],
   "source": []
  },
  {
   "cell_type": "code",
   "execution_count": null,
   "metadata": {
    "colab": {
     "base_uri": "https://localhost:8080/",
     "height": 324
    },
    "colab_type": "code",
    "id": "yKjg8rV5dgoB",
    "outputId": "0ed92cda-e336-473f-c8ce-a0034d687923"
   },
   "outputs": [],
   "source": [
    "print('model_encoded_train_cross_val set shape', model_encoded_train_cross_val_df.shape)\n",
    "print('model_encoded_holdout set shape', model_encoded_holdout_df.shape)\n",
    "X_holdout = model_encoded_holdout_df\n",
    "y_holdout = model_target_holdout_df.values\n",
    "X_holdout.head()"
   ]
  },
  {
   "cell_type": "code",
   "execution_count": null,
   "metadata": {
    "colab": {
     "base_uri": "https://localhost:8080/",
     "height": 34
    },
    "colab_type": "code",
    "id": "EIZDTOywU2Zl",
    "outputId": "e61d8b3b-b7a6-4be2-851b-7d0bdf1bba2e"
   },
   "outputs": [],
   "source": [
    "import gc\n",
    "del train_df, actual_training_df, train_cross_val_df, holdout_df, derived_test_df\n",
    "del model_train_cross_val_df\n",
    "del model_holdout_df\n",
    "del model_train_df\n",
    "del model_encoded_holdout_df, model_target_holdout_df\n",
    "gc.collect()"
   ]
  },
  {
   "cell_type": "code",
   "execution_count": null,
   "metadata": {
    "colab": {
     "base_uri": "https://localhost:8080/",
     "height": 51
    },
    "colab_type": "code",
    "id": "v8k7_AEb6j85",
    "outputId": "4374fb83-1e9b-467d-b117-20263e281118"
   },
   "outputs": [],
   "source": [
    "X.isnull().any().value_counts()"
   ]
  },
  {
   "cell_type": "markdown",
   "metadata": {
    "_uuid": "5eac02f27336cb62fa2de354ef647caa3fb4934e",
    "colab_type": "text",
    "id": "cVg6hrWV6kAc"
   },
   "source": [
    "### LSTM for Time Series Forecasting\n",
    "\n",
    "* Now the LSTM model actually sees the input data as a sequence, so it's able to learn patterns from sequenced data (assuming it exists) better than the other ones, especially patterns from long sequences.\n",
    "* Input shape **[samples, timesteps, features]**."
   ]
  },
  {
   "cell_type": "code",
   "execution_count": null,
   "metadata": {
    "colab": {},
    "colab_type": "code",
    "id": "rquXPOps6j-o"
   },
   "outputs": [],
   "source": [
    "df_pred_ID = test_df['ID']\n",
    "#save_submission(df_pred_ID, model_mlp.predict(model_encoded_test_df).flatten(),'MLP_Time_series_70_lag_traffic_Sales_feature_added_leaky_relu')\n"
   ]
  },
  {
   "cell_type": "code",
   "execution_count": null,
   "metadata": {
    "colab": {},
    "colab_type": "code",
    "id": "mXFcmK1hO7WV"
   },
   "outputs": [],
   "source": [
    "def save_submission(df_pred_ID, prediction, filename):\n",
    "    result = pd.concat([df_pred_ID,pd.DataFrame({'Sales':list(prediction)})],axis=1)\n",
    "    result.to_csv('./' + filename + '.csv', index=False)"
   ]
  },
  {
   "cell_type": "code",
   "execution_count": null,
   "metadata": {
    "colab": {},
    "colab_type": "code",
    "id": "SIe2RLNXrke4"
   },
   "outputs": [],
   "source": [
    "from keras.layers import CuDNNLSTM"
   ]
  },
  {
   "cell_type": "code",
   "execution_count": null,
   "metadata": {
    "colab": {},
    "colab_type": "code",
    "id": "2oKXtN_Cr6br"
   },
   "outputs": [],
   "source": [
    "epochs = 10\n",
    "batch = 64\n",
    "lr = 0.0002\n",
    "adam = optimizers.Adam(lr)\n",
    "leaky_relu_alpha =0.01"
   ]
  },
  {
   "cell_type": "code",
   "execution_count": null,
   "metadata": {
    "colab": {
     "base_uri": "https://localhost:8080/",
     "height": 85
    },
    "colab_type": "code",
    "id": "pA4aAnzdzhmr",
    "outputId": "f46e572e-decf-4220-9361-8137c1e8e3a1"
   },
   "outputs": [],
   "source": [
    "# Create train, validation model dataframes\n",
    "X_train, X_valid, Y_train, Y_valid = train_test_split(X, y, test_size=0.3, random_state=5)\n",
    "print('Train set shape', X_train.shape)\n",
    "print('Validation set shape', X_valid.shape)\n",
    "X_train_series = X_train.values.reshape((X_train.shape[0], X_train.shape[1], 1))\n",
    "X_valid_series = X_valid.values.reshape((X_valid.shape[0], X_valid.shape[1], 1))\n",
    "print('Train series shape', X_train_series.shape)\n",
    "print('Validation series shape', X_valid_series.shape)\n",
    "X_series = model_encoded_train_cross_val_df.values.reshape((model_encoded_train_cross_val_df.shape[0],\n",
    "                                                 model_encoded_train_cross_val_df.shape[1], 1))\n",
    "X_full_train = model_encoded_train_df.values.reshape((model_encoded_train_df.shape[0],\n",
    "                                                 model_encoded_train_df.shape[1], 1))\n",
    "test_2d = model_encoded_test_df.values.reshape((model_encoded_test_df.shape[0], model_encoded_test_df.shape[1], 1))"
   ]
  },
  {
   "cell_type": "code",
   "execution_count": null,
   "metadata": {
    "_uuid": "522965ca3e2490b8243032c6418ce50d5b724872",
    "colab": {
     "base_uri": "https://localhost:8080/",
     "height": 459
    },
    "colab_type": "code",
    "id": "r6vb0Tc_6kAd",
    "outputId": "e60fcdf6-7dcc-4069-a01a-4e7e8c7b81c8"
   },
   "outputs": [],
   "source": [
    "# Init model layers\n",
    "model_lstm = Sequential()\n",
    "model_lstm.add(CuDNNLSTM(512, input_shape=(X_train_series.shape[1], X_train_series.shape[2])))\n",
    "model_lstm.add(LeakyReLU(alpha=leaky_relu_alpha))\n",
    "model_lstm.add(Dense(512, kernel_initializer='normal'))\n",
    "model_lstm.add(LeakyReLU(alpha=leaky_relu_alpha))\n",
    "model_lstm.add(Dense(128, kernel_initializer='normal'))\n",
    "model_lstm.add(LeakyReLU(alpha=leaky_relu_alpha))\n",
    "model_lstm.add(Dense(32, kernel_initializer='normal'))\n",
    "model_lstm.add(LeakyReLU(alpha=leaky_relu_alpha))\n",
    "model_lstm.add(Dense(1))\n",
    "model_lstm.compile(loss='mse', optimizer=adam, metrics=['msle'])\n",
    "model_lstm.summary()"
   ]
  },
  {
   "cell_type": "code",
   "execution_count": null,
   "metadata": {
    "_kg_hide-output": true,
    "_uuid": "48ac362d2a96028dc2bba1477b3d357c4d79668d",
    "colab": {},
    "colab_type": "code",
    "id": "rRVrGG7M6kAh"
   },
   "outputs": [],
   "source": [
    "# Fit the model\n",
    "epochs = 35\n",
    "batch = 60\n",
    "callback = [keras.callbacks.EarlyStopping(monitor='val_loss', min_delta=0, patience=5, verbose=0, mode='auto', restore_best_weights=True)]\n",
    "lstm_history = model_lstm.fit(X_train_series, Y_train,\n",
    "                              validation_data=(X_valid_series, Y_valid),\n",
    "                            epochs=epochs, verbose=1, batch_size= batch, callbacks=callback)"
   ]
  },
  {
   "cell_type": "code",
   "execution_count": null,
   "metadata": {
    "colab": {
     "base_uri": "https://localhost:8080/",
     "height": 51
    },
    "colab_type": "code",
    "id": "9vzFd9Rg8EnO",
    "outputId": "a62b4f7e-3180-4dc7-df0c-df0464d144e5"
   },
   "outputs": [],
   "source": [
    "# Fit on holdout\n",
    "X_holdout_series = X_holdout.values.reshape((X_holdout.shape[0], X_holdout.shape[1], 1))\n",
    "model_lstm.evaluate(X_holdout_series,y_holdout)"
   ]
  },
  {
   "cell_type": "code",
   "execution_count": null,
   "metadata": {
    "colab": {},
    "colab_type": "code",
    "id": "ASa68PtkDR0P"
   },
   "outputs": [],
   "source": [
    "# Fit on validation\n",
    "epochs= 10\n",
    "batch = 128\n",
    "lstm_history = model_lstm.fit(X_series, model_target_train_cross_val_df.values,\n",
    "                              validation_data=(X_holdout_series,y_holdout),\n",
    "                            epochs=epochs, verbose=1, batch_size= batch, callbacks=callback)"
   ]
  },
  {
   "cell_type": "markdown",
   "metadata": {
    "colab_type": "text",
    "id": "a1-Upwy1N9M9"
   },
   "source": []
  },
  {
   "cell_type": "code",
   "execution_count": null,
   "metadata": {
    "colab": {
     "base_uri": "https://localhost:8080/",
     "height": 51
    },
    "colab_type": "code",
    "id": "2hV2pyU_N-kJ",
    "outputId": "ec548983-53ff-44f4-f9be-0572b571e652"
   },
   "outputs": [],
   "source": [
    "# Get holdout score\n",
    "#X_holdout_series = X_holdout.values.reshape((X_holdout.shape[0], X_holdout.shape[1], 1))\n",
    "model_lstm.evaluate(X_holdout_series,y_holdout)"
   ]
  },
  {
   "cell_type": "code",
   "execution_count": null,
   "metadata": {
    "colab": {},
    "colab_type": "code",
    "id": "-ilIENXfN2xM"
   },
   "outputs": [],
   "source": [
    "# Fit on the full data available\n",
    "epochs= 2\n",
    "batch = 256\n",
    "lstm_history = model_lstm.fit(X_full_train, model_target_df.values,\n",
    "                              validation_data=(X_holdout_series,y_holdout),\n",
    "                            epochs=epochs, verbose=1, batch_size= batch, callbacks=callback)"
   ]
  },
  {
   "cell_type": "code",
   "execution_count": null,
   "metadata": {
    "colab": {},
    "colab_type": "code",
    "id": "mAd8XjFfE2iz"
   },
   "outputs": [],
   "source": [
    "# Convert to submission format\n",
    "save_submission(df_pred_ID, model_lstm.predict(test_2d).flatten(),'LSTM_2d_Time_series_60days_lag_with_long_shhort_promotion')"
   ]
  },
  {
   "cell_type": "code",
   "execution_count": null,
   "metadata": {
    "colab": {},
    "colab_type": "code",
    "id": "-HuzjoBdeklV"
   },
   "outputs": [],
   "source": []
  }
 ],
 "metadata": {
  "accelerator": "GPU",
  "colab": {
   "collapsed_sections": [],
   "name": "Women Data Science Hackathon by Bain & Company-Solution TimeSeries LSTM.ipynb",
   "provenance": []
  },
  "kernelspec": {
   "display_name": "Python 3",
   "language": "python",
   "name": "python3"
  },
  "language_info": {
   "codemirror_mode": {
    "name": "ipython",
    "version": 3
   },
   "file_extension": ".py",
   "mimetype": "text/x-python",
   "name": "python",
   "nbconvert_exporter": "python",
   "pygments_lexer": "ipython3",
   "version": "3.7.3"
  }
 },
 "nbformat": 4,
 "nbformat_minor": 1
}
