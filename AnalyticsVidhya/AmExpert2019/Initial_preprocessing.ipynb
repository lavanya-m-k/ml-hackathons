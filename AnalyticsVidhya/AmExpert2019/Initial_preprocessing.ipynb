{
 "cells": [
  {
   "cell_type": "markdown",
   "metadata": {},
   "source": [
    "### This notebook is Lazy submission for the hackathon \n",
    "\n",
    "https://datahack.analyticsvidhya.com/contest/amexpert-2019-machine-learning-hackathon/\n",
    "\n",
    "My public and private leaderboard scores are 0.5151261381 and 0.5080172286 respectively"
   ]
  },
  {
   "cell_type": "code",
   "execution_count": 1,
   "metadata": {},
   "outputs": [],
   "source": [
    "from IPython.display import Image"
   ]
  },
  {
   "cell_type": "code",
   "execution_count": 2,
   "metadata": {},
   "outputs": [],
   "source": [
    "import pandas as pd"
   ]
  },
  {
   "cell_type": "code",
   "execution_count": 3,
   "metadata": {},
   "outputs": [],
   "source": [
    "import numpy as np"
   ]
  },
  {
   "cell_type": "code",
   "execution_count": 4,
   "metadata": {},
   "outputs": [],
   "source": [
    "train = pd.read_csv(\"data/train_AUpWtIz/train.csv\")"
   ]
  },
  {
   "cell_type": "code",
   "execution_count": 5,
   "metadata": {},
   "outputs": [],
   "source": [
    "customer_demographics = pd.read_csv(\"data/train_AUpWtIz/customer_demographics.csv\")\n",
    "campaign_data = pd.read_csv(\"data/train_AUpWtIz/campaign_data.csv\")\n",
    "coupon_item_mapping = pd.read_csv(\"data/train_AUpWtIz/coupon_item_mapping.csv\")\n",
    "customer_transaction_data = pd.read_csv(\"data/train_AUpWtIz/customer_transaction_data.csv\")\n",
    "item_data = pd.read_csv(\"data/train_AUpWtIz/item_data.csv\")"
   ]
  },
  {
   "cell_type": "code",
   "execution_count": 6,
   "metadata": {},
   "outputs": [],
   "source": [
    "test = pd.read_csv('data/test_QyjYwdj.csv')"
   ]
  },
  {
   "cell_type": "code",
   "execution_count": 7,
   "metadata": {},
   "outputs": [
    {
     "data": {
      "text/plain": [
       "(78369, 5)"
      ]
     },
     "execution_count": 7,
     "metadata": {},
     "output_type": "execute_result"
    }
   ],
   "source": [
    "train.shape"
   ]
  },
  {
   "cell_type": "code",
   "execution_count": 8,
   "metadata": {},
   "outputs": [
    {
     "data": {
      "text/plain": [
       "(50226, 4)"
      ]
     },
     "execution_count": 8,
     "metadata": {},
     "output_type": "execute_result"
    }
   ],
   "source": [
    "test.shape"
   ]
  },
  {
   "cell_type": "code",
   "execution_count": 9,
   "metadata": {
    "scrolled": true
   },
   "outputs": [
    {
     "name": "stdout",
     "output_type": "stream",
     "text": [
      "<class 'pandas.core.frame.DataFrame'>\n",
      "RangeIndex: 28 entries, 0 to 27\n",
      "Data columns (total 4 columns):\n",
      "campaign_id      28 non-null int64\n",
      "campaign_type    28 non-null object\n",
      "start_date       28 non-null object\n",
      "end_date         28 non-null object\n",
      "dtypes: int64(1), object(3)\n",
      "memory usage: 976.0+ bytes\n"
     ]
    }
   ],
   "source": [
    "campaign_data.info()"
   ]
  },
  {
   "cell_type": "code",
   "execution_count": 10,
   "metadata": {},
   "outputs": [
    {
     "name": "stdout",
     "output_type": "stream",
     "text": [
      "<class 'pandas.core.frame.DataFrame'>\n",
      "RangeIndex: 760 entries, 0 to 759\n",
      "Data columns (total 7 columns):\n",
      "customer_id       760 non-null int64\n",
      "age_range         760 non-null object\n",
      "marital_status    431 non-null object\n",
      "rented            760 non-null int64\n",
      "family_size       760 non-null object\n",
      "no_of_children    222 non-null object\n",
      "income_bracket    760 non-null int64\n",
      "dtypes: int64(3), object(4)\n",
      "memory usage: 41.6+ KB\n"
     ]
    }
   ],
   "source": [
    "customer_demographics.info()"
   ]
  },
  {
   "cell_type": "code",
   "execution_count": 11,
   "metadata": {},
   "outputs": [
    {
     "name": "stdout",
     "output_type": "stream",
     "text": [
      "<class 'pandas.core.frame.DataFrame'>\n",
      "RangeIndex: 1324566 entries, 0 to 1324565\n",
      "Data columns (total 7 columns):\n",
      "date               1324566 non-null object\n",
      "customer_id        1324566 non-null int64\n",
      "item_id            1324566 non-null int64\n",
      "quantity           1324566 non-null int64\n",
      "selling_price      1324566 non-null float64\n",
      "other_discount     1324566 non-null float64\n",
      "coupon_discount    1324566 non-null float64\n",
      "dtypes: float64(3), int64(3), object(1)\n",
      "memory usage: 70.7+ MB\n"
     ]
    }
   ],
   "source": [
    "customer_transaction_data.info()"
   ]
  },
  {
   "cell_type": "code",
   "execution_count": 12,
   "metadata": {},
   "outputs": [
    {
     "data": {
      "text/plain": [
       "Y    22\n",
       "X     6\n",
       "Name: campaign_type, dtype: int64"
      ]
     },
     "execution_count": 12,
     "metadata": {},
     "output_type": "execute_result"
    }
   ],
   "source": [
    "campaign_data.campaign_type.value_counts()"
   ]
  },
  {
   "cell_type": "code",
   "execution_count": 13,
   "metadata": {},
   "outputs": [
    {
     "name": "stdout",
     "output_type": "stream",
     "text": [
      "<class 'pandas.core.frame.DataFrame'>\n",
      "RangeIndex: 92663 entries, 0 to 92662\n",
      "Data columns (total 2 columns):\n",
      "coupon_id    92663 non-null int64\n",
      "item_id      92663 non-null int64\n",
      "dtypes: int64(2)\n",
      "memory usage: 1.4 MB\n"
     ]
    }
   ],
   "source": [
    "coupon_item_mapping.info()"
   ]
  },
  {
   "cell_type": "code",
   "execution_count": 14,
   "metadata": {},
   "outputs": [
    {
     "name": "stdout",
     "output_type": "stream",
     "text": [
      "<class 'pandas.core.frame.DataFrame'>\n",
      "RangeIndex: 74066 entries, 0 to 74065\n",
      "Data columns (total 4 columns):\n",
      "item_id       74066 non-null int64\n",
      "brand         74066 non-null int64\n",
      "brand_type    74066 non-null object\n",
      "category      74066 non-null object\n",
      "dtypes: int64(2), object(2)\n",
      "memory usage: 2.3+ MB\n"
     ]
    }
   ],
   "source": [
    "item_data.info()"
   ]
  },
  {
   "cell_type": "code",
   "execution_count": 15,
   "metadata": {},
   "outputs": [
    {
     "data": {
      "text/plain": [
       "array(['Grocery', 'Miscellaneous', 'Bakery', 'Pharmaceutical',\n",
       "       'Packaged Meat', 'Seafood', 'Natural Products',\n",
       "       'Dairy, Juices & Snacks', 'Prepared Food', 'Skin & Hair Care',\n",
       "       'Meat', 'Travel', 'Flowers & Plants', 'Fuel', 'Salads', 'Alcohol',\n",
       "       'Garden', 'Restauarant', 'Vegetables (cut)'], dtype=object)"
      ]
     },
     "execution_count": 15,
     "metadata": {},
     "output_type": "execute_result"
    }
   ],
   "source": [
    "item_data.category.unique()"
   ]
  },
  {
   "cell_type": "code",
   "execution_count": 16,
   "metadata": {},
   "outputs": [
    {
     "data": {
      "text/plain": [
       "array(['Established', 'Local'], dtype=object)"
      ]
     },
     "execution_count": 16,
     "metadata": {},
     "output_type": "execute_result"
    }
   ],
   "source": [
    "item_data.brand_type.unique()"
   ]
  },
  {
   "cell_type": "code",
   "execution_count": 17,
   "metadata": {},
   "outputs": [
    {
     "data": {
      "text/html": [
       "<div>\n",
       "<style scoped>\n",
       "    .dataframe tbody tr th:only-of-type {\n",
       "        vertical-align: middle;\n",
       "    }\n",
       "\n",
       "    .dataframe tbody tr th {\n",
       "        vertical-align: top;\n",
       "    }\n",
       "\n",
       "    .dataframe thead th {\n",
       "        text-align: right;\n",
       "    }\n",
       "</style>\n",
       "<table border=\"1\" class=\"dataframe\">\n",
       "  <thead>\n",
       "    <tr style=\"text-align: right;\">\n",
       "      <th></th>\n",
       "      <th>date</th>\n",
       "      <th>customer_id</th>\n",
       "      <th>item_id</th>\n",
       "      <th>quantity</th>\n",
       "      <th>selling_price</th>\n",
       "      <th>other_discount</th>\n",
       "      <th>coupon_discount</th>\n",
       "    </tr>\n",
       "  </thead>\n",
       "  <tbody>\n",
       "    <tr>\n",
       "      <th>0</th>\n",
       "      <td>2012-01-02</td>\n",
       "      <td>1501</td>\n",
       "      <td>26830</td>\n",
       "      <td>1</td>\n",
       "      <td>35.26</td>\n",
       "      <td>-10.69</td>\n",
       "      <td>0.0</td>\n",
       "    </tr>\n",
       "    <tr>\n",
       "      <th>1</th>\n",
       "      <td>2012-01-02</td>\n",
       "      <td>1501</td>\n",
       "      <td>54253</td>\n",
       "      <td>1</td>\n",
       "      <td>53.43</td>\n",
       "      <td>-13.89</td>\n",
       "      <td>0.0</td>\n",
       "    </tr>\n",
       "    <tr>\n",
       "      <th>2</th>\n",
       "      <td>2012-01-02</td>\n",
       "      <td>1501</td>\n",
       "      <td>31962</td>\n",
       "      <td>1</td>\n",
       "      <td>106.50</td>\n",
       "      <td>-14.25</td>\n",
       "      <td>0.0</td>\n",
       "    </tr>\n",
       "    <tr>\n",
       "      <th>3</th>\n",
       "      <td>2012-01-02</td>\n",
       "      <td>1501</td>\n",
       "      <td>33647</td>\n",
       "      <td>1</td>\n",
       "      <td>67.32</td>\n",
       "      <td>0.00</td>\n",
       "      <td>0.0</td>\n",
       "    </tr>\n",
       "    <tr>\n",
       "      <th>4</th>\n",
       "      <td>2012-01-02</td>\n",
       "      <td>1501</td>\n",
       "      <td>48199</td>\n",
       "      <td>1</td>\n",
       "      <td>71.24</td>\n",
       "      <td>-28.14</td>\n",
       "      <td>0.0</td>\n",
       "    </tr>\n",
       "  </tbody>\n",
       "</table>\n",
       "</div>"
      ],
      "text/plain": [
       "         date  customer_id  item_id  quantity  selling_price  other_discount  \\\n",
       "0  2012-01-02         1501    26830         1          35.26          -10.69   \n",
       "1  2012-01-02         1501    54253         1          53.43          -13.89   \n",
       "2  2012-01-02         1501    31962         1         106.50          -14.25   \n",
       "3  2012-01-02         1501    33647         1          67.32            0.00   \n",
       "4  2012-01-02         1501    48199         1          71.24          -28.14   \n",
       "\n",
       "   coupon_discount  \n",
       "0              0.0  \n",
       "1              0.0  \n",
       "2              0.0  \n",
       "3              0.0  \n",
       "4              0.0  "
      ]
     },
     "execution_count": 17,
     "metadata": {},
     "output_type": "execute_result"
    }
   ],
   "source": [
    "customer_transaction_data.head()"
   ]
  },
  {
   "cell_type": "code",
   "execution_count": 18,
   "metadata": {},
   "outputs": [
    {
     "data": {
      "text/html": [
       "<div>\n",
       "<style scoped>\n",
       "    .dataframe tbody tr th:only-of-type {\n",
       "        vertical-align: middle;\n",
       "    }\n",
       "\n",
       "    .dataframe tbody tr th {\n",
       "        vertical-align: top;\n",
       "    }\n",
       "\n",
       "    .dataframe thead th {\n",
       "        text-align: right;\n",
       "    }\n",
       "</style>\n",
       "<table border=\"1\" class=\"dataframe\">\n",
       "  <thead>\n",
       "    <tr style=\"text-align: right;\">\n",
       "      <th></th>\n",
       "      <th>campaign_id</th>\n",
       "      <th>campaign_type</th>\n",
       "      <th>start_date</th>\n",
       "      <th>end_date</th>\n",
       "    </tr>\n",
       "  </thead>\n",
       "  <tbody>\n",
       "    <tr>\n",
       "      <th>0</th>\n",
       "      <td>24</td>\n",
       "      <td>Y</td>\n",
       "      <td>21/10/13</td>\n",
       "      <td>20/12/13</td>\n",
       "    </tr>\n",
       "    <tr>\n",
       "      <th>1</th>\n",
       "      <td>25</td>\n",
       "      <td>Y</td>\n",
       "      <td>21/10/13</td>\n",
       "      <td>22/11/13</td>\n",
       "    </tr>\n",
       "    <tr>\n",
       "      <th>2</th>\n",
       "      <td>20</td>\n",
       "      <td>Y</td>\n",
       "      <td>07/09/13</td>\n",
       "      <td>16/11/13</td>\n",
       "    </tr>\n",
       "    <tr>\n",
       "      <th>3</th>\n",
       "      <td>23</td>\n",
       "      <td>Y</td>\n",
       "      <td>08/10/13</td>\n",
       "      <td>15/11/13</td>\n",
       "    </tr>\n",
       "    <tr>\n",
       "      <th>4</th>\n",
       "      <td>21</td>\n",
       "      <td>Y</td>\n",
       "      <td>16/09/13</td>\n",
       "      <td>18/10/13</td>\n",
       "    </tr>\n",
       "  </tbody>\n",
       "</table>\n",
       "</div>"
      ],
      "text/plain": [
       "   campaign_id campaign_type start_date  end_date\n",
       "0           24             Y   21/10/13  20/12/13\n",
       "1           25             Y   21/10/13  22/11/13\n",
       "2           20             Y   07/09/13  16/11/13\n",
       "3           23             Y   08/10/13  15/11/13\n",
       "4           21             Y   16/09/13  18/10/13"
      ]
     },
     "execution_count": 18,
     "metadata": {},
     "output_type": "execute_result"
    }
   ],
   "source": [
    "campaign_data.head()"
   ]
  },
  {
   "cell_type": "code",
   "execution_count": 19,
   "metadata": {},
   "outputs": [
    {
     "data": {
      "text/html": [
       "<div>\n",
       "<style scoped>\n",
       "    .dataframe tbody tr th:only-of-type {\n",
       "        vertical-align: middle;\n",
       "    }\n",
       "\n",
       "    .dataframe tbody tr th {\n",
       "        vertical-align: top;\n",
       "    }\n",
       "\n",
       "    .dataframe thead th {\n",
       "        text-align: right;\n",
       "    }\n",
       "</style>\n",
       "<table border=\"1\" class=\"dataframe\">\n",
       "  <thead>\n",
       "    <tr style=\"text-align: right;\">\n",
       "      <th></th>\n",
       "      <th>customer_id</th>\n",
       "      <th>age_range</th>\n",
       "      <th>marital_status</th>\n",
       "      <th>rented</th>\n",
       "      <th>family_size</th>\n",
       "      <th>no_of_children</th>\n",
       "      <th>income_bracket</th>\n",
       "    </tr>\n",
       "  </thead>\n",
       "  <tbody>\n",
       "    <tr>\n",
       "      <th>0</th>\n",
       "      <td>1</td>\n",
       "      <td>70+</td>\n",
       "      <td>Married</td>\n",
       "      <td>0</td>\n",
       "      <td>2</td>\n",
       "      <td>NaN</td>\n",
       "      <td>4</td>\n",
       "    </tr>\n",
       "    <tr>\n",
       "      <th>1</th>\n",
       "      <td>6</td>\n",
       "      <td>46-55</td>\n",
       "      <td>Married</td>\n",
       "      <td>0</td>\n",
       "      <td>2</td>\n",
       "      <td>NaN</td>\n",
       "      <td>5</td>\n",
       "    </tr>\n",
       "    <tr>\n",
       "      <th>2</th>\n",
       "      <td>7</td>\n",
       "      <td>26-35</td>\n",
       "      <td>NaN</td>\n",
       "      <td>0</td>\n",
       "      <td>3</td>\n",
       "      <td>1</td>\n",
       "      <td>3</td>\n",
       "    </tr>\n",
       "    <tr>\n",
       "      <th>3</th>\n",
       "      <td>8</td>\n",
       "      <td>26-35</td>\n",
       "      <td>NaN</td>\n",
       "      <td>0</td>\n",
       "      <td>4</td>\n",
       "      <td>2</td>\n",
       "      <td>6</td>\n",
       "    </tr>\n",
       "    <tr>\n",
       "      <th>4</th>\n",
       "      <td>10</td>\n",
       "      <td>46-55</td>\n",
       "      <td>Single</td>\n",
       "      <td>0</td>\n",
       "      <td>1</td>\n",
       "      <td>NaN</td>\n",
       "      <td>5</td>\n",
       "    </tr>\n",
       "  </tbody>\n",
       "</table>\n",
       "</div>"
      ],
      "text/plain": [
       "   customer_id age_range marital_status  rented family_size no_of_children  \\\n",
       "0            1       70+        Married       0           2            NaN   \n",
       "1            6     46-55        Married       0           2            NaN   \n",
       "2            7     26-35            NaN       0           3              1   \n",
       "3            8     26-35            NaN       0           4              2   \n",
       "4           10     46-55         Single       0           1            NaN   \n",
       "\n",
       "   income_bracket  \n",
       "0               4  \n",
       "1               5  \n",
       "2               3  \n",
       "3               6  \n",
       "4               5  "
      ]
     },
     "execution_count": 19,
     "metadata": {},
     "output_type": "execute_result"
    }
   ],
   "source": [
    "customer_demographics.head(5)"
   ]
  },
  {
   "cell_type": "code",
   "execution_count": 20,
   "metadata": {},
   "outputs": [
    {
     "data": {
      "text/html": [
       "<div>\n",
       "<style scoped>\n",
       "    .dataframe tbody tr th:only-of-type {\n",
       "        vertical-align: middle;\n",
       "    }\n",
       "\n",
       "    .dataframe tbody tr th {\n",
       "        vertical-align: top;\n",
       "    }\n",
       "\n",
       "    .dataframe thead th {\n",
       "        text-align: right;\n",
       "    }\n",
       "</style>\n",
       "<table border=\"1\" class=\"dataframe\">\n",
       "  <thead>\n",
       "    <tr style=\"text-align: right;\">\n",
       "      <th></th>\n",
       "      <th>coupon_id</th>\n",
       "      <th>item_id</th>\n",
       "    </tr>\n",
       "  </thead>\n",
       "  <tbody>\n",
       "    <tr>\n",
       "      <th>0</th>\n",
       "      <td>105</td>\n",
       "      <td>37</td>\n",
       "    </tr>\n",
       "    <tr>\n",
       "      <th>1</th>\n",
       "      <td>107</td>\n",
       "      <td>75</td>\n",
       "    </tr>\n",
       "    <tr>\n",
       "      <th>2</th>\n",
       "      <td>494</td>\n",
       "      <td>76</td>\n",
       "    </tr>\n",
       "    <tr>\n",
       "      <th>3</th>\n",
       "      <td>522</td>\n",
       "      <td>77</td>\n",
       "    </tr>\n",
       "    <tr>\n",
       "      <th>4</th>\n",
       "      <td>518</td>\n",
       "      <td>77</td>\n",
       "    </tr>\n",
       "  </tbody>\n",
       "</table>\n",
       "</div>"
      ],
      "text/plain": [
       "   coupon_id  item_id\n",
       "0        105       37\n",
       "1        107       75\n",
       "2        494       76\n",
       "3        522       77\n",
       "4        518       77"
      ]
     },
     "execution_count": 20,
     "metadata": {},
     "output_type": "execute_result"
    }
   ],
   "source": [
    "coupon_item_mapping.head()"
   ]
  },
  {
   "cell_type": "code",
   "execution_count": 21,
   "metadata": {},
   "outputs": [
    {
     "data": {
      "text/html": [
       "<div>\n",
       "<style scoped>\n",
       "    .dataframe tbody tr th:only-of-type {\n",
       "        vertical-align: middle;\n",
       "    }\n",
       "\n",
       "    .dataframe tbody tr th {\n",
       "        vertical-align: top;\n",
       "    }\n",
       "\n",
       "    .dataframe thead th {\n",
       "        text-align: right;\n",
       "    }\n",
       "</style>\n",
       "<table border=\"1\" class=\"dataframe\">\n",
       "  <thead>\n",
       "    <tr style=\"text-align: right;\">\n",
       "      <th></th>\n",
       "      <th>item_id</th>\n",
       "      <th>brand</th>\n",
       "      <th>brand_type</th>\n",
       "      <th>category</th>\n",
       "    </tr>\n",
       "  </thead>\n",
       "  <tbody>\n",
       "    <tr>\n",
       "      <th>74061</th>\n",
       "      <td>74062</td>\n",
       "      <td>5490</td>\n",
       "      <td>Established</td>\n",
       "      <td>Pharmaceutical</td>\n",
       "    </tr>\n",
       "    <tr>\n",
       "      <th>74062</th>\n",
       "      <td>74063</td>\n",
       "      <td>5497</td>\n",
       "      <td>Established</td>\n",
       "      <td>Pharmaceutical</td>\n",
       "    </tr>\n",
       "    <tr>\n",
       "      <th>74063</th>\n",
       "      <td>74064</td>\n",
       "      <td>5497</td>\n",
       "      <td>Established</td>\n",
       "      <td>Pharmaceutical</td>\n",
       "    </tr>\n",
       "    <tr>\n",
       "      <th>74064</th>\n",
       "      <td>74065</td>\n",
       "      <td>5520</td>\n",
       "      <td>Established</td>\n",
       "      <td>Pharmaceutical</td>\n",
       "    </tr>\n",
       "    <tr>\n",
       "      <th>74065</th>\n",
       "      <td>74066</td>\n",
       "      <td>5194</td>\n",
       "      <td>Established</td>\n",
       "      <td>Grocery</td>\n",
       "    </tr>\n",
       "  </tbody>\n",
       "</table>\n",
       "</div>"
      ],
      "text/plain": [
       "       item_id  brand   brand_type        category\n",
       "74061    74062   5490  Established  Pharmaceutical\n",
       "74062    74063   5497  Established  Pharmaceutical\n",
       "74063    74064   5497  Established  Pharmaceutical\n",
       "74064    74065   5520  Established  Pharmaceutical\n",
       "74065    74066   5194  Established         Grocery"
      ]
     },
     "execution_count": 21,
     "metadata": {},
     "output_type": "execute_result"
    }
   ],
   "source": [
    "item_data.tail()"
   ]
  },
  {
   "cell_type": "code",
   "execution_count": 22,
   "metadata": {},
   "outputs": [
    {
     "data": {
      "text/html": [
       "<div>\n",
       "<style scoped>\n",
       "    .dataframe tbody tr th:only-of-type {\n",
       "        vertical-align: middle;\n",
       "    }\n",
       "\n",
       "    .dataframe tbody tr th {\n",
       "        vertical-align: top;\n",
       "    }\n",
       "\n",
       "    .dataframe thead th {\n",
       "        text-align: right;\n",
       "    }\n",
       "</style>\n",
       "<table border=\"1\" class=\"dataframe\">\n",
       "  <thead>\n",
       "    <tr style=\"text-align: right;\">\n",
       "      <th></th>\n",
       "      <th>id</th>\n",
       "      <th>campaign_id</th>\n",
       "      <th>coupon_id</th>\n",
       "      <th>customer_id</th>\n",
       "      <th>redemption_status</th>\n",
       "    </tr>\n",
       "  </thead>\n",
       "  <tbody>\n",
       "    <tr>\n",
       "      <th>0</th>\n",
       "      <td>1</td>\n",
       "      <td>13</td>\n",
       "      <td>27</td>\n",
       "      <td>1053</td>\n",
       "      <td>0</td>\n",
       "    </tr>\n",
       "    <tr>\n",
       "      <th>1</th>\n",
       "      <td>2</td>\n",
       "      <td>13</td>\n",
       "      <td>116</td>\n",
       "      <td>48</td>\n",
       "      <td>0</td>\n",
       "    </tr>\n",
       "    <tr>\n",
       "      <th>2</th>\n",
       "      <td>6</td>\n",
       "      <td>9</td>\n",
       "      <td>635</td>\n",
       "      <td>205</td>\n",
       "      <td>0</td>\n",
       "    </tr>\n",
       "    <tr>\n",
       "      <th>3</th>\n",
       "      <td>7</td>\n",
       "      <td>13</td>\n",
       "      <td>644</td>\n",
       "      <td>1050</td>\n",
       "      <td>0</td>\n",
       "    </tr>\n",
       "    <tr>\n",
       "      <th>4</th>\n",
       "      <td>9</td>\n",
       "      <td>8</td>\n",
       "      <td>1017</td>\n",
       "      <td>1489</td>\n",
       "      <td>0</td>\n",
       "    </tr>\n",
       "  </tbody>\n",
       "</table>\n",
       "</div>"
      ],
      "text/plain": [
       "   id  campaign_id  coupon_id  customer_id  redemption_status\n",
       "0   1           13         27         1053                  0\n",
       "1   2           13        116           48                  0\n",
       "2   6            9        635          205                  0\n",
       "3   7           13        644         1050                  0\n",
       "4   9            8       1017         1489                  0"
      ]
     },
     "execution_count": 22,
     "metadata": {},
     "output_type": "execute_result"
    }
   ],
   "source": [
    "train.head()"
   ]
  },
  {
   "cell_type": "code",
   "execution_count": 23,
   "metadata": {},
   "outputs": [
    {
     "data": {
      "text/plain": [
       "1582"
      ]
     },
     "execution_count": 23,
     "metadata": {},
     "output_type": "execute_result"
    }
   ],
   "source": [
    "customer_transaction_data.customer_id.nunique()"
   ]
  },
  {
   "cell_type": "code",
   "execution_count": 24,
   "metadata": {},
   "outputs": [
    {
     "data": {
      "text/plain": [
       "1428"
      ]
     },
     "execution_count": 24,
     "metadata": {},
     "output_type": "execute_result"
    }
   ],
   "source": [
    "train.customer_id.nunique()"
   ]
  },
  {
   "cell_type": "code",
   "execution_count": 25,
   "metadata": {},
   "outputs": [
    {
     "data": {
      "text/plain": [
       "1250"
      ]
     },
     "execution_count": 25,
     "metadata": {},
     "output_type": "execute_result"
    }
   ],
   "source": [
    "test.customer_id.nunique()"
   ]
  },
  {
   "cell_type": "code",
   "execution_count": 26,
   "metadata": {},
   "outputs": [
    {
     "data": {
      "text/plain": [
       "332"
      ]
     },
     "execution_count": 26,
     "metadata": {},
     "output_type": "execute_result"
    }
   ],
   "source": [
    "len(set(train.customer_id.unique())-set(test.customer_id.unique()))"
   ]
  },
  {
   "cell_type": "code",
   "execution_count": 27,
   "metadata": {},
   "outputs": [
    {
     "data": {
      "text/plain": [
       "154"
      ]
     },
     "execution_count": 27,
     "metadata": {},
     "output_type": "execute_result"
    }
   ],
   "source": [
    "len(set(test.customer_id.unique())-set(train.customer_id.unique()))"
   ]
  },
  {
   "cell_type": "code",
   "execution_count": 28,
   "metadata": {},
   "outputs": [
    {
     "data": {
      "text/plain": [
       "1582"
      ]
     },
     "execution_count": 28,
     "metadata": {},
     "output_type": "execute_result"
    }
   ],
   "source": [
    "len(set(train.customer_id.unique())|set(test.customer_id.unique()))"
   ]
  },
  {
   "cell_type": "code",
   "execution_count": 29,
   "metadata": {
    "scrolled": true
   },
   "outputs": [
    {
     "data": {
      "text/plain": [
       "array([1501,  857,   67, ...,  405, 1569,  991])"
      ]
     },
     "execution_count": 29,
     "metadata": {},
     "output_type": "execute_result"
    }
   ],
   "source": [
    "customer_transaction_data.customer_id.unique()"
   ]
  },
  {
   "cell_type": "markdown",
   "metadata": {},
   "source": [
    "### Each tablewise preprocessing"
   ]
  },
  {
   "cell_type": "code",
   "execution_count": 52,
   "metadata": {},
   "outputs": [
    {
     "name": "stdout",
     "output_type": "stream",
     "text": [
      "<class 'pandas.core.frame.DataFrame'>\n",
      "RangeIndex: 760 entries, 0 to 759\n",
      "Data columns (total 7 columns):\n",
      "customer_id       760 non-null int64\n",
      "age_range         760 non-null object\n",
      "marital_status    431 non-null object\n",
      "rented            760 non-null int64\n",
      "family_size       760 non-null object\n",
      "no_of_children    222 non-null object\n",
      "income_bracket    760 non-null int64\n",
      "dtypes: int64(3), object(4)\n",
      "memory usage: 41.6+ KB\n"
     ]
    }
   ],
   "source": [
    "customer_demographics.info()"
   ]
  },
  {
   "cell_type": "code",
   "execution_count": 51,
   "metadata": {},
   "outputs": [
    {
     "data": {
      "text/html": [
       "<div>\n",
       "<style scoped>\n",
       "    .dataframe tbody tr th:only-of-type {\n",
       "        vertical-align: middle;\n",
       "    }\n",
       "\n",
       "    .dataframe tbody tr th {\n",
       "        vertical-align: top;\n",
       "    }\n",
       "\n",
       "    .dataframe thead th {\n",
       "        text-align: right;\n",
       "    }\n",
       "</style>\n",
       "<table border=\"1\" class=\"dataframe\">\n",
       "  <thead>\n",
       "    <tr style=\"text-align: right;\">\n",
       "      <th></th>\n",
       "      <th>customer_id</th>\n",
       "      <th>age_range</th>\n",
       "      <th>marital_status</th>\n",
       "      <th>rented</th>\n",
       "      <th>family_size</th>\n",
       "      <th>no_of_children</th>\n",
       "      <th>income_bracket</th>\n",
       "    </tr>\n",
       "  </thead>\n",
       "  <tbody>\n",
       "    <tr>\n",
       "      <th>count</th>\n",
       "      <td>760.000000</td>\n",
       "      <td>760</td>\n",
       "      <td>431</td>\n",
       "      <td>760.000000</td>\n",
       "      <td>760</td>\n",
       "      <td>222</td>\n",
       "      <td>760.000000</td>\n",
       "    </tr>\n",
       "    <tr>\n",
       "      <th>unique</th>\n",
       "      <td>NaN</td>\n",
       "      <td>6</td>\n",
       "      <td>2</td>\n",
       "      <td>NaN</td>\n",
       "      <td>5</td>\n",
       "      <td>3</td>\n",
       "      <td>NaN</td>\n",
       "    </tr>\n",
       "    <tr>\n",
       "      <th>top</th>\n",
       "      <td>NaN</td>\n",
       "      <td>46-55</td>\n",
       "      <td>Married</td>\n",
       "      <td>NaN</td>\n",
       "      <td>2</td>\n",
       "      <td>1</td>\n",
       "      <td>NaN</td>\n",
       "    </tr>\n",
       "    <tr>\n",
       "      <th>freq</th>\n",
       "      <td>NaN</td>\n",
       "      <td>271</td>\n",
       "      <td>317</td>\n",
       "      <td>NaN</td>\n",
       "      <td>303</td>\n",
       "      <td>107</td>\n",
       "      <td>NaN</td>\n",
       "    </tr>\n",
       "    <tr>\n",
       "      <th>mean</th>\n",
       "      <td>779.201316</td>\n",
       "      <td>NaN</td>\n",
       "      <td>NaN</td>\n",
       "      <td>0.053947</td>\n",
       "      <td>NaN</td>\n",
       "      <td>NaN</td>\n",
       "      <td>4.715789</td>\n",
       "    </tr>\n",
       "    <tr>\n",
       "      <th>std</th>\n",
       "      <td>459.754429</td>\n",
       "      <td>NaN</td>\n",
       "      <td>NaN</td>\n",
       "      <td>0.226063</td>\n",
       "      <td>NaN</td>\n",
       "      <td>NaN</td>\n",
       "      <td>2.258817</td>\n",
       "    </tr>\n",
       "    <tr>\n",
       "      <th>min</th>\n",
       "      <td>1.000000</td>\n",
       "      <td>NaN</td>\n",
       "      <td>NaN</td>\n",
       "      <td>0.000000</td>\n",
       "      <td>NaN</td>\n",
       "      <td>NaN</td>\n",
       "      <td>1.000000</td>\n",
       "    </tr>\n",
       "    <tr>\n",
       "      <th>25%</th>\n",
       "      <td>382.750000</td>\n",
       "      <td>NaN</td>\n",
       "      <td>NaN</td>\n",
       "      <td>0.000000</td>\n",
       "      <td>NaN</td>\n",
       "      <td>NaN</td>\n",
       "      <td>3.000000</td>\n",
       "    </tr>\n",
       "    <tr>\n",
       "      <th>50%</th>\n",
       "      <td>774.500000</td>\n",
       "      <td>NaN</td>\n",
       "      <td>NaN</td>\n",
       "      <td>0.000000</td>\n",
       "      <td>NaN</td>\n",
       "      <td>NaN</td>\n",
       "      <td>5.000000</td>\n",
       "    </tr>\n",
       "    <tr>\n",
       "      <th>75%</th>\n",
       "      <td>1187.250000</td>\n",
       "      <td>NaN</td>\n",
       "      <td>NaN</td>\n",
       "      <td>0.000000</td>\n",
       "      <td>NaN</td>\n",
       "      <td>NaN</td>\n",
       "      <td>6.000000</td>\n",
       "    </tr>\n",
       "    <tr>\n",
       "      <th>max</th>\n",
       "      <td>1581.000000</td>\n",
       "      <td>NaN</td>\n",
       "      <td>NaN</td>\n",
       "      <td>1.000000</td>\n",
       "      <td>NaN</td>\n",
       "      <td>NaN</td>\n",
       "      <td>12.000000</td>\n",
       "    </tr>\n",
       "  </tbody>\n",
       "</table>\n",
       "</div>"
      ],
      "text/plain": [
       "        customer_id age_range marital_status      rented family_size  \\\n",
       "count    760.000000       760            431  760.000000         760   \n",
       "unique          NaN         6              2         NaN           5   \n",
       "top             NaN     46-55        Married         NaN           2   \n",
       "freq            NaN       271            317         NaN         303   \n",
       "mean     779.201316       NaN            NaN    0.053947         NaN   \n",
       "std      459.754429       NaN            NaN    0.226063         NaN   \n",
       "min        1.000000       NaN            NaN    0.000000         NaN   \n",
       "25%      382.750000       NaN            NaN    0.000000         NaN   \n",
       "50%      774.500000       NaN            NaN    0.000000         NaN   \n",
       "75%     1187.250000       NaN            NaN    0.000000         NaN   \n",
       "max     1581.000000       NaN            NaN    1.000000         NaN   \n",
       "\n",
       "       no_of_children  income_bracket  \n",
       "count             222      760.000000  \n",
       "unique              3             NaN  \n",
       "top                 1             NaN  \n",
       "freq              107             NaN  \n",
       "mean              NaN        4.715789  \n",
       "std               NaN        2.258817  \n",
       "min               NaN        1.000000  \n",
       "25%               NaN        3.000000  \n",
       "50%               NaN        5.000000  \n",
       "75%               NaN        6.000000  \n",
       "max               NaN       12.000000  "
      ]
     },
     "execution_count": 51,
     "metadata": {},
     "output_type": "execute_result"
    }
   ],
   "source": [
    "customer_demographics.describe(include='all')"
   ]
  },
  {
   "cell_type": "code",
   "execution_count": 55,
   "metadata": {},
   "outputs": [],
   "source": [
    "demographics = pd.concat([customer_demographics,pd.get_dummies(customer_demographics.age_range)],axis=1)"
   ]
  },
  {
   "cell_type": "code",
   "execution_count": 64,
   "metadata": {},
   "outputs": [],
   "source": [
    "demographics = pd.concat([demographics,pd.get_dummies(demographics.no_of_children).rename(columns = {'1':'single_child','2':'two_children','3+':'more_than_two_children'})],axis=1)"
   ]
  },
  {
   "cell_type": "code",
   "execution_count": 65,
   "metadata": {},
   "outputs": [
    {
     "name": "stdout",
     "output_type": "stream",
     "text": [
      "<class 'pandas.core.frame.DataFrame'>\n",
      "RangeIndex: 760 entries, 0 to 759\n",
      "Data columns (total 16 columns):\n",
      "customer_id               760 non-null int64\n",
      "age_range                 760 non-null object\n",
      "marital_status            431 non-null object\n",
      "rented                    760 non-null int64\n",
      "family_size               760 non-null object\n",
      "no_of_children            222 non-null object\n",
      "income_bracket            760 non-null int64\n",
      "18-25                     760 non-null uint8\n",
      "26-35                     760 non-null uint8\n",
      "36-45                     760 non-null uint8\n",
      "46-55                     760 non-null uint8\n",
      "56-70                     760 non-null uint8\n",
      "70+                       760 non-null uint8\n",
      "single_child              760 non-null uint8\n",
      "two_children              760 non-null uint8\n",
      "more_than_two_children    760 non-null uint8\n",
      "dtypes: int64(3), object(4), uint8(9)\n",
      "memory usage: 48.3+ KB\n"
     ]
    }
   ],
   "source": [
    "demographics.info()"
   ]
  },
  {
   "cell_type": "code",
   "execution_count": 66,
   "metadata": {},
   "outputs": [
    {
     "data": {
      "text/plain": [
       "Married    317\n",
       "Single     114\n",
       "Name: marital_status, dtype: int64"
      ]
     },
     "execution_count": 66,
     "metadata": {},
     "output_type": "execute_result"
    }
   ],
   "source": [
    "demographics.marital_status.value_counts()"
   ]
  },
  {
   "cell_type": "code",
   "execution_count": 74,
   "metadata": {},
   "outputs": [
    {
     "data": {
      "text/plain": [
       "2     303\n",
       "1     248\n",
       "3     104\n",
       "5+     57\n",
       "4      48\n",
       "Name: family_size, dtype: int64"
      ]
     },
     "execution_count": 74,
     "metadata": {},
     "output_type": "execute_result"
    }
   ],
   "source": [
    "demographics.family_size.value_counts()"
   ]
  },
  {
   "cell_type": "code",
   "execution_count": 77,
   "metadata": {},
   "outputs": [],
   "source": [
    "demographics.loc[demographics.family_size=='5+','5+_family_size']=1"
   ]
  },
  {
   "cell_type": "code",
   "execution_count": 80,
   "metadata": {},
   "outputs": [],
   "source": [
    "demographics.loc[demographics.family_size=='5+','family_size']=5"
   ]
  },
  {
   "cell_type": "code",
   "execution_count": 82,
   "metadata": {},
   "outputs": [],
   "source": [
    "demographics.family_size = demographics.family_size.astype(int)"
   ]
  },
  {
   "cell_type": "code",
   "execution_count": 71,
   "metadata": {},
   "outputs": [],
   "source": [
    "demographics.rented = demographics.rented.astype(int)"
   ]
  },
  {
   "cell_type": "code",
   "execution_count": 83,
   "metadata": {},
   "outputs": [
    {
     "name": "stdout",
     "output_type": "stream",
     "text": [
      "<class 'pandas.core.frame.DataFrame'>\n",
      "RangeIndex: 760 entries, 0 to 759\n",
      "Data columns (total 17 columns):\n",
      "customer_id               760 non-null int64\n",
      "rented                    760 non-null int64\n",
      "family_size               760 non-null int64\n",
      "income_bracket            760 non-null int64\n",
      "18-25                     760 non-null uint8\n",
      "26-35                     760 non-null uint8\n",
      "36-45                     760 non-null uint8\n",
      "46-55                     760 non-null uint8\n",
      "56-70                     760 non-null uint8\n",
      "70+                       760 non-null uint8\n",
      "single_child              760 non-null uint8\n",
      "two_children              760 non-null uint8\n",
      "more_than_two_children    760 non-null uint8\n",
      "Married                   760 non-null uint8\n",
      "Single                    760 non-null uint8\n",
      "5+_family_size            57 non-null float64\n",
      "demographics              57 non-null float64\n",
      "dtypes: float64(2), int64(4), uint8(11)\n",
      "memory usage: 43.9 KB\n"
     ]
    }
   ],
   "source": [
    "demographics.drop(['age_range','marital_status','no_of_children'],axis=1).info()"
   ]
  },
  {
   "cell_type": "code",
   "execution_count": 86,
   "metadata": {},
   "outputs": [],
   "source": [
    "demographics = demographics.drop(['age_range','marital_status','no_of_children'],axis=1)"
   ]
  },
  {
   "cell_type": "code",
   "execution_count": 87,
   "metadata": {},
   "outputs": [
    {
     "name": "stdout",
     "output_type": "stream",
     "text": [
      "<class 'pandas.core.frame.DataFrame'>\n",
      "RangeIndex: 760 entries, 0 to 759\n",
      "Data columns (total 16 columns):\n",
      "customer_id               760 non-null int64\n",
      "rented                    760 non-null int64\n",
      "family_size               760 non-null int64\n",
      "income_bracket            760 non-null int64\n",
      "18-25                     760 non-null uint8\n",
      "26-35                     760 non-null uint8\n",
      "36-45                     760 non-null uint8\n",
      "46-55                     760 non-null uint8\n",
      "56-70                     760 non-null uint8\n",
      "70+                       760 non-null uint8\n",
      "single_child              760 non-null uint8\n",
      "two_children              760 non-null uint8\n",
      "more_than_two_children    760 non-null uint8\n",
      "Married                   760 non-null uint8\n",
      "Single                    760 non-null uint8\n",
      "5+_family_size            57 non-null float64\n",
      "dtypes: float64(1), int64(4), uint8(11)\n",
      "memory usage: 37.9 KB\n"
     ]
    }
   ],
   "source": [
    "demographics.info()"
   ]
  },
  {
   "cell_type": "code",
   "execution_count": 88,
   "metadata": {},
   "outputs": [],
   "source": [
    "demographics.to_csv('Processed_demographics_data.csv',index=False)"
   ]
  },
  {
   "cell_type": "code",
   "execution_count": null,
   "metadata": {},
   "outputs": [],
   "source": []
  },
  {
   "cell_type": "code",
   "execution_count": 89,
   "metadata": {},
   "outputs": [
    {
     "name": "stdout",
     "output_type": "stream",
     "text": [
      "<class 'pandas.core.frame.DataFrame'>\n",
      "RangeIndex: 74066 entries, 0 to 74065\n",
      "Data columns (total 4 columns):\n",
      "item_id       74066 non-null int64\n",
      "brand         74066 non-null int64\n",
      "brand_type    74066 non-null object\n",
      "category      74066 non-null object\n",
      "dtypes: int64(2), object(2)\n",
      "memory usage: 2.3+ MB\n"
     ]
    }
   ],
   "source": [
    "item_data.info()"
   ]
  },
  {
   "cell_type": "code",
   "execution_count": 90,
   "metadata": {},
   "outputs": [
    {
     "data": {
      "text/html": [
       "<div>\n",
       "<style scoped>\n",
       "    .dataframe tbody tr th:only-of-type {\n",
       "        vertical-align: middle;\n",
       "    }\n",
       "\n",
       "    .dataframe tbody tr th {\n",
       "        vertical-align: top;\n",
       "    }\n",
       "\n",
       "    .dataframe thead th {\n",
       "        text-align: right;\n",
       "    }\n",
       "</style>\n",
       "<table border=\"1\" class=\"dataframe\">\n",
       "  <thead>\n",
       "    <tr style=\"text-align: right;\">\n",
       "      <th></th>\n",
       "      <th>item_id</th>\n",
       "      <th>brand</th>\n",
       "      <th>brand_type</th>\n",
       "      <th>category</th>\n",
       "    </tr>\n",
       "  </thead>\n",
       "  <tbody>\n",
       "    <tr>\n",
       "      <th>count</th>\n",
       "      <td>74066.000000</td>\n",
       "      <td>74066.000000</td>\n",
       "      <td>74066</td>\n",
       "      <td>74066</td>\n",
       "    </tr>\n",
       "    <tr>\n",
       "      <th>unique</th>\n",
       "      <td>NaN</td>\n",
       "      <td>NaN</td>\n",
       "      <td>2</td>\n",
       "      <td>19</td>\n",
       "    </tr>\n",
       "    <tr>\n",
       "      <th>top</th>\n",
       "      <td>NaN</td>\n",
       "      <td>NaN</td>\n",
       "      <td>Established</td>\n",
       "      <td>Grocery</td>\n",
       "    </tr>\n",
       "    <tr>\n",
       "      <th>freq</th>\n",
       "      <td>NaN</td>\n",
       "      <td>NaN</td>\n",
       "      <td>62842</td>\n",
       "      <td>32448</td>\n",
       "    </tr>\n",
       "    <tr>\n",
       "      <th>mean</th>\n",
       "      <td>37033.500000</td>\n",
       "      <td>1485.560055</td>\n",
       "      <td>NaN</td>\n",
       "      <td>NaN</td>\n",
       "    </tr>\n",
       "    <tr>\n",
       "      <th>std</th>\n",
       "      <td>21381.156856</td>\n",
       "      <td>1537.385673</td>\n",
       "      <td>NaN</td>\n",
       "      <td>NaN</td>\n",
       "    </tr>\n",
       "    <tr>\n",
       "      <th>min</th>\n",
       "      <td>1.000000</td>\n",
       "      <td>1.000000</td>\n",
       "      <td>NaN</td>\n",
       "      <td>NaN</td>\n",
       "    </tr>\n",
       "    <tr>\n",
       "      <th>25%</th>\n",
       "      <td>18517.250000</td>\n",
       "      <td>278.000000</td>\n",
       "      <td>NaN</td>\n",
       "      <td>NaN</td>\n",
       "    </tr>\n",
       "    <tr>\n",
       "      <th>50%</th>\n",
       "      <td>37033.500000</td>\n",
       "      <td>978.000000</td>\n",
       "      <td>NaN</td>\n",
       "      <td>NaN</td>\n",
       "    </tr>\n",
       "    <tr>\n",
       "      <th>75%</th>\n",
       "      <td>55549.750000</td>\n",
       "      <td>2013.000000</td>\n",
       "      <td>NaN</td>\n",
       "      <td>NaN</td>\n",
       "    </tr>\n",
       "    <tr>\n",
       "      <th>max</th>\n",
       "      <td>74066.000000</td>\n",
       "      <td>5528.000000</td>\n",
       "      <td>NaN</td>\n",
       "      <td>NaN</td>\n",
       "    </tr>\n",
       "  </tbody>\n",
       "</table>\n",
       "</div>"
      ],
      "text/plain": [
       "             item_id         brand   brand_type category\n",
       "count   74066.000000  74066.000000        74066    74066\n",
       "unique           NaN           NaN            2       19\n",
       "top              NaN           NaN  Established  Grocery\n",
       "freq             NaN           NaN        62842    32448\n",
       "mean    37033.500000   1485.560055          NaN      NaN\n",
       "std     21381.156856   1537.385673          NaN      NaN\n",
       "min         1.000000      1.000000          NaN      NaN\n",
       "25%     18517.250000    278.000000          NaN      NaN\n",
       "50%     37033.500000    978.000000          NaN      NaN\n",
       "75%     55549.750000   2013.000000          NaN      NaN\n",
       "max     74066.000000   5528.000000          NaN      NaN"
      ]
     },
     "execution_count": 90,
     "metadata": {},
     "output_type": "execute_result"
    }
   ],
   "source": [
    "item_data.describe(include='all')"
   ]
  },
  {
   "cell_type": "code",
   "execution_count": 118,
   "metadata": {},
   "outputs": [
    {
     "data": {
      "text/plain": [
       "74066"
      ]
     },
     "execution_count": 118,
     "metadata": {},
     "output_type": "execute_result"
    }
   ],
   "source": [
    "item_data.item_id.nunique()"
   ]
  },
  {
   "cell_type": "code",
   "execution_count": 101,
   "metadata": {},
   "outputs": [
    {
     "data": {
      "text/plain": [
       "5528"
      ]
     },
     "execution_count": 101,
     "metadata": {},
     "output_type": "execute_result"
    }
   ],
   "source": [
    "item_data.brand.nunique()"
   ]
  },
  {
   "cell_type": "code",
   "execution_count": 113,
   "metadata": {},
   "outputs": [],
   "source": [
    "brand_data = item_data.groupby(['brand'],as_index=False).agg({\n",
    "    'item_id':'count',\n",
    "    'category':'nunique'\n",
    "}).rename(columns= {'item_id':'item_count',\n",
    "                    'category':'category_count'})"
   ]
  },
  {
   "cell_type": "code",
   "execution_count": 93,
   "metadata": {},
   "outputs": [],
   "source": [
    "item_data.loc[item_data.brand_type=='Established','brand_type'] = 1"
   ]
  },
  {
   "cell_type": "code",
   "execution_count": 95,
   "metadata": {},
   "outputs": [],
   "source": [
    "item_data.loc[item_data.brand_type=='Local','brand_type'] = 0"
   ]
  },
  {
   "cell_type": "code",
   "execution_count": 116,
   "metadata": {},
   "outputs": [],
   "source": [
    "item_data = item_data.merge(brand_data,on='brand')"
   ]
  },
  {
   "cell_type": "code",
   "execution_count": 121,
   "metadata": {},
   "outputs": [],
   "source": [
    "item_data = pd.concat([item_data,pd.get_dummies(item_data.category)],axis=1)"
   ]
  },
  {
   "cell_type": "code",
   "execution_count": 122,
   "metadata": {},
   "outputs": [],
   "source": [
    "del item_data['category']"
   ]
  },
  {
   "cell_type": "code",
   "execution_count": 125,
   "metadata": {},
   "outputs": [],
   "source": [
    "item_data.to_csv('processed_item_date.csv',index= False)"
   ]
  },
  {
   "cell_type": "code",
   "execution_count": 126,
   "metadata": {},
   "outputs": [
    {
     "data": {
      "text/html": [
       "<div>\n",
       "<style scoped>\n",
       "    .dataframe tbody tr th:only-of-type {\n",
       "        vertical-align: middle;\n",
       "    }\n",
       "\n",
       "    .dataframe tbody tr th {\n",
       "        vertical-align: top;\n",
       "    }\n",
       "\n",
       "    .dataframe thead th {\n",
       "        text-align: right;\n",
       "    }\n",
       "</style>\n",
       "<table border=\"1\" class=\"dataframe\">\n",
       "  <thead>\n",
       "    <tr style=\"text-align: right;\">\n",
       "      <th></th>\n",
       "      <th>date</th>\n",
       "      <th>customer_id</th>\n",
       "      <th>item_id</th>\n",
       "      <th>quantity</th>\n",
       "      <th>selling_price</th>\n",
       "      <th>other_discount</th>\n",
       "      <th>coupon_discount</th>\n",
       "    </tr>\n",
       "  </thead>\n",
       "  <tbody>\n",
       "    <tr>\n",
       "      <th>count</th>\n",
       "      <td>1324566</td>\n",
       "      <td>1.324566e+06</td>\n",
       "      <td>1.324566e+06</td>\n",
       "      <td>1.324566e+06</td>\n",
       "      <td>1.324566e+06</td>\n",
       "      <td>1.324566e+06</td>\n",
       "      <td>1.324566e+06</td>\n",
       "    </tr>\n",
       "    <tr>\n",
       "      <th>unique</th>\n",
       "      <td>549</td>\n",
       "      <td>NaN</td>\n",
       "      <td>NaN</td>\n",
       "      <td>NaN</td>\n",
       "      <td>NaN</td>\n",
       "      <td>NaN</td>\n",
       "      <td>NaN</td>\n",
       "    </tr>\n",
       "    <tr>\n",
       "      <th>top</th>\n",
       "      <td>2012-09-03</td>\n",
       "      <td>NaN</td>\n",
       "      <td>NaN</td>\n",
       "      <td>NaN</td>\n",
       "      <td>NaN</td>\n",
       "      <td>NaN</td>\n",
       "      <td>NaN</td>\n",
       "    </tr>\n",
       "    <tr>\n",
       "      <th>freq</th>\n",
       "      <td>4753</td>\n",
       "      <td>NaN</td>\n",
       "      <td>NaN</td>\n",
       "      <td>NaN</td>\n",
       "      <td>NaN</td>\n",
       "      <td>NaN</td>\n",
       "      <td>NaN</td>\n",
       "    </tr>\n",
       "    <tr>\n",
       "      <th>mean</th>\n",
       "      <td>NaN</td>\n",
       "      <td>8.040020e+02</td>\n",
       "      <td>2.951903e+04</td>\n",
       "      <td>1.306633e+02</td>\n",
       "      <td>1.146036e+02</td>\n",
       "      <td>-1.776871e+01</td>\n",
       "      <td>-5.948983e-01</td>\n",
       "    </tr>\n",
       "    <tr>\n",
       "      <th>std</th>\n",
       "      <td>NaN</td>\n",
       "      <td>4.573363e+02</td>\n",
       "      <td>1.790806e+04</td>\n",
       "      <td>1.311545e+03</td>\n",
       "      <td>1.529053e+02</td>\n",
       "      <td>3.788867e+01</td>\n",
       "      <td>7.069367e+00</td>\n",
       "    </tr>\n",
       "    <tr>\n",
       "      <th>min</th>\n",
       "      <td>NaN</td>\n",
       "      <td>1.000000e+00</td>\n",
       "      <td>1.000000e+00</td>\n",
       "      <td>1.000000e+00</td>\n",
       "      <td>3.600000e-01</td>\n",
       "      <td>-3.120310e+03</td>\n",
       "      <td>-1.992230e+03</td>\n",
       "    </tr>\n",
       "    <tr>\n",
       "      <th>25%</th>\n",
       "      <td>NaN</td>\n",
       "      <td>4.180000e+02</td>\n",
       "      <td>1.468400e+04</td>\n",
       "      <td>1.000000e+00</td>\n",
       "      <td>4.916000e+01</td>\n",
       "      <td>-2.315000e+01</td>\n",
       "      <td>0.000000e+00</td>\n",
       "    </tr>\n",
       "    <tr>\n",
       "      <th>50%</th>\n",
       "      <td>NaN</td>\n",
       "      <td>8.010000e+02</td>\n",
       "      <td>2.659700e+04</td>\n",
       "      <td>1.000000e+00</td>\n",
       "      <td>7.801000e+01</td>\n",
       "      <td>-1.780000e+00</td>\n",
       "      <td>0.000000e+00</td>\n",
       "    </tr>\n",
       "    <tr>\n",
       "      <th>75%</th>\n",
       "      <td>NaN</td>\n",
       "      <td>1.198000e+03</td>\n",
       "      <td>4.240575e+04</td>\n",
       "      <td>1.000000e+00</td>\n",
       "      <td>1.243100e+02</td>\n",
       "      <td>0.000000e+00</td>\n",
       "      <td>0.000000e+00</td>\n",
       "    </tr>\n",
       "    <tr>\n",
       "      <th>max</th>\n",
       "      <td>NaN</td>\n",
       "      <td>1.582000e+03</td>\n",
       "      <td>7.406600e+04</td>\n",
       "      <td>8.963800e+04</td>\n",
       "      <td>1.780964e+04</td>\n",
       "      <td>0.000000e+00</td>\n",
       "      <td>0.000000e+00</td>\n",
       "    </tr>\n",
       "  </tbody>\n",
       "</table>\n",
       "</div>"
      ],
      "text/plain": [
       "              date   customer_id       item_id      quantity  selling_price  \\\n",
       "count      1324566  1.324566e+06  1.324566e+06  1.324566e+06   1.324566e+06   \n",
       "unique         549           NaN           NaN           NaN            NaN   \n",
       "top     2012-09-03           NaN           NaN           NaN            NaN   \n",
       "freq          4753           NaN           NaN           NaN            NaN   \n",
       "mean           NaN  8.040020e+02  2.951903e+04  1.306633e+02   1.146036e+02   \n",
       "std            NaN  4.573363e+02  1.790806e+04  1.311545e+03   1.529053e+02   \n",
       "min            NaN  1.000000e+00  1.000000e+00  1.000000e+00   3.600000e-01   \n",
       "25%            NaN  4.180000e+02  1.468400e+04  1.000000e+00   4.916000e+01   \n",
       "50%            NaN  8.010000e+02  2.659700e+04  1.000000e+00   7.801000e+01   \n",
       "75%            NaN  1.198000e+03  4.240575e+04  1.000000e+00   1.243100e+02   \n",
       "max            NaN  1.582000e+03  7.406600e+04  8.963800e+04   1.780964e+04   \n",
       "\n",
       "        other_discount  coupon_discount  \n",
       "count     1.324566e+06     1.324566e+06  \n",
       "unique             NaN              NaN  \n",
       "top                NaN              NaN  \n",
       "freq               NaN              NaN  \n",
       "mean     -1.776871e+01    -5.948983e-01  \n",
       "std       3.788867e+01     7.069367e+00  \n",
       "min      -3.120310e+03    -1.992230e+03  \n",
       "25%      -2.315000e+01     0.000000e+00  \n",
       "50%      -1.780000e+00     0.000000e+00  \n",
       "75%       0.000000e+00     0.000000e+00  \n",
       "max       0.000000e+00     0.000000e+00  "
      ]
     },
     "execution_count": 126,
     "metadata": {},
     "output_type": "execute_result"
    }
   ],
   "source": [
    "customer_transaction_data.describe(include='all')"
   ]
  },
  {
   "cell_type": "code",
   "execution_count": 133,
   "metadata": {},
   "outputs": [
    {
     "data": {
      "text/plain": [
       "74063"
      ]
     },
     "execution_count": 133,
     "metadata": {},
     "output_type": "execute_result"
    }
   ],
   "source": [
    "customer_transaction_data.item_id.nunique()"
   ]
  },
  {
   "cell_type": "code",
   "execution_count": 134,
   "metadata": {},
   "outputs": [
    {
     "data": {
      "text/plain": [
       "89638"
      ]
     },
     "execution_count": 134,
     "metadata": {},
     "output_type": "execute_result"
    }
   ],
   "source": [
    "customer_transaction_data.quantity.max()"
   ]
  },
  {
   "cell_type": "code",
   "execution_count": 135,
   "metadata": {},
   "outputs": [
    {
     "data": {
      "text/plain": [
       "1"
      ]
     },
     "execution_count": 135,
     "metadata": {},
     "output_type": "execute_result"
    }
   ],
   "source": [
    "customer_transaction_data.quantity.min()"
   ]
  },
  {
   "cell_type": "code",
   "execution_count": 136,
   "metadata": {},
   "outputs": [
    {
     "data": {
      "text/plain": [
       "17809.64"
      ]
     },
     "execution_count": 136,
     "metadata": {},
     "output_type": "execute_result"
    }
   ],
   "source": [
    "customer_transaction_data.selling_price.max()"
   ]
  },
  {
   "cell_type": "code",
   "execution_count": 142,
   "metadata": {},
   "outputs": [
    {
     "data": {
      "text/plain": [
       "16028.64"
      ]
     },
     "execution_count": 142,
     "metadata": {},
     "output_type": "execute_result"
    }
   ],
   "source": [
    "#customer_transaction_data['discount_price']\n",
    "(customer_transaction_data.selling_price+customer_transaction_data.other_discount).max()"
   ]
  },
  {
   "cell_type": "code",
   "execution_count": 144,
   "metadata": {},
   "outputs": [
    {
     "data": {
      "text/plain": [
       "-1424.44"
      ]
     },
     "execution_count": 144,
     "metadata": {},
     "output_type": "execute_result"
    }
   ],
   "source": [
    "#customer_transaction_data['discount_price']\n",
    "(customer_transaction_data.selling_price+customer_transaction_data.other_discount).min()"
   ]
  },
  {
   "cell_type": "code",
   "execution_count": 145,
   "metadata": {},
   "outputs": [
    {
     "data": {
      "text/html": [
       "<div>\n",
       "<style scoped>\n",
       "    .dataframe tbody tr th:only-of-type {\n",
       "        vertical-align: middle;\n",
       "    }\n",
       "\n",
       "    .dataframe tbody tr th {\n",
       "        vertical-align: top;\n",
       "    }\n",
       "\n",
       "    .dataframe thead th {\n",
       "        text-align: right;\n",
       "    }\n",
       "</style>\n",
       "<table border=\"1\" class=\"dataframe\">\n",
       "  <thead>\n",
       "    <tr style=\"text-align: right;\">\n",
       "      <th></th>\n",
       "      <th>date</th>\n",
       "      <th>customer_id</th>\n",
       "      <th>item_id</th>\n",
       "      <th>quantity</th>\n",
       "      <th>selling_price</th>\n",
       "      <th>other_discount</th>\n",
       "      <th>coupon_discount</th>\n",
       "    </tr>\n",
       "  </thead>\n",
       "  <tbody>\n",
       "    <tr>\n",
       "      <th>627988</th>\n",
       "      <td>2012-10-24</td>\n",
       "      <td>195</td>\n",
       "      <td>66406</td>\n",
       "      <td>1</td>\n",
       "      <td>712.4</td>\n",
       "      <td>-2136.84</td>\n",
       "      <td>0.0</td>\n",
       "    </tr>\n",
       "  </tbody>\n",
       "</table>\n",
       "</div>"
      ],
      "text/plain": [
       "              date  customer_id  item_id  quantity  selling_price  \\\n",
       "627988  2012-10-24          195    66406         1          712.4   \n",
       "\n",
       "        other_discount  coupon_discount  \n",
       "627988        -2136.84              0.0  "
      ]
     },
     "execution_count": 145,
     "metadata": {},
     "output_type": "execute_result"
    }
   ],
   "source": [
    "#customer_transaction_data['discount_price']\n",
    "customer_transaction_data[(customer_transaction_data.selling_price+customer_transaction_data.other_discount)==-1424.44]"
   ]
  },
  {
   "cell_type": "code",
   "execution_count": 165,
   "metadata": {},
   "outputs": [],
   "source": [
    "customer_transaction_data.date = pd.to_datetime(customer_transaction_data.date)"
   ]
  },
  {
   "cell_type": "code",
   "execution_count": 167,
   "metadata": {},
   "outputs": [],
   "source": [
    "item_based_customer_transaction = customer_transaction_data.groupby(['customer_id','item_id'],as_index=False).agg({\n",
    "    'date':'max',\n",
    "    'quantity':'sum',\n",
    "    'selling_price':'sum',\n",
    "    'other_discount':'mean',\n",
    "    'coupon_discount':'mean'\n",
    "})"
   ]
  },
  {
   "cell_type": "code",
   "execution_count": 168,
   "metadata": {},
   "outputs": [],
   "source": [
    "item_based_customer_transaction.to_csv('item_based_customer_transaction.csv',index=False)"
   ]
  },
  {
   "cell_type": "code",
   "execution_count": 147,
   "metadata": {},
   "outputs": [
    {
     "data": {
      "text/plain": [
       "49009    13540\n",
       "34047     6308\n",
       "13174     3879\n",
       "45502     3292\n",
       "29847     2276\n",
       "18156     2226\n",
       "28633     2152\n",
       "32991     2101\n",
       "9281      2007\n",
       "8525      1922\n",
       "6958      1883\n",
       "53517     1755\n",
       "5798      1747\n",
       "13774     1630\n",
       "45372     1627\n",
       "45539     1526\n",
       "30518     1507\n",
       "57632     1500\n",
       "53521     1500\n",
       "32573     1463\n",
       "27054     1409\n",
       "21813     1340\n",
       "10673     1323\n",
       "30293     1309\n",
       "19632     1304\n",
       "14172     1247\n",
       "28939     1181\n",
       "57921     1178\n",
       "30851     1172\n",
       "25377     1169\n",
       "         ...  \n",
       "46619        1\n",
       "42521        1\n",
       "12809        1\n",
       "44568        1\n",
       "54807        1\n",
       "52756        1\n",
       "62995        1\n",
       "58897        1\n",
       "60944        1\n",
       "1549         1\n",
       "16902        1\n",
       "12808        1\n",
       "55829        1\n",
       "47641        1\n",
       "18950        1\n",
       "31232        1\n",
       "69167        1\n",
       "73261        1\n",
       "40477        1\n",
       "38428        1\n",
       "62992        1\n",
       "1550         1\n",
       "7693         1\n",
       "9738         1\n",
       "28163        1\n",
       "26114        1\n",
       "66094        1\n",
       "35359        1\n",
       "41498        1\n",
       "2049         1\n",
       "Name: item_id, Length: 74063, dtype: int64"
      ]
     },
     "execution_count": 147,
     "metadata": {},
     "output_type": "execute_result"
    }
   ],
   "source": [
    "customer_transaction_data.item_id.value_counts()"
   ]
  },
  {
   "cell_type": "code",
   "execution_count": 150,
   "metadata": {},
   "outputs": [
    {
     "data": {
      "text/plain": [
       "(21286, 7)"
      ]
     },
     "execution_count": 150,
     "metadata": {},
     "output_type": "execute_result"
    }
   ],
   "source": [
    "customer_transaction_data[customer_transaction_data.coupon_discount!=0].shape"
   ]
  },
  {
   "cell_type": "code",
   "execution_count": 153,
   "metadata": {},
   "outputs": [
    {
     "data": {
      "text/plain": [
       "78369"
      ]
     },
     "execution_count": 153,
     "metadata": {},
     "output_type": "execute_result"
    }
   ],
   "source": [
    "train.campaign_id.count()"
   ]
  },
  {
   "cell_type": "code",
   "execution_count": 154,
   "metadata": {},
   "outputs": [
    {
     "data": {
      "text/plain": [
       "18"
      ]
     },
     "execution_count": 154,
     "metadata": {},
     "output_type": "execute_result"
    }
   ],
   "source": [
    "train.campaign_id.nunique()"
   ]
  },
  {
   "cell_type": "code",
   "execution_count": 143,
   "metadata": {},
   "outputs": [
    {
     "data": {
      "text/plain": [
       "Timestamp('2012-01-02 00:00:00')"
      ]
     },
     "execution_count": 143,
     "metadata": {},
     "output_type": "execute_result"
    }
   ],
   "source": [
    "pd.to_datetime(customer_transaction_data.date).min()"
   ]
  },
  {
   "cell_type": "code",
   "execution_count": 132,
   "metadata": {},
   "outputs": [
    {
     "data": {
      "text/plain": [
       "0    2013-12-20\n",
       "1    2013-11-22\n",
       "2    2013-11-16\n",
       "3    2013-11-15\n",
       "4    2013-10-18\n",
       "5    2013-10-18\n",
       "6    2013-04-10\n",
       "7    2013-09-27\n",
       "8    2013-08-30\n",
       "9    2013-08-16\n",
       "10   2013-05-07\n",
       "11   2013-07-06\n",
       "12   2013-05-24\n",
       "13   2013-10-05\n",
       "14   2013-12-04\n",
       "15   2013-05-04\n",
       "16   2013-08-03\n",
       "17   2013-01-03\n",
       "18   2013-02-16\n",
       "19   2013-02-15\n",
       "20   2013-08-02\n",
       "21   2013-01-18\n",
       "22   2013-01-18\n",
       "23   2013-04-01\n",
       "24   2012-11-30\n",
       "25   2012-11-16\n",
       "26   2012-10-27\n",
       "27   2012-09-21\n",
       "Name: end_date, dtype: datetime64[ns]"
      ]
     },
     "execution_count": 132,
     "metadata": {},
     "output_type": "execute_result"
    }
   ],
   "source": [
    "pd.to_datetime(campaign_data.end_date)"
   ]
  },
  {
   "cell_type": "code",
   "execution_count": 131,
   "metadata": {},
   "outputs": [
    {
     "data": {
      "text/plain": [
       "1582"
      ]
     },
     "execution_count": 131,
     "metadata": {},
     "output_type": "execute_result"
    }
   ],
   "source": [
    "customer_transaction_data.customer_id.nunique()"
   ]
  },
  {
   "cell_type": "code",
   "execution_count": 177,
   "metadata": {},
   "outputs": [
    {
     "name": "stdout",
     "output_type": "stream",
     "text": [
      "<class 'pandas.core.frame.DataFrame'>\n",
      "Int64Index: 74066 entries, 0 to 74065\n",
      "Data columns (total 24 columns):\n",
      "item_id                   74066 non-null int64\n",
      "brand                     74066 non-null int64\n",
      "brand_type                74066 non-null int64\n",
      "item_count                74066 non-null int64\n",
      "category_count            74066 non-null int64\n",
      "Alcohol                   74066 non-null uint8\n",
      "Bakery                    74066 non-null uint8\n",
      "Dairy, Juices & Snacks    74066 non-null uint8\n",
      "Flowers & Plants          74066 non-null uint8\n",
      "Fuel                      74066 non-null uint8\n",
      "Garden                    74066 non-null uint8\n",
      "Grocery                   74066 non-null uint8\n",
      "Meat                      74066 non-null uint8\n",
      "Miscellaneous             74066 non-null uint8\n",
      "Natural Products          74066 non-null uint8\n",
      "Packaged Meat             74066 non-null uint8\n",
      "Pharmaceutical            74066 non-null uint8\n",
      "Prepared Food             74066 non-null uint8\n",
      "Restauarant               74066 non-null uint8\n",
      "Salads                    74066 non-null uint8\n",
      "Seafood                   74066 non-null uint8\n",
      "Skin & Hair Care          74066 non-null uint8\n",
      "Travel                    74066 non-null uint8\n",
      "Vegetables (cut)          74066 non-null uint8\n",
      "dtypes: int64(5), uint8(19)\n",
      "memory usage: 4.7 MB\n"
     ]
    }
   ],
   "source": [
    "item_data.info()"
   ]
  },
  {
   "cell_type": "code",
   "execution_count": null,
   "metadata": {},
   "outputs": [],
   "source": []
  },
  {
   "cell_type": "code",
   "execution_count": null,
   "metadata": {},
   "outputs": [],
   "source": []
  },
  {
   "cell_type": "markdown",
   "metadata": {},
   "source": [
    "### Transformation, Merging and stuffs"
   ]
  },
  {
   "cell_type": "code",
   "execution_count": 30,
   "metadata": {},
   "outputs": [
    {
     "data": {
      "image/png": "[encoded data removed]",
      "text/plain": [
       "<IPython.core.display.Image object>"
      ]
     },
     "execution_count": 30,
     "metadata": {},
     "output_type": "execute_result"
    }
   ],
   "source": [
    "Image(\"Screenshot-2019-09-27-at-10.27.29-PM.png\")"
   ]
  },
  {
   "cell_type": "code",
   "execution_count": 31,
   "metadata": {},
   "outputs": [
    {
     "name": "stdout",
     "output_type": "stream",
     "text": [
      "Shape and Customer Id unique count in customer_demographics:  (760, 7) ,  760\n",
      "Shape and Customer Id unique count in customer_transaction_data:  (1324566, 7) ,  1582\n",
      "Shape and Customer Id unique count in train:  (78369, 5) ,  1428\n",
      "Shape and Customer Id unique count in test:  (50226, 4) ,  1250\n"
     ]
    }
   ],
   "source": [
    "print(\"Shape and Customer Id unique count in customer_demographics: \",customer_demographics.shape,\", \",customer_demographics.customer_id.nunique())\n",
    "print(\"Shape and Customer Id unique count in customer_transaction_data: \",customer_transaction_data.shape,\", \",customer_transaction_data.customer_id.nunique())\n",
    "print(\"Shape and Customer Id unique count in train: \",train.shape,\", \",train.customer_id.nunique())\n",
    "print(\"Shape and Customer Id unique count in test: \",test.shape,\", \",test.customer_id.nunique())\n"
   ]
  },
  {
   "cell_type": "code",
   "execution_count": 33,
   "metadata": {},
   "outputs": [
    {
     "data": {
      "text/plain": [
       "0    77640\n",
       "1      729\n",
       "Name: redemption_status, dtype: int64"
      ]
     },
     "execution_count": 33,
     "metadata": {},
     "output_type": "execute_result"
    }
   ],
   "source": [
    "train.redemption_status.value_counts()"
   ]
  },
  {
   "cell_type": "code",
   "execution_count": 35,
   "metadata": {},
   "outputs": [],
   "source": [
    "train_data = train.merge(campaign_data,on='campaign_id')"
   ]
  },
  {
   "cell_type": "code",
   "execution_count": 178,
   "metadata": {},
   "outputs": [],
   "source": [
    "item_transactions = item_based_customer_transaction.merge(item_data,on=['item_id'])"
   ]
  },
  {
   "cell_type": "code",
   "execution_count": 179,
   "metadata": {},
   "outputs": [
    {
     "data": {
      "text/html": [
       "<div>\n",
       "<style scoped>\n",
       "    .dataframe tbody tr th:only-of-type {\n",
       "        vertical-align: middle;\n",
       "    }\n",
       "\n",
       "    .dataframe tbody tr th {\n",
       "        vertical-align: top;\n",
       "    }\n",
       "\n",
       "    .dataframe thead th {\n",
       "        text-align: right;\n",
       "    }\n",
       "</style>\n",
       "<table border=\"1\" class=\"dataframe\">\n",
       "  <thead>\n",
       "    <tr style=\"text-align: right;\">\n",
       "      <th></th>\n",
       "      <th>id</th>\n",
       "      <th>campaign_id</th>\n",
       "      <th>coupon_id</th>\n",
       "      <th>customer_id</th>\n",
       "      <th>redemption_status</th>\n",
       "      <th>item_id</th>\n",
       "    </tr>\n",
       "  </thead>\n",
       "  <tbody>\n",
       "    <tr>\n",
       "      <th>0</th>\n",
       "      <td>1</td>\n",
       "      <td>13</td>\n",
       "      <td>27</td>\n",
       "      <td>1053</td>\n",
       "      <td>0</td>\n",
       "      <td>24775</td>\n",
       "    </tr>\n",
       "    <tr>\n",
       "      <th>1</th>\n",
       "      <td>1</td>\n",
       "      <td>13</td>\n",
       "      <td>27</td>\n",
       "      <td>1053</td>\n",
       "      <td>0</td>\n",
       "      <td>14958</td>\n",
       "    </tr>\n",
       "    <tr>\n",
       "      <th>2</th>\n",
       "      <td>1</td>\n",
       "      <td>13</td>\n",
       "      <td>27</td>\n",
       "      <td>1053</td>\n",
       "      <td>0</td>\n",
       "      <td>40431</td>\n",
       "    </tr>\n",
       "    <tr>\n",
       "      <th>3</th>\n",
       "      <td>1</td>\n",
       "      <td>13</td>\n",
       "      <td>27</td>\n",
       "      <td>1053</td>\n",
       "      <td>0</td>\n",
       "      <td>20749</td>\n",
       "    </tr>\n",
       "    <tr>\n",
       "      <th>4</th>\n",
       "      <td>1</td>\n",
       "      <td>13</td>\n",
       "      <td>27</td>\n",
       "      <td>1053</td>\n",
       "      <td>0</td>\n",
       "      <td>56860</td>\n",
       "    </tr>\n",
       "    <tr>\n",
       "      <th>5</th>\n",
       "      <td>1</td>\n",
       "      <td>13</td>\n",
       "      <td>27</td>\n",
       "      <td>1053</td>\n",
       "      <td>0</td>\n",
       "      <td>58066</td>\n",
       "    </tr>\n",
       "    <tr>\n",
       "      <th>6</th>\n",
       "      <td>1</td>\n",
       "      <td>13</td>\n",
       "      <td>27</td>\n",
       "      <td>1053</td>\n",
       "      <td>0</td>\n",
       "      <td>56921</td>\n",
       "    </tr>\n",
       "    <tr>\n",
       "      <th>7</th>\n",
       "      <td>1</td>\n",
       "      <td>13</td>\n",
       "      <td>27</td>\n",
       "      <td>1053</td>\n",
       "      <td>0</td>\n",
       "      <td>56955</td>\n",
       "    </tr>\n",
       "    <tr>\n",
       "      <th>8</th>\n",
       "      <td>1</td>\n",
       "      <td>13</td>\n",
       "      <td>27</td>\n",
       "      <td>1053</td>\n",
       "      <td>0</td>\n",
       "      <td>58068</td>\n",
       "    </tr>\n",
       "    <tr>\n",
       "      <th>9</th>\n",
       "      <td>1</td>\n",
       "      <td>13</td>\n",
       "      <td>27</td>\n",
       "      <td>1053</td>\n",
       "      <td>0</td>\n",
       "      <td>56907</td>\n",
       "    </tr>\n",
       "    <tr>\n",
       "      <th>10</th>\n",
       "      <td>1</td>\n",
       "      <td>13</td>\n",
       "      <td>27</td>\n",
       "      <td>1053</td>\n",
       "      <td>0</td>\n",
       "      <td>56963</td>\n",
       "    </tr>\n",
       "    <tr>\n",
       "      <th>11</th>\n",
       "      <td>1</td>\n",
       "      <td>13</td>\n",
       "      <td>27</td>\n",
       "      <td>1053</td>\n",
       "      <td>0</td>\n",
       "      <td>63014</td>\n",
       "    </tr>\n",
       "    <tr>\n",
       "      <th>12</th>\n",
       "      <td>1</td>\n",
       "      <td>13</td>\n",
       "      <td>27</td>\n",
       "      <td>1053</td>\n",
       "      <td>0</td>\n",
       "      <td>58067</td>\n",
       "    </tr>\n",
       "    <tr>\n",
       "      <th>13</th>\n",
       "      <td>1</td>\n",
       "      <td>13</td>\n",
       "      <td>27</td>\n",
       "      <td>1053</td>\n",
       "      <td>0</td>\n",
       "      <td>56757</td>\n",
       "    </tr>\n",
       "    <tr>\n",
       "      <th>14</th>\n",
       "      <td>1</td>\n",
       "      <td>13</td>\n",
       "      <td>27</td>\n",
       "      <td>1053</td>\n",
       "      <td>0</td>\n",
       "      <td>39603</td>\n",
       "    </tr>\n",
       "    <tr>\n",
       "      <th>15</th>\n",
       "      <td>1</td>\n",
       "      <td>13</td>\n",
       "      <td>27</td>\n",
       "      <td>1053</td>\n",
       "      <td>0</td>\n",
       "      <td>7176</td>\n",
       "    </tr>\n",
       "    <tr>\n",
       "      <th>16</th>\n",
       "      <td>1</td>\n",
       "      <td>13</td>\n",
       "      <td>27</td>\n",
       "      <td>1053</td>\n",
       "      <td>0</td>\n",
       "      <td>1683</td>\n",
       "    </tr>\n",
       "    <tr>\n",
       "      <th>17</th>\n",
       "      <td>1</td>\n",
       "      <td>13</td>\n",
       "      <td>27</td>\n",
       "      <td>1053</td>\n",
       "      <td>0</td>\n",
       "      <td>1729</td>\n",
       "    </tr>\n",
       "    <tr>\n",
       "      <th>18</th>\n",
       "      <td>1</td>\n",
       "      <td>13</td>\n",
       "      <td>27</td>\n",
       "      <td>1053</td>\n",
       "      <td>0</td>\n",
       "      <td>37790</td>\n",
       "    </tr>\n",
       "    <tr>\n",
       "      <th>19</th>\n",
       "      <td>1</td>\n",
       "      <td>13</td>\n",
       "      <td>27</td>\n",
       "      <td>1053</td>\n",
       "      <td>0</td>\n",
       "      <td>35736</td>\n",
       "    </tr>\n",
       "    <tr>\n",
       "      <th>20</th>\n",
       "      <td>1</td>\n",
       "      <td>13</td>\n",
       "      <td>27</td>\n",
       "      <td>1053</td>\n",
       "      <td>0</td>\n",
       "      <td>8294</td>\n",
       "    </tr>\n",
       "    <tr>\n",
       "      <th>21</th>\n",
       "      <td>1</td>\n",
       "      <td>13</td>\n",
       "      <td>27</td>\n",
       "      <td>1053</td>\n",
       "      <td>0</td>\n",
       "      <td>16449</td>\n",
       "    </tr>\n",
       "    <tr>\n",
       "      <th>22</th>\n",
       "      <td>1</td>\n",
       "      <td>13</td>\n",
       "      <td>27</td>\n",
       "      <td>1053</td>\n",
       "      <td>0</td>\n",
       "      <td>1418</td>\n",
       "    </tr>\n",
       "    <tr>\n",
       "      <th>23</th>\n",
       "      <td>1</td>\n",
       "      <td>13</td>\n",
       "      <td>27</td>\n",
       "      <td>1053</td>\n",
       "      <td>0</td>\n",
       "      <td>7126</td>\n",
       "    </tr>\n",
       "    <tr>\n",
       "      <th>24</th>\n",
       "      <td>1</td>\n",
       "      <td>13</td>\n",
       "      <td>27</td>\n",
       "      <td>1053</td>\n",
       "      <td>0</td>\n",
       "      <td>1556</td>\n",
       "    </tr>\n",
       "    <tr>\n",
       "      <th>25</th>\n",
       "      <td>1</td>\n",
       "      <td>13</td>\n",
       "      <td>27</td>\n",
       "      <td>1053</td>\n",
       "      <td>0</td>\n",
       "      <td>39181</td>\n",
       "    </tr>\n",
       "    <tr>\n",
       "      <th>26</th>\n",
       "      <td>1</td>\n",
       "      <td>13</td>\n",
       "      <td>27</td>\n",
       "      <td>1053</td>\n",
       "      <td>0</td>\n",
       "      <td>16834</td>\n",
       "    </tr>\n",
       "    <tr>\n",
       "      <th>27</th>\n",
       "      <td>1</td>\n",
       "      <td>13</td>\n",
       "      <td>27</td>\n",
       "      <td>1053</td>\n",
       "      <td>0</td>\n",
       "      <td>13647</td>\n",
       "    </tr>\n",
       "    <tr>\n",
       "      <th>28</th>\n",
       "      <td>1</td>\n",
       "      <td>13</td>\n",
       "      <td>27</td>\n",
       "      <td>1053</td>\n",
       "      <td>0</td>\n",
       "      <td>1589</td>\n",
       "    </tr>\n",
       "    <tr>\n",
       "      <th>29</th>\n",
       "      <td>1</td>\n",
       "      <td>13</td>\n",
       "      <td>27</td>\n",
       "      <td>1053</td>\n",
       "      <td>0</td>\n",
       "      <td>38088</td>\n",
       "    </tr>\n",
       "    <tr>\n",
       "      <th>...</th>\n",
       "      <td>...</td>\n",
       "      <td>...</td>\n",
       "      <td>...</td>\n",
       "      <td>...</td>\n",
       "      <td>...</td>\n",
       "      <td>...</td>\n",
       "    </tr>\n",
       "    <tr>\n",
       "      <th>6420664</th>\n",
       "      <td>126179</td>\n",
       "      <td>1</td>\n",
       "      <td>562</td>\n",
       "      <td>787</td>\n",
       "      <td>0</td>\n",
       "      <td>42867</td>\n",
       "    </tr>\n",
       "    <tr>\n",
       "      <th>6420665</th>\n",
       "      <td>126179</td>\n",
       "      <td>1</td>\n",
       "      <td>562</td>\n",
       "      <td>787</td>\n",
       "      <td>0</td>\n",
       "      <td>42930</td>\n",
       "    </tr>\n",
       "    <tr>\n",
       "      <th>6420666</th>\n",
       "      <td>126179</td>\n",
       "      <td>1</td>\n",
       "      <td>562</td>\n",
       "      <td>787</td>\n",
       "      <td>0</td>\n",
       "      <td>43556</td>\n",
       "    </tr>\n",
       "    <tr>\n",
       "      <th>6420667</th>\n",
       "      <td>126179</td>\n",
       "      <td>1</td>\n",
       "      <td>562</td>\n",
       "      <td>787</td>\n",
       "      <td>0</td>\n",
       "      <td>43642</td>\n",
       "    </tr>\n",
       "    <tr>\n",
       "      <th>6420668</th>\n",
       "      <td>126179</td>\n",
       "      <td>1</td>\n",
       "      <td>562</td>\n",
       "      <td>787</td>\n",
       "      <td>0</td>\n",
       "      <td>43710</td>\n",
       "    </tr>\n",
       "    <tr>\n",
       "      <th>6420669</th>\n",
       "      <td>126179</td>\n",
       "      <td>1</td>\n",
       "      <td>562</td>\n",
       "      <td>787</td>\n",
       "      <td>0</td>\n",
       "      <td>43728</td>\n",
       "    </tr>\n",
       "    <tr>\n",
       "      <th>6420670</th>\n",
       "      <td>126179</td>\n",
       "      <td>1</td>\n",
       "      <td>562</td>\n",
       "      <td>787</td>\n",
       "      <td>0</td>\n",
       "      <td>43774</td>\n",
       "    </tr>\n",
       "    <tr>\n",
       "      <th>6420671</th>\n",
       "      <td>126179</td>\n",
       "      <td>1</td>\n",
       "      <td>562</td>\n",
       "      <td>787</td>\n",
       "      <td>0</td>\n",
       "      <td>43828</td>\n",
       "    </tr>\n",
       "    <tr>\n",
       "      <th>6420672</th>\n",
       "      <td>126179</td>\n",
       "      <td>1</td>\n",
       "      <td>562</td>\n",
       "      <td>787</td>\n",
       "      <td>0</td>\n",
       "      <td>43840</td>\n",
       "    </tr>\n",
       "    <tr>\n",
       "      <th>6420673</th>\n",
       "      <td>126179</td>\n",
       "      <td>1</td>\n",
       "      <td>562</td>\n",
       "      <td>787</td>\n",
       "      <td>0</td>\n",
       "      <td>43903</td>\n",
       "    </tr>\n",
       "    <tr>\n",
       "      <th>6420674</th>\n",
       "      <td>126179</td>\n",
       "      <td>1</td>\n",
       "      <td>562</td>\n",
       "      <td>787</td>\n",
       "      <td>0</td>\n",
       "      <td>43916</td>\n",
       "    </tr>\n",
       "    <tr>\n",
       "      <th>6420675</th>\n",
       "      <td>126179</td>\n",
       "      <td>1</td>\n",
       "      <td>562</td>\n",
       "      <td>787</td>\n",
       "      <td>0</td>\n",
       "      <td>43940</td>\n",
       "    </tr>\n",
       "    <tr>\n",
       "      <th>6420676</th>\n",
       "      <td>126179</td>\n",
       "      <td>1</td>\n",
       "      <td>562</td>\n",
       "      <td>787</td>\n",
       "      <td>0</td>\n",
       "      <td>43943</td>\n",
       "    </tr>\n",
       "    <tr>\n",
       "      <th>6420677</th>\n",
       "      <td>126179</td>\n",
       "      <td>1</td>\n",
       "      <td>562</td>\n",
       "      <td>787</td>\n",
       "      <td>0</td>\n",
       "      <td>43982</td>\n",
       "    </tr>\n",
       "    <tr>\n",
       "      <th>6420678</th>\n",
       "      <td>126179</td>\n",
       "      <td>1</td>\n",
       "      <td>562</td>\n",
       "      <td>787</td>\n",
       "      <td>0</td>\n",
       "      <td>44408</td>\n",
       "    </tr>\n",
       "    <tr>\n",
       "      <th>6420679</th>\n",
       "      <td>126179</td>\n",
       "      <td>1</td>\n",
       "      <td>562</td>\n",
       "      <td>787</td>\n",
       "      <td>0</td>\n",
       "      <td>44479</td>\n",
       "    </tr>\n",
       "    <tr>\n",
       "      <th>6420680</th>\n",
       "      <td>126179</td>\n",
       "      <td>1</td>\n",
       "      <td>562</td>\n",
       "      <td>787</td>\n",
       "      <td>0</td>\n",
       "      <td>44793</td>\n",
       "    </tr>\n",
       "    <tr>\n",
       "      <th>6420681</th>\n",
       "      <td>126179</td>\n",
       "      <td>1</td>\n",
       "      <td>562</td>\n",
       "      <td>787</td>\n",
       "      <td>0</td>\n",
       "      <td>45125</td>\n",
       "    </tr>\n",
       "    <tr>\n",
       "      <th>6420682</th>\n",
       "      <td>126179</td>\n",
       "      <td>1</td>\n",
       "      <td>562</td>\n",
       "      <td>787</td>\n",
       "      <td>0</td>\n",
       "      <td>45349</td>\n",
       "    </tr>\n",
       "    <tr>\n",
       "      <th>6420683</th>\n",
       "      <td>126179</td>\n",
       "      <td>1</td>\n",
       "      <td>562</td>\n",
       "      <td>787</td>\n",
       "      <td>0</td>\n",
       "      <td>54846</td>\n",
       "    </tr>\n",
       "    <tr>\n",
       "      <th>6420684</th>\n",
       "      <td>126179</td>\n",
       "      <td>1</td>\n",
       "      <td>562</td>\n",
       "      <td>787</td>\n",
       "      <td>0</td>\n",
       "      <td>54867</td>\n",
       "    </tr>\n",
       "    <tr>\n",
       "      <th>6420685</th>\n",
       "      <td>126179</td>\n",
       "      <td>1</td>\n",
       "      <td>562</td>\n",
       "      <td>787</td>\n",
       "      <td>0</td>\n",
       "      <td>54884</td>\n",
       "    </tr>\n",
       "    <tr>\n",
       "      <th>6420686</th>\n",
       "      <td>126179</td>\n",
       "      <td>1</td>\n",
       "      <td>562</td>\n",
       "      <td>787</td>\n",
       "      <td>0</td>\n",
       "      <td>57669</td>\n",
       "    </tr>\n",
       "    <tr>\n",
       "      <th>6420687</th>\n",
       "      <td>126179</td>\n",
       "      <td>1</td>\n",
       "      <td>562</td>\n",
       "      <td>787</td>\n",
       "      <td>0</td>\n",
       "      <td>57887</td>\n",
       "    </tr>\n",
       "    <tr>\n",
       "      <th>6420688</th>\n",
       "      <td>126179</td>\n",
       "      <td>1</td>\n",
       "      <td>562</td>\n",
       "      <td>787</td>\n",
       "      <td>0</td>\n",
       "      <td>65911</td>\n",
       "    </tr>\n",
       "    <tr>\n",
       "      <th>6420689</th>\n",
       "      <td>126179</td>\n",
       "      <td>1</td>\n",
       "      <td>562</td>\n",
       "      <td>787</td>\n",
       "      <td>0</td>\n",
       "      <td>65961</td>\n",
       "    </tr>\n",
       "    <tr>\n",
       "      <th>6420690</th>\n",
       "      <td>126179</td>\n",
       "      <td>1</td>\n",
       "      <td>562</td>\n",
       "      <td>787</td>\n",
       "      <td>0</td>\n",
       "      <td>66016</td>\n",
       "    </tr>\n",
       "    <tr>\n",
       "      <th>6420691</th>\n",
       "      <td>126179</td>\n",
       "      <td>1</td>\n",
       "      <td>562</td>\n",
       "      <td>787</td>\n",
       "      <td>0</td>\n",
       "      <td>66035</td>\n",
       "    </tr>\n",
       "    <tr>\n",
       "      <th>6420692</th>\n",
       "      <td>126179</td>\n",
       "      <td>1</td>\n",
       "      <td>562</td>\n",
       "      <td>787</td>\n",
       "      <td>0</td>\n",
       "      <td>66048</td>\n",
       "    </tr>\n",
       "    <tr>\n",
       "      <th>6420693</th>\n",
       "      <td>126179</td>\n",
       "      <td>1</td>\n",
       "      <td>562</td>\n",
       "      <td>787</td>\n",
       "      <td>0</td>\n",
       "      <td>66062</td>\n",
       "    </tr>\n",
       "  </tbody>\n",
       "</table>\n",
       "<p>6420694 rows × 6 columns</p>\n",
       "</div>"
      ],
      "text/plain": [
       "             id  campaign_id  coupon_id  customer_id  redemption_status  \\\n",
       "0             1           13         27         1053                  0   \n",
       "1             1           13         27         1053                  0   \n",
       "2             1           13         27         1053                  0   \n",
       "3             1           13         27         1053                  0   \n",
       "4             1           13         27         1053                  0   \n",
       "5             1           13         27         1053                  0   \n",
       "6             1           13         27         1053                  0   \n",
       "7             1           13         27         1053                  0   \n",
       "8             1           13         27         1053                  0   \n",
       "9             1           13         27         1053                  0   \n",
       "10            1           13         27         1053                  0   \n",
       "11            1           13         27         1053                  0   \n",
       "12            1           13         27         1053                  0   \n",
       "13            1           13         27         1053                  0   \n",
       "14            1           13         27         1053                  0   \n",
       "15            1           13         27         1053                  0   \n",
       "16            1           13         27         1053                  0   \n",
       "17            1           13         27         1053                  0   \n",
       "18            1           13         27         1053                  0   \n",
       "19            1           13         27         1053                  0   \n",
       "20            1           13         27         1053                  0   \n",
       "21            1           13         27         1053                  0   \n",
       "22            1           13         27         1053                  0   \n",
       "23            1           13         27         1053                  0   \n",
       "24            1           13         27         1053                  0   \n",
       "25            1           13         27         1053                  0   \n",
       "26            1           13         27         1053                  0   \n",
       "27            1           13         27         1053                  0   \n",
       "28            1           13         27         1053                  0   \n",
       "29            1           13         27         1053                  0   \n",
       "...         ...          ...        ...          ...                ...   \n",
       "6420664  126179            1        562          787                  0   \n",
       "6420665  126179            1        562          787                  0   \n",
       "6420666  126179            1        562          787                  0   \n",
       "6420667  126179            1        562          787                  0   \n",
       "6420668  126179            1        562          787                  0   \n",
       "6420669  126179            1        562          787                  0   \n",
       "6420670  126179            1        562          787                  0   \n",
       "6420671  126179            1        562          787                  0   \n",
       "6420672  126179            1        562          787                  0   \n",
       "6420673  126179            1        562          787                  0   \n",
       "6420674  126179            1        562          787                  0   \n",
       "6420675  126179            1        562          787                  0   \n",
       "6420676  126179            1        562          787                  0   \n",
       "6420677  126179            1        562          787                  0   \n",
       "6420678  126179            1        562          787                  0   \n",
       "6420679  126179            1        562          787                  0   \n",
       "6420680  126179            1        562          787                  0   \n",
       "6420681  126179            1        562          787                  0   \n",
       "6420682  126179            1        562          787                  0   \n",
       "6420683  126179            1        562          787                  0   \n",
       "6420684  126179            1        562          787                  0   \n",
       "6420685  126179            1        562          787                  0   \n",
       "6420686  126179            1        562          787                  0   \n",
       "6420687  126179            1        562          787                  0   \n",
       "6420688  126179            1        562          787                  0   \n",
       "6420689  126179            1        562          787                  0   \n",
       "6420690  126179            1        562          787                  0   \n",
       "6420691  126179            1        562          787                  0   \n",
       "6420692  126179            1        562          787                  0   \n",
       "6420693  126179            1        562          787                  0   \n",
       "\n",
       "         item_id  \n",
       "0          24775  \n",
       "1          14958  \n",
       "2          40431  \n",
       "3          20749  \n",
       "4          56860  \n",
       "5          58066  \n",
       "6          56921  \n",
       "7          56955  \n",
       "8          58068  \n",
       "9          56907  \n",
       "10         56963  \n",
       "11         63014  \n",
       "12         58067  \n",
       "13         56757  \n",
       "14         39603  \n",
       "15          7176  \n",
       "16          1683  \n",
       "17          1729  \n",
       "18         37790  \n",
       "19         35736  \n",
       "20          8294  \n",
       "21         16449  \n",
       "22          1418  \n",
       "23          7126  \n",
       "24          1556  \n",
       "25         39181  \n",
       "26         16834  \n",
       "27         13647  \n",
       "28          1589  \n",
       "29         38088  \n",
       "...          ...  \n",
       "6420664    42867  \n",
       "6420665    42930  \n",
       "6420666    43556  \n",
       "6420667    43642  \n",
       "6420668    43710  \n",
       "6420669    43728  \n",
       "6420670    43774  \n",
       "6420671    43828  \n",
       "6420672    43840  \n",
       "6420673    43903  \n",
       "6420674    43916  \n",
       "6420675    43940  \n",
       "6420676    43943  \n",
       "6420677    43982  \n",
       "6420678    44408  \n",
       "6420679    44479  \n",
       "6420680    44793  \n",
       "6420681    45125  \n",
       "6420682    45349  \n",
       "6420683    54846  \n",
       "6420684    54867  \n",
       "6420685    54884  \n",
       "6420686    57669  \n",
       "6420687    57887  \n",
       "6420688    65911  \n",
       "6420689    65961  \n",
       "6420690    66016  \n",
       "6420691    66035  \n",
       "6420692    66048  \n",
       "6420693    66062  \n",
       "\n",
       "[6420694 rows x 6 columns]"
      ]
     },
     "execution_count": 179,
     "metadata": {},
     "output_type": "execute_result"
    }
   ],
   "source": [
    "train.merge(coupon_item_mapping, on='coupon_id')"
   ]
  },
  {
   "cell_type": "code",
   "execution_count": 155,
   "metadata": {},
   "outputs": [],
   "source": [
    "#coupon_item = coupon_item_mapping.merge(item_transactions,on='item_id',how='left')"
   ]
  },
  {
   "cell_type": "code",
   "execution_count": 156,
   "metadata": {},
   "outputs": [
    {
     "data": {
      "text/plain": [
       "1116"
      ]
     },
     "execution_count": 156,
     "metadata": {},
     "output_type": "execute_result"
    }
   ],
   "source": [
    "coupon_item.coupon_id.nunique()"
   ]
  },
  {
   "cell_type": "code",
   "execution_count": 157,
   "metadata": {},
   "outputs": [
    {
     "data": {
      "text/plain": [
       "(92663, 25)"
      ]
     },
     "execution_count": 157,
     "metadata": {},
     "output_type": "execute_result"
    }
   ],
   "source": [
    "coupon_item.shape"
   ]
  },
  {
   "cell_type": "code",
   "execution_count": 159,
   "metadata": {},
   "outputs": [
    {
     "data": {
      "text/html": [
       "<div>\n",
       "<style scoped>\n",
       "    .dataframe tbody tr th:only-of-type {\n",
       "        vertical-align: middle;\n",
       "    }\n",
       "\n",
       "    .dataframe tbody tr th {\n",
       "        vertical-align: top;\n",
       "    }\n",
       "\n",
       "    .dataframe thead th {\n",
       "        text-align: right;\n",
       "    }\n",
       "</style>\n",
       "<table border=\"1\" class=\"dataframe\">\n",
       "  <thead>\n",
       "    <tr style=\"text-align: right;\">\n",
       "      <th></th>\n",
       "      <th>coupon_id</th>\n",
       "      <th>item_id</th>\n",
       "      <th>brand</th>\n",
       "      <th>brand_type</th>\n",
       "      <th>item_count</th>\n",
       "      <th>category_count</th>\n",
       "      <th>Alcohol</th>\n",
       "      <th>Bakery</th>\n",
       "      <th>Dairy, Juices &amp; Snacks</th>\n",
       "      <th>Flowers &amp; Plants</th>\n",
       "      <th>...</th>\n",
       "      <th>Natural Products</th>\n",
       "      <th>Packaged Meat</th>\n",
       "      <th>Pharmaceutical</th>\n",
       "      <th>Prepared Food</th>\n",
       "      <th>Restauarant</th>\n",
       "      <th>Salads</th>\n",
       "      <th>Seafood</th>\n",
       "      <th>Skin &amp; Hair Care</th>\n",
       "      <th>Travel</th>\n",
       "      <th>Vegetables (cut)</th>\n",
       "    </tr>\n",
       "  </thead>\n",
       "  <tbody>\n",
       "    <tr>\n",
       "      <th>0</th>\n",
       "      <td>105</td>\n",
       "      <td>37</td>\n",
       "      <td>56</td>\n",
       "      <td>0</td>\n",
       "      <td>10480</td>\n",
       "      <td>13</td>\n",
       "      <td>0</td>\n",
       "      <td>0</td>\n",
       "      <td>0</td>\n",
       "      <td>0</td>\n",
       "      <td>...</td>\n",
       "      <td>0</td>\n",
       "      <td>0</td>\n",
       "      <td>0</td>\n",
       "      <td>0</td>\n",
       "      <td>0</td>\n",
       "      <td>0</td>\n",
       "      <td>0</td>\n",
       "      <td>0</td>\n",
       "      <td>0</td>\n",
       "      <td>0</td>\n",
       "    </tr>\n",
       "    <tr>\n",
       "      <th>1</th>\n",
       "      <td>107</td>\n",
       "      <td>75</td>\n",
       "      <td>56</td>\n",
       "      <td>0</td>\n",
       "      <td>10480</td>\n",
       "      <td>13</td>\n",
       "      <td>0</td>\n",
       "      <td>0</td>\n",
       "      <td>0</td>\n",
       "      <td>0</td>\n",
       "      <td>...</td>\n",
       "      <td>0</td>\n",
       "      <td>0</td>\n",
       "      <td>0</td>\n",
       "      <td>0</td>\n",
       "      <td>0</td>\n",
       "      <td>0</td>\n",
       "      <td>0</td>\n",
       "      <td>0</td>\n",
       "      <td>0</td>\n",
       "      <td>0</td>\n",
       "    </tr>\n",
       "    <tr>\n",
       "      <th>2</th>\n",
       "      <td>494</td>\n",
       "      <td>76</td>\n",
       "      <td>209</td>\n",
       "      <td>1</td>\n",
       "      <td>295</td>\n",
       "      <td>1</td>\n",
       "      <td>0</td>\n",
       "      <td>0</td>\n",
       "      <td>0</td>\n",
       "      <td>0</td>\n",
       "      <td>...</td>\n",
       "      <td>0</td>\n",
       "      <td>0</td>\n",
       "      <td>0</td>\n",
       "      <td>0</td>\n",
       "      <td>0</td>\n",
       "      <td>0</td>\n",
       "      <td>0</td>\n",
       "      <td>0</td>\n",
       "      <td>0</td>\n",
       "      <td>0</td>\n",
       "    </tr>\n",
       "    <tr>\n",
       "      <th>3</th>\n",
       "      <td>522</td>\n",
       "      <td>77</td>\n",
       "      <td>278</td>\n",
       "      <td>1</td>\n",
       "      <td>547</td>\n",
       "      <td>2</td>\n",
       "      <td>0</td>\n",
       "      <td>0</td>\n",
       "      <td>0</td>\n",
       "      <td>0</td>\n",
       "      <td>...</td>\n",
       "      <td>0</td>\n",
       "      <td>0</td>\n",
       "      <td>0</td>\n",
       "      <td>0</td>\n",
       "      <td>0</td>\n",
       "      <td>0</td>\n",
       "      <td>0</td>\n",
       "      <td>0</td>\n",
       "      <td>0</td>\n",
       "      <td>0</td>\n",
       "    </tr>\n",
       "    <tr>\n",
       "      <th>4</th>\n",
       "      <td>518</td>\n",
       "      <td>77</td>\n",
       "      <td>278</td>\n",
       "      <td>1</td>\n",
       "      <td>547</td>\n",
       "      <td>2</td>\n",
       "      <td>0</td>\n",
       "      <td>0</td>\n",
       "      <td>0</td>\n",
       "      <td>0</td>\n",
       "      <td>...</td>\n",
       "      <td>0</td>\n",
       "      <td>0</td>\n",
       "      <td>0</td>\n",
       "      <td>0</td>\n",
       "      <td>0</td>\n",
       "      <td>0</td>\n",
       "      <td>0</td>\n",
       "      <td>0</td>\n",
       "      <td>0</td>\n",
       "      <td>0</td>\n",
       "    </tr>\n",
       "  </tbody>\n",
       "</table>\n",
       "<p>5 rows × 25 columns</p>\n",
       "</div>"
      ],
      "text/plain": [
       "   coupon_id  item_id  brand  brand_type  item_count  category_count  Alcohol  \\\n",
       "0        105       37     56           0       10480              13        0   \n",
       "1        107       75     56           0       10480              13        0   \n",
       "2        494       76    209           1         295               1        0   \n",
       "3        522       77    278           1         547               2        0   \n",
       "4        518       77    278           1         547               2        0   \n",
       "\n",
       "   Bakery  Dairy, Juices & Snacks  Flowers & Plants  ...  Natural Products  \\\n",
       "0       0                       0                 0  ...                 0   \n",
       "1       0                       0                 0  ...                 0   \n",
       "2       0                       0                 0  ...                 0   \n",
       "3       0                       0                 0  ...                 0   \n",
       "4       0                       0                 0  ...                 0   \n",
       "\n",
       "   Packaged Meat  Pharmaceutical  Prepared Food  Restauarant  Salads  Seafood  \\\n",
       "0              0               0              0            0       0        0   \n",
       "1              0               0              0            0       0        0   \n",
       "2              0               0              0            0       0        0   \n",
       "3              0               0              0            0       0        0   \n",
       "4              0               0              0            0       0        0   \n",
       "\n",
       "   Skin & Hair Care  Travel  Vegetables (cut)  \n",
       "0                 0       0                 0  \n",
       "1                 0       0                 0  \n",
       "2                 0       0                 0  \n",
       "3                 0       0                 0  \n",
       "4                 0       0                 0  \n",
       "\n",
       "[5 rows x 25 columns]"
      ]
     },
     "execution_count": 159,
     "metadata": {},
     "output_type": "execute_result"
    }
   ],
   "source": [
    "coupon_item.head()"
   ]
  },
  {
   "cell_type": "code",
   "execution_count": 45,
   "metadata": {},
   "outputs": [
    {
     "data": {
      "text/plain": [
       "866"
      ]
     },
     "execution_count": 45,
     "metadata": {},
     "output_type": "execute_result"
    }
   ],
   "source": [
    "train_data.coupon_id.nunique()"
   ]
  },
  {
   "cell_type": "code",
   "execution_count": 47,
   "metadata": {},
   "outputs": [
    {
     "data": {
      "text/plain": [
       "250"
      ]
     },
     "execution_count": 47,
     "metadata": {},
     "output_type": "execute_result"
    }
   ],
   "source": [
    "len(set(coupon_item.coupon_id.unique()) - set(train_data.coupon_id.unique()))"
   ]
  },
  {
   "cell_type": "code",
   "execution_count": 171,
   "metadata": {},
   "outputs": [
    {
     "name": "stdout",
     "output_type": "stream",
     "text": [
      "<class 'pandas.core.frame.DataFrame'>\n",
      "RangeIndex: 92663 entries, 0 to 92662\n",
      "Data columns (total 2 columns):\n",
      "coupon_id    92663 non-null int64\n",
      "item_id      92663 non-null int64\n",
      "dtypes: int64(2)\n",
      "memory usage: 1.4 MB\n"
     ]
    }
   ],
   "source": [
    "coupon_item_mapping.info()"
   ]
  },
  {
   "cell_type": "code",
   "execution_count": 174,
   "metadata": {},
   "outputs": [
    {
     "data": {
      "text/plain": [
       "(6420694, 9)"
      ]
     },
     "execution_count": 174,
     "metadata": {},
     "output_type": "execute_result"
    }
   ],
   "source": [
    "train_data.merge(coupon_item_mapping,on='coupon_id').shape"
   ]
  },
  {
   "cell_type": "code",
   "execution_count": 169,
   "metadata": {},
   "outputs": [
    {
     "data": {
      "text/plain": [
       "(1220885, 31)"
      ]
     },
     "execution_count": 169,
     "metadata": {},
     "output_type": "execute_result"
    }
   ],
   "source": [
    "item_based_customer_transaction.merge(coupon_item,on=['item_id']).shape"
   ]
  },
  {
   "cell_type": "code",
   "execution_count": 170,
   "metadata": {},
   "outputs": [
    {
     "data": {
      "text/plain": [
       "(787687, 7)"
      ]
     },
     "execution_count": 170,
     "metadata": {},
     "output_type": "execute_result"
    }
   ],
   "source": [
    "item_based_customer_transaction.shape"
   ]
  },
  {
   "cell_type": "code",
   "execution_count": 33,
   "metadata": {},
   "outputs": [],
   "source": [
    "def merge_on_ids(data):\n",
    "    data = data.merge(customer_demographics,on='customer_id',how='left')\n",
    "    data = data.merge(coupon_item_mapping,on='coupon_id',how='left')\n",
    "    data = data.merge(item_data,on='item_id',how='left')\n",
    "    data = data.merge(campaign_data,on='campaign_id',how='left')\n",
    "    return data"
   ]
  },
  {
   "cell_type": "code",
   "execution_count": 34,
   "metadata": {},
   "outputs": [],
   "source": [
    "train_data = train.copy()"
   ]
  },
  {
   "cell_type": "code",
   "execution_count": 35,
   "metadata": {},
   "outputs": [],
   "source": [
    "train_data = merge_on_ids(train_data)"
   ]
  },
  {
   "cell_type": "code",
   "execution_count": 36,
   "metadata": {},
   "outputs": [
    {
     "name": "stdout",
     "output_type": "stream",
     "text": [
      "<class 'pandas.core.frame.DataFrame'>\n",
      "Int64Index: 6420694 entries, 0 to 6420693\n",
      "Data columns (total 18 columns):\n",
      "id                   int64\n",
      "campaign_id          int64\n",
      "coupon_id            int64\n",
      "customer_id          int64\n",
      "redemption_status    int64\n",
      "age_range            object\n",
      "marital_status       object\n",
      "rented               float64\n",
      "family_size          object\n",
      "no_of_children       object\n",
      "income_bracket       float64\n",
      "item_id              int64\n",
      "brand                int64\n",
      "brand_type           object\n",
      "category             object\n",
      "campaign_type        object\n",
      "start_date           object\n",
      "end_date             object\n",
      "dtypes: float64(2), int64(7), object(9)\n",
      "memory usage: 930.7+ MB\n"
     ]
    }
   ],
   "source": [
    "train_data.info()"
   ]
  },
  {
   "cell_type": "code",
   "execution_count": null,
   "metadata": {},
   "outputs": [],
   "source": []
  }
 ],
 "metadata": {
  "kernelspec": {
   "display_name": "Python 3",
   "language": "python",
   "name": "python3"
  },
  "language_info": {
   "codemirror_mode": {
    "name": "ipython",
    "version": 3
   },
   "file_extension": ".py",
   "mimetype": "text/x-python",
   "name": "python",
   "nbconvert_exporter": "python",
   "pygments_lexer": "ipython3",
   "version": "3.7.3"
  }
 },
 "nbformat": 4,
 "nbformat_minor": 2
}
