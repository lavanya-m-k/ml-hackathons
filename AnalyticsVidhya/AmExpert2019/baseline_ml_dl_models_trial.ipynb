{
 "cells": [
  {
   "cell_type": "code",
   "execution_count": 1,
   "metadata": {},
   "outputs": [],
   "source": [
    "import pandas as pd"
   ]
  },
  {
   "cell_type": "code",
   "execution_count": 2,
   "metadata": {},
   "outputs": [
    {
     "name": "stderr",
     "output_type": "stream",
     "text": [
      "/Users/lavanyamk/.local/lib/python3.7/site-packages/lightgbm/__init__.py:46: UserWarning: Starting from version 2.2.1, the library file in distribution wheels for macOS is built by the Apple Clang (Xcode_8.3.3) compiler.\n",
      "This means that in case of installing LightGBM from PyPI via the ``pip install lightgbm`` command, you don't need to install the gcc compiler anymore.\n",
      "Instead of that, you need to install the OpenMP library, which is required for running LightGBM on the system with the Apple Clang compiler.\n",
      "You can install the OpenMP library by the following command: ``brew install libomp``.\n",
      "  \"You can install the OpenMP library by the following command: ``brew install libomp``.\", UserWarning)\n"
     ]
    }
   ],
   "source": [
    "import lightgbm as lgbm"
   ]
  },
  {
   "cell_type": "code",
   "execution_count": 3,
   "metadata": {},
   "outputs": [],
   "source": [
    "import numpy as np\n",
    "import sklearn.ensemble as ensemble"
   ]
  },
  {
   "cell_type": "code",
   "execution_count": 4,
   "metadata": {},
   "outputs": [],
   "source": [
    "item_data = pd.read_csv(\"processed_item_date.csv\")"
   ]
  },
  {
   "cell_type": "code",
   "execution_count": 5,
   "metadata": {},
   "outputs": [],
   "source": [
    "demographics = pd.read_csv('Processed_demographics_data.csv')"
   ]
  },
  {
   "cell_type": "code",
   "execution_count": 6,
   "metadata": {},
   "outputs": [],
   "source": [
    "campaign_data = pd.read_csv(\"data/train_AUpWtIz/campaign_data.csv\")\n",
    "coupon_item_mapping = pd.read_csv(\"data/train_AUpWtIz/coupon_item_mapping.csv\")\n",
    "customer_transaction_data = pd.read_csv(\"data/train_AUpWtIz/customer_transaction_data.csv\")"
   ]
  },
  {
   "cell_type": "code",
   "execution_count": 7,
   "metadata": {},
   "outputs": [],
   "source": [
    "train = pd.read_csv(\"data/train_AUpWtIz/train.csv\")\n",
    "test = pd.read_csv('data/test_QyjYwdj.csv')"
   ]
  },
  {
   "cell_type": "code",
   "execution_count": 8,
   "metadata": {},
   "outputs": [],
   "source": [
    "train_test = train.drop(['redemption_status'],axis=1).append(test,ignore_index=True)"
   ]
  },
  {
   "cell_type": "code",
   "execution_count": 9,
   "metadata": {},
   "outputs": [
    {
     "name": "stdout",
     "output_type": "stream",
     "text": [
      "<class 'pandas.core.frame.DataFrame'>\n",
      "RangeIndex: 78369 entries, 0 to 78368\n",
      "Data columns (total 5 columns):\n",
      "id                   78369 non-null int64\n",
      "campaign_id          78369 non-null int64\n",
      "coupon_id            78369 non-null int64\n",
      "customer_id          78369 non-null int64\n",
      "redemption_status    78369 non-null int64\n",
      "dtypes: int64(5)\n",
      "memory usage: 3.0 MB\n"
     ]
    }
   ],
   "source": [
    "train.info()"
   ]
  },
  {
   "cell_type": "code",
   "execution_count": 10,
   "metadata": {},
   "outputs": [
    {
     "data": {
      "text/html": [
       "<div>\n",
       "<style scoped>\n",
       "    .dataframe tbody tr th:only-of-type {\n",
       "        vertical-align: middle;\n",
       "    }\n",
       "\n",
       "    .dataframe tbody tr th {\n",
       "        vertical-align: top;\n",
       "    }\n",
       "\n",
       "    .dataframe thead th {\n",
       "        text-align: right;\n",
       "    }\n",
       "</style>\n",
       "<table border=\"1\" class=\"dataframe\">\n",
       "  <thead>\n",
       "    <tr style=\"text-align: right;\">\n",
       "      <th></th>\n",
       "      <th>id</th>\n",
       "      <th>campaign_id</th>\n",
       "      <th>coupon_id</th>\n",
       "      <th>customer_id</th>\n",
       "    </tr>\n",
       "  </thead>\n",
       "  <tbody>\n",
       "    <tr>\n",
       "      <th>78364</th>\n",
       "      <td>128587</td>\n",
       "      <td>8</td>\n",
       "      <td>71</td>\n",
       "      <td>1523</td>\n",
       "    </tr>\n",
       "    <tr>\n",
       "      <th>78365</th>\n",
       "      <td>128589</td>\n",
       "      <td>30</td>\n",
       "      <td>547</td>\n",
       "      <td>937</td>\n",
       "    </tr>\n",
       "    <tr>\n",
       "      <th>78366</th>\n",
       "      <td>128590</td>\n",
       "      <td>8</td>\n",
       "      <td>754</td>\n",
       "      <td>1004</td>\n",
       "    </tr>\n",
       "    <tr>\n",
       "      <th>78367</th>\n",
       "      <td>128592</td>\n",
       "      <td>13</td>\n",
       "      <td>134</td>\n",
       "      <td>71</td>\n",
       "    </tr>\n",
       "    <tr>\n",
       "      <th>78368</th>\n",
       "      <td>128595</td>\n",
       "      <td>13</td>\n",
       "      <td>681</td>\n",
       "      <td>623</td>\n",
       "    </tr>\n",
       "  </tbody>\n",
       "</table>\n",
       "</div>"
      ],
      "text/plain": [
       "           id  campaign_id  coupon_id  customer_id\n",
       "78364  128587            8         71         1523\n",
       "78365  128589           30        547          937\n",
       "78366  128590            8        754         1004\n",
       "78367  128592           13        134           71\n",
       "78368  128595           13        681          623"
      ]
     },
     "execution_count": 10,
     "metadata": {},
     "output_type": "execute_result"
    }
   ],
   "source": [
    "train_test.loc[78364:78368]"
   ]
  },
  {
   "cell_type": "code",
   "execution_count": 11,
   "metadata": {},
   "outputs": [
    {
     "data": {
      "text/html": [
       "<div>\n",
       "<style scoped>\n",
       "    .dataframe tbody tr th:only-of-type {\n",
       "        vertical-align: middle;\n",
       "    }\n",
       "\n",
       "    .dataframe tbody tr th {\n",
       "        vertical-align: top;\n",
       "    }\n",
       "\n",
       "    .dataframe thead th {\n",
       "        text-align: right;\n",
       "    }\n",
       "</style>\n",
       "<table border=\"1\" class=\"dataframe\">\n",
       "  <thead>\n",
       "    <tr style=\"text-align: right;\">\n",
       "      <th></th>\n",
       "      <th>id</th>\n",
       "      <th>campaign_id</th>\n",
       "      <th>coupon_id</th>\n",
       "      <th>customer_id</th>\n",
       "      <th>redemption_status</th>\n",
       "    </tr>\n",
       "  </thead>\n",
       "  <tbody>\n",
       "    <tr>\n",
       "      <th>78364</th>\n",
       "      <td>128587</td>\n",
       "      <td>8</td>\n",
       "      <td>71</td>\n",
       "      <td>1523</td>\n",
       "      <td>0</td>\n",
       "    </tr>\n",
       "    <tr>\n",
       "      <th>78365</th>\n",
       "      <td>128589</td>\n",
       "      <td>30</td>\n",
       "      <td>547</td>\n",
       "      <td>937</td>\n",
       "      <td>0</td>\n",
       "    </tr>\n",
       "    <tr>\n",
       "      <th>78366</th>\n",
       "      <td>128590</td>\n",
       "      <td>8</td>\n",
       "      <td>754</td>\n",
       "      <td>1004</td>\n",
       "      <td>0</td>\n",
       "    </tr>\n",
       "    <tr>\n",
       "      <th>78367</th>\n",
       "      <td>128592</td>\n",
       "      <td>13</td>\n",
       "      <td>134</td>\n",
       "      <td>71</td>\n",
       "      <td>0</td>\n",
       "    </tr>\n",
       "    <tr>\n",
       "      <th>78368</th>\n",
       "      <td>128595</td>\n",
       "      <td>13</td>\n",
       "      <td>681</td>\n",
       "      <td>623</td>\n",
       "      <td>0</td>\n",
       "    </tr>\n",
       "  </tbody>\n",
       "</table>\n",
       "</div>"
      ],
      "text/plain": [
       "           id  campaign_id  coupon_id  customer_id  redemption_status\n",
       "78364  128587            8         71         1523                  0\n",
       "78365  128589           30        547          937                  0\n",
       "78366  128590            8        754         1004                  0\n",
       "78367  128592           13        134           71                  0\n",
       "78368  128595           13        681          623                  0"
      ]
     },
     "execution_count": 11,
     "metadata": {},
     "output_type": "execute_result"
    }
   ],
   "source": [
    "train.tail(5)"
   ]
  },
  {
   "cell_type": "code",
   "execution_count": 12,
   "metadata": {},
   "outputs": [
    {
     "data": {
      "text/html": [
       "<div>\n",
       "<style scoped>\n",
       "    .dataframe tbody tr th:only-of-type {\n",
       "        vertical-align: middle;\n",
       "    }\n",
       "\n",
       "    .dataframe tbody tr th {\n",
       "        vertical-align: top;\n",
       "    }\n",
       "\n",
       "    .dataframe thead th {\n",
       "        text-align: right;\n",
       "    }\n",
       "</style>\n",
       "<table border=\"1\" class=\"dataframe\">\n",
       "  <thead>\n",
       "    <tr style=\"text-align: right;\">\n",
       "      <th></th>\n",
       "      <th>id</th>\n",
       "      <th>campaign_id</th>\n",
       "      <th>coupon_id</th>\n",
       "      <th>customer_id</th>\n",
       "    </tr>\n",
       "  </thead>\n",
       "  <tbody>\n",
       "    <tr>\n",
       "      <th>0</th>\n",
       "      <td>3</td>\n",
       "      <td>22</td>\n",
       "      <td>869</td>\n",
       "      <td>967</td>\n",
       "    </tr>\n",
       "    <tr>\n",
       "      <th>1</th>\n",
       "      <td>4</td>\n",
       "      <td>20</td>\n",
       "      <td>389</td>\n",
       "      <td>1566</td>\n",
       "    </tr>\n",
       "    <tr>\n",
       "      <th>2</th>\n",
       "      <td>5</td>\n",
       "      <td>22</td>\n",
       "      <td>981</td>\n",
       "      <td>510</td>\n",
       "    </tr>\n",
       "    <tr>\n",
       "      <th>3</th>\n",
       "      <td>8</td>\n",
       "      <td>25</td>\n",
       "      <td>1069</td>\n",
       "      <td>361</td>\n",
       "    </tr>\n",
       "    <tr>\n",
       "      <th>4</th>\n",
       "      <td>10</td>\n",
       "      <td>17</td>\n",
       "      <td>498</td>\n",
       "      <td>811</td>\n",
       "    </tr>\n",
       "  </tbody>\n",
       "</table>\n",
       "</div>"
      ],
      "text/plain": [
       "   id  campaign_id  coupon_id  customer_id\n",
       "0   3           22        869          967\n",
       "1   4           20        389         1566\n",
       "2   5           22        981          510\n",
       "3   8           25       1069          361\n",
       "4  10           17        498          811"
      ]
     },
     "execution_count": 12,
     "metadata": {},
     "output_type": "execute_result"
    }
   ],
   "source": [
    "test.head(5)"
   ]
  },
  {
   "cell_type": "code",
   "execution_count": 13,
   "metadata": {},
   "outputs": [
    {
     "data": {
      "text/html": [
       "<div>\n",
       "<style scoped>\n",
       "    .dataframe tbody tr th:only-of-type {\n",
       "        vertical-align: middle;\n",
       "    }\n",
       "\n",
       "    .dataframe tbody tr th {\n",
       "        vertical-align: top;\n",
       "    }\n",
       "\n",
       "    .dataframe thead th {\n",
       "        text-align: right;\n",
       "    }\n",
       "</style>\n",
       "<table border=\"1\" class=\"dataframe\">\n",
       "  <thead>\n",
       "    <tr style=\"text-align: right;\">\n",
       "      <th></th>\n",
       "      <th>id</th>\n",
       "      <th>campaign_id</th>\n",
       "      <th>coupon_id</th>\n",
       "      <th>customer_id</th>\n",
       "    </tr>\n",
       "  </thead>\n",
       "  <tbody>\n",
       "    <tr>\n",
       "      <th>78369</th>\n",
       "      <td>3</td>\n",
       "      <td>22</td>\n",
       "      <td>869</td>\n",
       "      <td>967</td>\n",
       "    </tr>\n",
       "    <tr>\n",
       "      <th>78370</th>\n",
       "      <td>4</td>\n",
       "      <td>20</td>\n",
       "      <td>389</td>\n",
       "      <td>1566</td>\n",
       "    </tr>\n",
       "    <tr>\n",
       "      <th>78371</th>\n",
       "      <td>5</td>\n",
       "      <td>22</td>\n",
       "      <td>981</td>\n",
       "      <td>510</td>\n",
       "    </tr>\n",
       "    <tr>\n",
       "      <th>78372</th>\n",
       "      <td>8</td>\n",
       "      <td>25</td>\n",
       "      <td>1069</td>\n",
       "      <td>361</td>\n",
       "    </tr>\n",
       "    <tr>\n",
       "      <th>78373</th>\n",
       "      <td>10</td>\n",
       "      <td>17</td>\n",
       "      <td>498</td>\n",
       "      <td>811</td>\n",
       "    </tr>\n",
       "  </tbody>\n",
       "</table>\n",
       "</div>"
      ],
      "text/plain": [
       "       id  campaign_id  coupon_id  customer_id\n",
       "78369   3           22        869          967\n",
       "78370   4           20        389         1566\n",
       "78371   5           22        981          510\n",
       "78372   8           25       1069          361\n",
       "78373  10           17        498          811"
      ]
     },
     "execution_count": 13,
     "metadata": {},
     "output_type": "execute_result"
    }
   ],
   "source": [
    "train_test.loc[78369:78373]"
   ]
  },
  {
   "cell_type": "code",
   "execution_count": 14,
   "metadata": {},
   "outputs": [
    {
     "name": "stdout",
     "output_type": "stream",
     "text": [
      "<class 'pandas.core.frame.DataFrame'>\n",
      "RangeIndex: 128595 entries, 0 to 128594\n",
      "Data columns (total 4 columns):\n",
      "id             128595 non-null int64\n",
      "campaign_id    128595 non-null int64\n",
      "coupon_id      128595 non-null int64\n",
      "customer_id    128595 non-null int64\n",
      "dtypes: int64(4)\n",
      "memory usage: 3.9 MB\n"
     ]
    }
   ],
   "source": [
    "train_test.info()"
   ]
  },
  {
   "cell_type": "code",
   "execution_count": 15,
   "metadata": {},
   "outputs": [],
   "source": [
    "data_train_test = train_test.merge(campaign_data,on='campaign_id')"
   ]
  },
  {
   "cell_type": "code",
   "execution_count": 16,
   "metadata": {},
   "outputs": [
    {
     "name": "stdout",
     "output_type": "stream",
     "text": [
      "<class 'pandas.core.frame.DataFrame'>\n",
      "Int64Index: 128595 entries, 0 to 128594\n",
      "Data columns (total 7 columns):\n",
      "id               128595 non-null int64\n",
      "campaign_id      128595 non-null int64\n",
      "coupon_id        128595 non-null int64\n",
      "customer_id      128595 non-null int64\n",
      "campaign_type    128595 non-null object\n",
      "start_date       128595 non-null object\n",
      "end_date         128595 non-null object\n",
      "dtypes: int64(4), object(3)\n",
      "memory usage: 7.8+ MB\n"
     ]
    }
   ],
   "source": [
    "data_train_test.info()"
   ]
  },
  {
   "cell_type": "code",
   "execution_count": 17,
   "metadata": {},
   "outputs": [
    {
     "name": "stdout",
     "output_type": "stream",
     "text": [
      "<class 'pandas.core.frame.DataFrame'>\n",
      "RangeIndex: 92663 entries, 0 to 92662\n",
      "Data columns (total 2 columns):\n",
      "coupon_id    92663 non-null int64\n",
      "item_id      92663 non-null int64\n",
      "dtypes: int64(2)\n",
      "memory usage: 1.4 MB\n"
     ]
    }
   ],
   "source": [
    "coupon_item_mapping.info()"
   ]
  },
  {
   "cell_type": "code",
   "execution_count": 18,
   "metadata": {},
   "outputs": [
    {
     "name": "stdout",
     "output_type": "stream",
     "text": [
      "<class 'pandas.core.frame.DataFrame'>\n",
      "RangeIndex: 74066 entries, 0 to 74065\n",
      "Data columns (total 24 columns):\n",
      "item_id                   74066 non-null int64\n",
      "brand                     74066 non-null int64\n",
      "brand_type                74066 non-null int64\n",
      "item_count                74066 non-null int64\n",
      "category_count            74066 non-null int64\n",
      "Alcohol                   74066 non-null int64\n",
      "Bakery                    74066 non-null int64\n",
      "Dairy, Juices & Snacks    74066 non-null int64\n",
      "Flowers & Plants          74066 non-null int64\n",
      "Fuel                      74066 non-null int64\n",
      "Garden                    74066 non-null int64\n",
      "Grocery                   74066 non-null int64\n",
      "Meat                      74066 non-null int64\n",
      "Miscellaneous             74066 non-null int64\n",
      "Natural Products          74066 non-null int64\n",
      "Packaged Meat             74066 non-null int64\n",
      "Pharmaceutical            74066 non-null int64\n",
      "Prepared Food             74066 non-null int64\n",
      "Restauarant               74066 non-null int64\n",
      "Salads                    74066 non-null int64\n",
      "Seafood                   74066 non-null int64\n",
      "Skin & Hair Care          74066 non-null int64\n",
      "Travel                    74066 non-null int64\n",
      "Vegetables (cut)          74066 non-null int64\n",
      "dtypes: int64(24)\n",
      "memory usage: 13.6 MB\n"
     ]
    }
   ],
   "source": [
    "item_data.info()"
   ]
  },
  {
   "cell_type": "code",
   "execution_count": 19,
   "metadata": {},
   "outputs": [],
   "source": [
    "data_train_test.start_date = pd.to_datetime(data_train_test.start_date)"
   ]
  },
  {
   "cell_type": "code",
   "execution_count": 20,
   "metadata": {},
   "outputs": [],
   "source": [
    "data_train_test.end_date = pd.to_datetime(data_train_test.end_date)"
   ]
  },
  {
   "cell_type": "code",
   "execution_count": 21,
   "metadata": {},
   "outputs": [
    {
     "data": {
      "text/plain": [
       "(128595, 4)"
      ]
     },
     "execution_count": 21,
     "metadata": {},
     "output_type": "execute_result"
    }
   ],
   "source": [
    "train_test.shape"
   ]
  },
  {
   "cell_type": "code",
   "execution_count": 22,
   "metadata": {},
   "outputs": [
    {
     "data": {
      "text/plain": [
       "25"
      ]
     },
     "execution_count": 22,
     "metadata": {},
     "output_type": "execute_result"
    }
   ],
   "source": [
    "data_train_test.start_date.nunique()"
   ]
  },
  {
   "cell_type": "code",
   "execution_count": 30,
   "metadata": {},
   "outputs": [],
   "source": [
    "campaign_train = campaign_data.loc[campaign_data.campaign_id.isin(train.campaign_id.unique())].sort_values('campaign_id')"
   ]
  },
  {
   "cell_type": "code",
   "execution_count": 35,
   "metadata": {},
   "outputs": [
    {
     "data": {
      "text/html": [
       "<div>\n",
       "<style scoped>\n",
       "    .dataframe tbody tr th:only-of-type {\n",
       "        vertical-align: middle;\n",
       "    }\n",
       "\n",
       "    .dataframe tbody tr th {\n",
       "        vertical-align: top;\n",
       "    }\n",
       "\n",
       "    .dataframe thead th {\n",
       "        text-align: right;\n",
       "    }\n",
       "</style>\n",
       "<table border=\"1\" class=\"dataframe\">\n",
       "  <thead>\n",
       "    <tr style=\"text-align: right;\">\n",
       "      <th></th>\n",
       "      <th>campaign_id</th>\n",
       "      <th>campaign_type</th>\n",
       "      <th>start_date</th>\n",
       "      <th>end_date</th>\n",
       "    </tr>\n",
       "  </thead>\n",
       "  <tbody>\n",
       "    <tr>\n",
       "      <th>21</th>\n",
       "      <td>1</td>\n",
       "      <td>Y</td>\n",
       "      <td>12/12/12</td>\n",
       "      <td>18/01/13</td>\n",
       "    </tr>\n",
       "    <tr>\n",
       "      <th>22</th>\n",
       "      <td>2</td>\n",
       "      <td>Y</td>\n",
       "      <td>17/12/12</td>\n",
       "      <td>18/01/13</td>\n",
       "    </tr>\n",
       "    <tr>\n",
       "      <th>18</th>\n",
       "      <td>3</td>\n",
       "      <td>Y</td>\n",
       "      <td>22/12/12</td>\n",
       "      <td>16/02/13</td>\n",
       "    </tr>\n",
       "    <tr>\n",
       "      <th>20</th>\n",
       "      <td>4</td>\n",
       "      <td>Y</td>\n",
       "      <td>07/01/13</td>\n",
       "      <td>08/02/13</td>\n",
       "    </tr>\n",
       "    <tr>\n",
       "      <th>19</th>\n",
       "      <td>5</td>\n",
       "      <td>Y</td>\n",
       "      <td>12/01/13</td>\n",
       "      <td>15/02/13</td>\n",
       "    </tr>\n",
       "    <tr>\n",
       "      <th>17</th>\n",
       "      <td>6</td>\n",
       "      <td>Y</td>\n",
       "      <td>28/01/13</td>\n",
       "      <td>01/03/13</td>\n",
       "    </tr>\n",
       "    <tr>\n",
       "      <th>16</th>\n",
       "      <td>7</td>\n",
       "      <td>Y</td>\n",
       "      <td>02/02/13</td>\n",
       "      <td>08/03/13</td>\n",
       "    </tr>\n",
       "    <tr>\n",
       "      <th>15</th>\n",
       "      <td>8</td>\n",
       "      <td>X</td>\n",
       "      <td>16/02/13</td>\n",
       "      <td>05/04/13</td>\n",
       "    </tr>\n",
       "    <tr>\n",
       "      <th>14</th>\n",
       "      <td>9</td>\n",
       "      <td>Y</td>\n",
       "      <td>11/03/13</td>\n",
       "      <td>12/04/13</td>\n",
       "    </tr>\n",
       "    <tr>\n",
       "      <th>13</th>\n",
       "      <td>10</td>\n",
       "      <td>Y</td>\n",
       "      <td>08/04/13</td>\n",
       "      <td>10/05/13</td>\n",
       "    </tr>\n",
       "    <tr>\n",
       "      <th>11</th>\n",
       "      <td>11</td>\n",
       "      <td>Y</td>\n",
       "      <td>22/04/13</td>\n",
       "      <td>07/06/13</td>\n",
       "    </tr>\n",
       "    <tr>\n",
       "      <th>12</th>\n",
       "      <td>12</td>\n",
       "      <td>Y</td>\n",
       "      <td>22/04/13</td>\n",
       "      <td>24/05/13</td>\n",
       "    </tr>\n",
       "    <tr>\n",
       "      <th>10</th>\n",
       "      <td>13</td>\n",
       "      <td>X</td>\n",
       "      <td>19/05/13</td>\n",
       "      <td>05/07/13</td>\n",
       "    </tr>\n",
       "    <tr>\n",
       "      <th>27</th>\n",
       "      <td>26</td>\n",
       "      <td>X</td>\n",
       "      <td>12/08/12</td>\n",
       "      <td>21/09/12</td>\n",
       "    </tr>\n",
       "    <tr>\n",
       "      <th>26</th>\n",
       "      <td>27</td>\n",
       "      <td>Y</td>\n",
       "      <td>25/08/12</td>\n",
       "      <td>27/10/12</td>\n",
       "    </tr>\n",
       "    <tr>\n",
       "      <th>25</th>\n",
       "      <td>28</td>\n",
       "      <td>Y</td>\n",
       "      <td>16/09/12</td>\n",
       "      <td>16/11/12</td>\n",
       "    </tr>\n",
       "    <tr>\n",
       "      <th>24</th>\n",
       "      <td>29</td>\n",
       "      <td>Y</td>\n",
       "      <td>08/10/12</td>\n",
       "      <td>30/11/12</td>\n",
       "    </tr>\n",
       "    <tr>\n",
       "      <th>23</th>\n",
       "      <td>30</td>\n",
       "      <td>X</td>\n",
       "      <td>19/11/12</td>\n",
       "      <td>04/01/13</td>\n",
       "    </tr>\n",
       "  </tbody>\n",
       "</table>\n",
       "</div>"
      ],
      "text/plain": [
       "    campaign_id campaign_type start_date  end_date\n",
       "21            1             Y   12/12/12  18/01/13\n",
       "22            2             Y   17/12/12  18/01/13\n",
       "18            3             Y   22/12/12  16/02/13\n",
       "20            4             Y   07/01/13  08/02/13\n",
       "19            5             Y   12/01/13  15/02/13\n",
       "17            6             Y   28/01/13  01/03/13\n",
       "16            7             Y   02/02/13  08/03/13\n",
       "15            8             X   16/02/13  05/04/13\n",
       "14            9             Y   11/03/13  12/04/13\n",
       "13           10             Y   08/04/13  10/05/13\n",
       "11           11             Y   22/04/13  07/06/13\n",
       "12           12             Y   22/04/13  24/05/13\n",
       "10           13             X   19/05/13  05/07/13\n",
       "27           26             X   12/08/12  21/09/12\n",
       "26           27             Y   25/08/12  27/10/12\n",
       "25           28             Y   16/09/12  16/11/12\n",
       "24           29             Y   08/10/12  30/11/12\n",
       "23           30             X   19/11/12  04/01/13"
      ]
     },
     "execution_count": 35,
     "metadata": {},
     "output_type": "execute_result"
    }
   ],
   "source": [
    "campaign_train"
   ]
  },
  {
   "cell_type": "code",
   "execution_count": 43,
   "metadata": {},
   "outputs": [
    {
     "data": {
      "text/plain": [
       "0   2012-01-02\n",
       "1   2012-01-02\n",
       "2   2012-01-02\n",
       "3   2012-01-02\n",
       "4   2012-01-02\n",
       "Name: date, dtype: datetime64[ns]"
      ]
     },
     "execution_count": 43,
     "metadata": {},
     "output_type": "execute_result"
    }
   ],
   "source": [
    "pd.to_datetime(customer_transaction_data.head().date)"
   ]
  },
  {
   "cell_type": "code",
   "execution_count": 51,
   "metadata": {},
   "outputs": [],
   "source": [
    "customer_transaction_data['date'] = pd.to_datetime(customer_transaction_data['date'])"
   ]
  },
  {
   "cell_type": "code",
   "execution_count": 52,
   "metadata": {},
   "outputs": [
    {
     "name": "stdout",
     "output_type": "stream",
     "text": [
      "<class 'pandas.core.frame.DataFrame'>\n",
      "RangeIndex: 1324566 entries, 0 to 1324565\n",
      "Data columns (total 7 columns):\n",
      "date               1324566 non-null datetime64[ns]\n",
      "customer_id        1324566 non-null int64\n",
      "item_id            1324566 non-null int64\n",
      "quantity           1324566 non-null int64\n",
      "selling_price      1324566 non-null float64\n",
      "other_discount     1324566 non-null float64\n",
      "coupon_discount    1324566 non-null float64\n",
      "dtypes: datetime64[ns](1), float64(3), int64(3)\n",
      "memory usage: 70.7 MB\n"
     ]
    }
   ],
   "source": [
    "customer_transaction_data.info()"
   ]
  },
  {
   "cell_type": "code",
   "execution_count": 78,
   "metadata": {},
   "outputs": [
    {
     "data": {
      "text/plain": [
       "36289"
      ]
     },
     "execution_count": 78,
     "metadata": {},
     "output_type": "execute_result"
    }
   ],
   "source": [
    "coupon_item_mapping.item_id.nunique()"
   ]
  },
  {
   "cell_type": "code",
   "execution_count": 80,
   "metadata": {},
   "outputs": [
    {
     "data": {
      "text/plain": [
       "(92663, 2)"
      ]
     },
     "execution_count": 80,
     "metadata": {},
     "output_type": "execute_result"
    }
   ],
   "source": [
    "coupon_item_mapping.shape"
   ]
  },
  {
   "cell_type": "code",
   "execution_count": null,
   "metadata": {},
   "outputs": [],
   "source": [
    "customer_transaction_data.loc[(pd.to_datetime(customer_transaction_data.date) <=  end_date)&\n",
    "                                                    (pd.to_datetime(customer_transaction_data.date) >= start_date)]"
   ]
  },
  {
   "cell_type": "code",
   "execution_count": 68,
   "metadata": {},
   "outputs": [
    {
     "data": {
      "text/plain": [
       "'18-01-13'"
      ]
     },
     "execution_count": 68,
     "metadata": {},
     "output_type": "execute_result"
    }
   ],
   "source": [
    "campaign_train.loc[(campaign_train.campaign_id==camp_id)].end_date.str.replace('/','-').values[0]"
   ]
  },
  {
   "cell_type": "code",
   "execution_count": null,
   "metadata": {},
   "outputs": [],
   "source": [
    "product_data_multivariate = []\n",
    "for i in range(product_data.shape[0]):\n",
    "    a = list(product_data[i])\n",
    "    b = np.array([a[:22],a[22:44],a[44:66],a[66:88],a[88:110]])\n",
    "    b.shape\n",
    "    product_data_multivariate.append(b.T)"
   ]
  },
  {
   "cell_type": "code",
   "execution_count": null,
   "metadata": {},
   "outputs": [],
   "source": [
    "for cust_id in list(train.customer_id.nunique()):\n",
    "    a = train.loc[train.customer_id==]"
   ]
  },
  {
   "cell_type": "code",
   "execution_count": 99,
   "metadata": {},
   "outputs": [
    {
     "data": {
      "text/plain": [
       "customer_id    1582\n",
       "campaign_id      11\n",
       "dtype: int64"
      ]
     },
     "execution_count": 99,
     "metadata": {},
     "output_type": "execute_result"
    }
   ],
   "source": [
    "train.groupby('customer_id',as_index=False).agg({\n",
    "    'campaign_id':'nunique'\n",
    "}).max()"
   ]
  },
  {
   "cell_type": "code",
   "execution_count": 109,
   "metadata": {},
   "outputs": [
    {
     "data": {
      "text/html": [
       "<div>\n",
       "<style scoped>\n",
       "    .dataframe tbody tr th:only-of-type {\n",
       "        vertical-align: middle;\n",
       "    }\n",
       "\n",
       "    .dataframe tbody tr th {\n",
       "        vertical-align: top;\n",
       "    }\n",
       "\n",
       "    .dataframe thead th {\n",
       "        text-align: right;\n",
       "    }\n",
       "</style>\n",
       "<table border=\"1\" class=\"dataframe\">\n",
       "  <thead>\n",
       "    <tr style=\"text-align: right;\">\n",
       "      <th></th>\n",
       "      <th>item_id</th>\n",
       "      <th>brand</th>\n",
       "      <th>brand_type</th>\n",
       "      <th>item_count</th>\n",
       "      <th>category_count</th>\n",
       "      <th>Alcohol</th>\n",
       "      <th>Bakery</th>\n",
       "      <th>Dairy, Juices &amp; Snacks</th>\n",
       "      <th>Flowers &amp; Plants</th>\n",
       "      <th>Fuel</th>\n",
       "      <th>...</th>\n",
       "      <th>Natural Products</th>\n",
       "      <th>Packaged Meat</th>\n",
       "      <th>Pharmaceutical</th>\n",
       "      <th>Prepared Food</th>\n",
       "      <th>Restauarant</th>\n",
       "      <th>Salads</th>\n",
       "      <th>Seafood</th>\n",
       "      <th>Skin &amp; Hair Care</th>\n",
       "      <th>Travel</th>\n",
       "      <th>Vegetables (cut)</th>\n",
       "    </tr>\n",
       "  </thead>\n",
       "  <tbody>\n",
       "    <tr>\n",
       "      <th>0</th>\n",
       "      <td>1</td>\n",
       "      <td>1</td>\n",
       "      <td>1</td>\n",
       "      <td>1091</td>\n",
       "      <td>14</td>\n",
       "      <td>0</td>\n",
       "      <td>0</td>\n",
       "      <td>0</td>\n",
       "      <td>0</td>\n",
       "      <td>0</td>\n",
       "      <td>...</td>\n",
       "      <td>0</td>\n",
       "      <td>0</td>\n",
       "      <td>0</td>\n",
       "      <td>0</td>\n",
       "      <td>0</td>\n",
       "      <td>0</td>\n",
       "      <td>0</td>\n",
       "      <td>0</td>\n",
       "      <td>0</td>\n",
       "      <td>0</td>\n",
       "    </tr>\n",
       "    <tr>\n",
       "      <th>1</th>\n",
       "      <td>2</td>\n",
       "      <td>1</td>\n",
       "      <td>1</td>\n",
       "      <td>1091</td>\n",
       "      <td>14</td>\n",
       "      <td>0</td>\n",
       "      <td>0</td>\n",
       "      <td>0</td>\n",
       "      <td>0</td>\n",
       "      <td>0</td>\n",
       "      <td>...</td>\n",
       "      <td>0</td>\n",
       "      <td>0</td>\n",
       "      <td>0</td>\n",
       "      <td>0</td>\n",
       "      <td>0</td>\n",
       "      <td>0</td>\n",
       "      <td>0</td>\n",
       "      <td>0</td>\n",
       "      <td>0</td>\n",
       "      <td>0</td>\n",
       "    </tr>\n",
       "    <tr>\n",
       "      <th>2</th>\n",
       "      <td>13</td>\n",
       "      <td>1</td>\n",
       "      <td>1</td>\n",
       "      <td>1091</td>\n",
       "      <td>14</td>\n",
       "      <td>0</td>\n",
       "      <td>0</td>\n",
       "      <td>0</td>\n",
       "      <td>0</td>\n",
       "      <td>0</td>\n",
       "      <td>...</td>\n",
       "      <td>0</td>\n",
       "      <td>0</td>\n",
       "      <td>0</td>\n",
       "      <td>0</td>\n",
       "      <td>0</td>\n",
       "      <td>0</td>\n",
       "      <td>0</td>\n",
       "      <td>0</td>\n",
       "      <td>0</td>\n",
       "      <td>0</td>\n",
       "    </tr>\n",
       "    <tr>\n",
       "      <th>3</th>\n",
       "      <td>629</td>\n",
       "      <td>1</td>\n",
       "      <td>1</td>\n",
       "      <td>1091</td>\n",
       "      <td>14</td>\n",
       "      <td>0</td>\n",
       "      <td>0</td>\n",
       "      <td>0</td>\n",
       "      <td>0</td>\n",
       "      <td>0</td>\n",
       "      <td>...</td>\n",
       "      <td>1</td>\n",
       "      <td>0</td>\n",
       "      <td>0</td>\n",
       "      <td>0</td>\n",
       "      <td>0</td>\n",
       "      <td>0</td>\n",
       "      <td>0</td>\n",
       "      <td>0</td>\n",
       "      <td>0</td>\n",
       "      <td>0</td>\n",
       "    </tr>\n",
       "    <tr>\n",
       "      <th>4</th>\n",
       "      <td>632</td>\n",
       "      <td>1</td>\n",
       "      <td>1</td>\n",
       "      <td>1091</td>\n",
       "      <td>14</td>\n",
       "      <td>0</td>\n",
       "      <td>0</td>\n",
       "      <td>0</td>\n",
       "      <td>0</td>\n",
       "      <td>0</td>\n",
       "      <td>...</td>\n",
       "      <td>1</td>\n",
       "      <td>0</td>\n",
       "      <td>0</td>\n",
       "      <td>0</td>\n",
       "      <td>0</td>\n",
       "      <td>0</td>\n",
       "      <td>0</td>\n",
       "      <td>0</td>\n",
       "      <td>0</td>\n",
       "      <td>0</td>\n",
       "    </tr>\n",
       "  </tbody>\n",
       "</table>\n",
       "<p>5 rows × 24 columns</p>\n",
       "</div>"
      ],
      "text/plain": [
       "   item_id  brand  brand_type  item_count  category_count  Alcohol  Bakery  \\\n",
       "0        1      1           1        1091              14        0       0   \n",
       "1        2      1           1        1091              14        0       0   \n",
       "2       13      1           1        1091              14        0       0   \n",
       "3      629      1           1        1091              14        0       0   \n",
       "4      632      1           1        1091              14        0       0   \n",
       "\n",
       "   Dairy, Juices & Snacks  Flowers & Plants  Fuel  ...  Natural Products  \\\n",
       "0                       0                 0     0  ...                 0   \n",
       "1                       0                 0     0  ...                 0   \n",
       "2                       0                 0     0  ...                 0   \n",
       "3                       0                 0     0  ...                 1   \n",
       "4                       0                 0     0  ...                 1   \n",
       "\n",
       "   Packaged Meat  Pharmaceutical  Prepared Food  Restauarant  Salads  Seafood  \\\n",
       "0              0               0              0            0       0        0   \n",
       "1              0               0              0            0       0        0   \n",
       "2              0               0              0            0       0        0   \n",
       "3              0               0              0            0       0        0   \n",
       "4              0               0              0            0       0        0   \n",
       "\n",
       "   Skin & Hair Care  Travel  Vegetables (cut)  \n",
       "0                 0       0                 0  \n",
       "1                 0       0                 0  \n",
       "2                 0       0                 0  \n",
       "3                 0       0                 0  \n",
       "4                 0       0                 0  \n",
       "\n",
       "[5 rows x 24 columns]"
      ]
     },
     "execution_count": 109,
     "metadata": {},
     "output_type": "execute_result"
    }
   ],
   "source": [
    "item_data.head()"
   ]
  },
  {
   "cell_type": "code",
   "execution_count": 111,
   "metadata": {},
   "outputs": [
    {
     "data": {
      "text/plain": [
       "Index(['item_id', 'brand', 'brand_type', 'item_count', 'category_count',\n",
       "       'Alcohol', 'Bakery', 'Dairy, Juices & Snacks', 'Flowers & Plants',\n",
       "       'Fuel', 'Garden', 'Grocery', 'Meat', 'Miscellaneous',\n",
       "       'Natural Products', 'Packaged Meat', 'Pharmaceutical', 'Prepared Food',\n",
       "       'Restauarant', 'Salads', 'Seafood', 'Skin & Hair Care', 'Travel',\n",
       "       'Vegetables (cut)'],\n",
       "      dtype='object')"
      ]
     },
     "execution_count": 111,
     "metadata": {},
     "output_type": "execute_result"
    }
   ],
   "source": [
    "item_data.columns"
   ]
  },
  {
   "cell_type": "code",
   "execution_count": 120,
   "metadata": {},
   "outputs": [],
   "source": [
    "coupon_item_agg = coupon_item_mapping.merge(item_data,on='item_id').groupby('coupon_id',as_index=False).agg({\n",
    "    'item_id':'nunique',\n",
    "    'brand':'nunique',\n",
    "    'brand_type':'nunique',\n",
    "    'item_count':'max',\n",
    "    'category_count':'max',\n",
    "    'Alcohol':'sum',\n",
    "    'Bakery':'sum',\n",
    "    'Dairy, Juices & Snacks':'sum',\n",
    "    'Flowers & Plants':'sum',\n",
    "    'Fuel':'sum',\n",
    "    'Garden':'sum',\n",
    "    'Grocery':'sum',\n",
    "    'Meat':'sum',\n",
    "    'Miscellaneous':'sum',\n",
    "    'Natural Products':'sum',\n",
    "    'Packaged Meat':'sum',\n",
    "    'Pharmaceutical':'sum',\n",
    "    'Prepared Food':'sum',\n",
    "    'Restauarant':'sum',\n",
    "    'Salads':'sum',\n",
    "    'Seafood':'sum',\n",
    "    'Skin & Hair Care':'sum',\n",
    "    'Travel':'sum',\n",
    "    'Vegetables (cut)':'sum'\n",
    "})"
   ]
  },
  {
   "cell_type": "code",
   "execution_count": 137,
   "metadata": {},
   "outputs": [
    {
     "data": {
      "text/plain": [
       "Index(['date', 'customer_id', 'item_id', 'quantity', 'selling_price',\n",
       "       'other_discount', 'coupon_discount'],\n",
       "      dtype='object')"
      ]
     },
     "execution_count": 137,
     "metadata": {},
     "output_type": "execute_result"
    }
   ],
   "source": [
    "customer_transaction_data.columns"
   ]
  },
  {
   "cell_type": "code",
   "execution_count": 143,
   "metadata": {},
   "outputs": [],
   "source": [
    "customer_transaction_data['month'] = customer_transaction_data['date'].dt.month\n",
    "customer_transaction_data['dayofweek'] = customer_transaction_data['date'].dt.dayofweek\n",
    "customer_transaction_data['day'] = customer_transaction_data['date'].dt.day\n",
    "customer_transaction_data['year'] = customer_transaction_data['date'].dt.year"
   ]
  },
  {
   "cell_type": "code",
   "execution_count": 145,
   "metadata": {},
   "outputs": [
    {
     "data": {
      "text/html": [
       "<div>\n",
       "<style scoped>\n",
       "    .dataframe tbody tr th:only-of-type {\n",
       "        vertical-align: middle;\n",
       "    }\n",
       "\n",
       "    .dataframe tbody tr th {\n",
       "        vertical-align: top;\n",
       "    }\n",
       "\n",
       "    .dataframe thead th {\n",
       "        text-align: right;\n",
       "    }\n",
       "</style>\n",
       "<table border=\"1\" class=\"dataframe\">\n",
       "  <thead>\n",
       "    <tr style=\"text-align: right;\">\n",
       "      <th></th>\n",
       "      <th>date</th>\n",
       "      <th>customer_id</th>\n",
       "      <th>item_id</th>\n",
       "      <th>quantity</th>\n",
       "      <th>selling_price</th>\n",
       "      <th>other_discount</th>\n",
       "      <th>coupon_discount</th>\n",
       "      <th>month</th>\n",
       "      <th>day</th>\n",
       "      <th>year</th>\n",
       "      <th>dayofweek</th>\n",
       "    </tr>\n",
       "  </thead>\n",
       "  <tbody>\n",
       "    <tr>\n",
       "      <th>0</th>\n",
       "      <td>2012-01-02</td>\n",
       "      <td>1501</td>\n",
       "      <td>26830</td>\n",
       "      <td>1</td>\n",
       "      <td>35.26</td>\n",
       "      <td>-10.69</td>\n",
       "      <td>0.0</td>\n",
       "      <td>1</td>\n",
       "      <td>2</td>\n",
       "      <td>2012</td>\n",
       "      <td>0</td>\n",
       "    </tr>\n",
       "    <tr>\n",
       "      <th>1</th>\n",
       "      <td>2012-01-02</td>\n",
       "      <td>1501</td>\n",
       "      <td>54253</td>\n",
       "      <td>1</td>\n",
       "      <td>53.43</td>\n",
       "      <td>-13.89</td>\n",
       "      <td>0.0</td>\n",
       "      <td>1</td>\n",
       "      <td>2</td>\n",
       "      <td>2012</td>\n",
       "      <td>0</td>\n",
       "    </tr>\n",
       "    <tr>\n",
       "      <th>2</th>\n",
       "      <td>2012-01-02</td>\n",
       "      <td>1501</td>\n",
       "      <td>31962</td>\n",
       "      <td>1</td>\n",
       "      <td>106.50</td>\n",
       "      <td>-14.25</td>\n",
       "      <td>0.0</td>\n",
       "      <td>1</td>\n",
       "      <td>2</td>\n",
       "      <td>2012</td>\n",
       "      <td>0</td>\n",
       "    </tr>\n",
       "    <tr>\n",
       "      <th>3</th>\n",
       "      <td>2012-01-02</td>\n",
       "      <td>1501</td>\n",
       "      <td>33647</td>\n",
       "      <td>1</td>\n",
       "      <td>67.32</td>\n",
       "      <td>0.00</td>\n",
       "      <td>0.0</td>\n",
       "      <td>1</td>\n",
       "      <td>2</td>\n",
       "      <td>2012</td>\n",
       "      <td>0</td>\n",
       "    </tr>\n",
       "    <tr>\n",
       "      <th>4</th>\n",
       "      <td>2012-01-02</td>\n",
       "      <td>1501</td>\n",
       "      <td>48199</td>\n",
       "      <td>1</td>\n",
       "      <td>71.24</td>\n",
       "      <td>-28.14</td>\n",
       "      <td>0.0</td>\n",
       "      <td>1</td>\n",
       "      <td>2</td>\n",
       "      <td>2012</td>\n",
       "      <td>0</td>\n",
       "    </tr>\n",
       "  </tbody>\n",
       "</table>\n",
       "</div>"
      ],
      "text/plain": [
       "        date  customer_id  item_id  quantity  selling_price  other_discount  \\\n",
       "0 2012-01-02         1501    26830         1          35.26          -10.69   \n",
       "1 2012-01-02         1501    54253         1          53.43          -13.89   \n",
       "2 2012-01-02         1501    31962         1         106.50          -14.25   \n",
       "3 2012-01-02         1501    33647         1          67.32            0.00   \n",
       "4 2012-01-02         1501    48199         1          71.24          -28.14   \n",
       "\n",
       "   coupon_discount  month  day  year  dayofweek  \n",
       "0              0.0      1    2  2012          0  \n",
       "1              0.0      1    2  2012          0  \n",
       "2              0.0      1    2  2012          0  \n",
       "3              0.0      1    2  2012          0  \n",
       "4              0.0      1    2  2012          0  "
      ]
     },
     "execution_count": 145,
     "metadata": {},
     "output_type": "execute_result"
    }
   ],
   "source": [
    "customer_transaction_data.head()"
   ]
  },
  {
   "cell_type": "code",
   "execution_count": 147,
   "metadata": {},
   "outputs": [],
   "source": [
    "import scipy"
   ]
  },
  {
   "cell_type": "code",
   "execution_count": 146,
   "metadata": {},
   "outputs": [
    {
     "data": {
      "text/plain": [
       "Index(['date', 'customer_id', 'item_id', 'quantity', 'selling_price',\n",
       "       'other_discount', 'coupon_discount', 'month', 'day', 'year',\n",
       "       'dayofweek'],\n",
       "      dtype='object')"
      ]
     },
     "execution_count": 146,
     "metadata": {},
     "output_type": "execute_result"
    }
   ],
   "source": [
    "customer_transaction_data.columns"
   ]
  },
  {
   "cell_type": "code",
   "execution_count": 153,
   "metadata": {},
   "outputs": [],
   "source": [
    "customer_transaction_data_agg = customer_transaction_data.groupby('customer_id',as_index=False).agg({\n",
    "    #'item_id':  lambda x: scipy.stats.mode(x)[0][0],\n",
    "    'quantity': 'mean',\n",
    "    'selling_price': 'mean',\n",
    "    'other_discount': 'mean',\n",
    "    'coupon_discount': 'mean',\n",
    "    'month': lambda x: scipy.stats.mode(x)[0][0],\n",
    "    'day': lambda x: scipy.stats.mode(x)[0][0],\n",
    "    'year': lambda x: scipy.stats.mode(x)[0][0],\n",
    "    'dayofweek': lambda x: scipy.stats.mode(x)[0][0]\n",
    "})"
   ]
  },
  {
   "cell_type": "code",
   "execution_count": 179,
   "metadata": {},
   "outputs": [],
   "source": [
    "customer_transaction_data_item = customer_transaction_data.merge(coupon_item_mapping,on='item_id').groupby('coupon_id',as_index=False).agg({\n",
    "    'quantity': 'mean',\n",
    "    'selling_price': 'mean',\n",
    "    'other_discount': 'mean',\n",
    "    'coupon_discount': 'max'\n",
    "})"
   ]
  },
  {
   "cell_type": "code",
   "execution_count": 123,
   "metadata": {},
   "outputs": [
    {
     "data": {
      "text/plain": [
       "1582"
      ]
     },
     "execution_count": 123,
     "metadata": {},
     "output_type": "execute_result"
    }
   ],
   "source": [
    "train_test.customer_id.nunique()"
   ]
  },
  {
   "cell_type": "code",
   "execution_count": 124,
   "metadata": {},
   "outputs": [],
   "source": [
    "crude_train_test = train_test.merge(demographics,on='customer_id',how='left').fillna(999).merge(campaign_data,on='campaign_id').drop(\n",
    "    ['start_date','end_date'],axis=1)"
   ]
  },
  {
   "cell_type": "code",
   "execution_count": 125,
   "metadata": {},
   "outputs": [
    {
     "data": {
      "text/plain": [
       "760"
      ]
     },
     "execution_count": 125,
     "metadata": {},
     "output_type": "execute_result"
    }
   ],
   "source": [
    "demographics.customer_id.nunique()"
   ]
  },
  {
   "cell_type": "code",
   "execution_count": 126,
   "metadata": {},
   "outputs": [],
   "source": [
    "crude_train_test1 = pd.concat([crude_train_test,pd.get_dummies(crude_train_test['campaign_type'])],axis=1).drop('campaign_type',axis=1)"
   ]
  },
  {
   "cell_type": "code",
   "execution_count": 128,
   "metadata": {},
   "outputs": [
    {
     "data": {
      "text/plain": [
       "(128595, 4)"
      ]
     },
     "execution_count": 128,
     "metadata": {},
     "output_type": "execute_result"
    }
   ],
   "source": [
    "train_test.shape"
   ]
  },
  {
   "cell_type": "code",
   "execution_count": 129,
   "metadata": {},
   "outputs": [],
   "source": [
    "somewhat_crude_train_test = crude_train_test1.merge(coupon_item_agg,on='coupon_id')"
   ]
  },
  {
   "cell_type": "code",
   "execution_count": 155,
   "metadata": {},
   "outputs": [],
   "source": [
    "somewhat_crude_train_test1 = somewhat_crude_train_test.merge(customer_transaction_data_agg,on='customer_id')"
   ]
  },
  {
   "cell_type": "code",
   "execution_count": 180,
   "metadata": {},
   "outputs": [],
   "source": [
    "somewhat_crude_train_test2 = somewhat_crude_train_test1.merge(customer_transaction_data_item,on='coupon_id')"
   ]
  },
  {
   "cell_type": "code",
   "execution_count": 188,
   "metadata": {},
   "outputs": [
    {
     "name": "stdout",
     "output_type": "stream",
     "text": [
      "<class 'pandas.core.frame.DataFrame'>\n",
      "Int64Index: 128595 entries, 0 to 128594\n",
      "Data columns (total 57 columns):\n",
      "id                        128595 non-null int64\n",
      "campaign_id               128595 non-null int64\n",
      "coupon_id                 128595 non-null int64\n",
      "customer_id               128595 non-null int64\n",
      "rented                    128595 non-null float64\n",
      "family_size               128595 non-null float64\n",
      "income_bracket            128595 non-null float64\n",
      "18-25                     128595 non-null float64\n",
      "26-35                     128595 non-null float64\n",
      "36-45                     128595 non-null float64\n",
      "46-55                     128595 non-null float64\n",
      "56-70                     128595 non-null float64\n",
      "70+                       128595 non-null float64\n",
      "single_child              128595 non-null float64\n",
      "two_children              128595 non-null float64\n",
      "more_than_two_children    128595 non-null float64\n",
      "Married                   128595 non-null float64\n",
      "Single                    128595 non-null float64\n",
      "5+_family_size            128595 non-null float64\n",
      "X                         128595 non-null uint8\n",
      "Y                         128595 non-null uint8\n",
      "item_id                   128595 non-null int64\n",
      "brand                     128595 non-null int64\n",
      "brand_type                128595 non-null int64\n",
      "item_count                128595 non-null int64\n",
      "category_count            128595 non-null int64\n",
      "Alcohol                   128595 non-null int64\n",
      "Bakery                    128595 non-null int64\n",
      "Dairy, Juices & Snacks    128595 non-null int64\n",
      "Flowers & Plants          128595 non-null int64\n",
      "Fuel                      128595 non-null int64\n",
      "Garden                    128595 non-null int64\n",
      "Grocery                   128595 non-null int64\n",
      "Meat                      128595 non-null int64\n",
      "Miscellaneous             128595 non-null int64\n",
      "Natural Products          128595 non-null int64\n",
      "Packaged Meat             128595 non-null int64\n",
      "Pharmaceutical            128595 non-null int64\n",
      "Prepared Food             128595 non-null int64\n",
      "Restauarant               128595 non-null int64\n",
      "Salads                    128595 non-null int64\n",
      "Seafood                   128595 non-null int64\n",
      "Skin & Hair Care          128595 non-null int64\n",
      "Travel                    128595 non-null int64\n",
      "Vegetables (cut)          128595 non-null int64\n",
      "quantity_x                128595 non-null float64\n",
      "selling_price_x           128595 non-null float64\n",
      "other_discount_x          128595 non-null float64\n",
      "coupon_discount_x         128595 non-null float64\n",
      "month                     128595 non-null int64\n",
      "day                       128595 non-null int64\n",
      "year                      128595 non-null int64\n",
      "dayofweek                 128595 non-null int64\n",
      "quantity_y                128595 non-null float64\n",
      "selling_price_y           128595 non-null float64\n",
      "other_discount_y          128595 non-null float64\n",
      "coupon_discount_y         128595 non-null float64\n",
      "dtypes: float64(23), int64(32), uint8(2)\n",
      "memory usage: 55.2 MB\n"
     ]
    }
   ],
   "source": [
    "somewhat_crude_train_test2.info()"
   ]
  },
  {
   "cell_type": "code",
   "execution_count": 192,
   "metadata": {},
   "outputs": [
    {
     "data": {
      "text/plain": [
       "0"
      ]
     },
     "execution_count": 192,
     "metadata": {},
     "output_type": "execute_result"
    }
   ],
   "source": [
    "y.min()"
   ]
  },
  {
   "cell_type": "code",
   "execution_count": 189,
   "metadata": {},
   "outputs": [],
   "source": [
    "X = somewhat_crude_train_test2[0:78369]\n",
    "y= train['redemption_status']\n",
    "X_val = somewhat_crude_train_test2[78369:]"
   ]
  },
  {
   "cell_type": "code",
   "execution_count": 190,
   "metadata": {},
   "outputs": [],
   "source": [
    "from sklearn.model_selection import train_test_split\n",
    "\n",
    "X_train, X_test, y_train, y_test = train_test_split( X, y, test_size=0.33, random_state=42)"
   ]
  },
  {
   "cell_type": "code",
   "execution_count": 193,
   "metadata": {},
   "outputs": [],
   "source": [
    "import numpy as np\n",
    "from sklearn.linear_model import LogisticRegression\n",
    "from sklearn.metrics import roc_curve, auc, roc_auc_score\n",
    "\n",
    "from sklearn.ensemble import BaggingClassifier, AdaBoostClassifier, GradientBoostingClassifier, RandomForestClassifier\n",
    "from sklearn.ensemble import ExtraTreesClassifier\n",
    "\n",
    "from sklearn.metrics import classification_report\n"
   ]
  },
  {
   "cell_type": "code",
   "execution_count": 194,
   "metadata": {},
   "outputs": [],
   "source": [
    "def train_predict_print_report(est):\n",
    "    est.fit(X_train, y_train)\n",
    "    false_positive_rate, true_positive_rate, thresholds = roc_curve(y_test, est.predict(X_test))\n",
    "    print('AUC: {}'.format(auc(false_positive_rate, true_positive_rate)))\n",
    "    print('ROC: {}'.format(roc_auc_score(y_test, est.predict(X_test))))\n",
    "    print(classification_report(y_test, est.predict(X_test)))"
   ]
  },
  {
   "cell_type": "code",
   "execution_count": 203,
   "metadata": {},
   "outputs": [],
   "source": [
    "lgbmc = lgbm.LGBMClassifier(n_estimators=60,learning_rate=0.01,num_leaves=60)\n",
    "bgc = BaggingClassifier()\n",
    "abc = AdaBoostClassifier()\n",
    "gbc = GradientBoostingClassifier()\n",
    "rfc = RandomForestClassifier()\n",
    "etc = ExtraTreesClassifier()\n",
    "model_list = [lgbmc, bgc, abc, gbc, rfc, etc]"
   ]
  },
  {
   "cell_type": "code",
   "execution_count": 205,
   "metadata": {},
   "outputs": [
    {
     "name": "stderr",
     "output_type": "stream",
     "text": [
      "Using TensorFlow backend.\n"
     ]
    }
   ],
   "source": [
    "import seaborn as sns\n",
    "import keras\n",
    "from keras import metrics\n",
    "from keras import regularizers\n",
    "from keras.models import Sequential, load_model\n",
    "from keras.layers import Dense, Dropout, Flatten, Activation\n",
    "from keras.optimizers import Adam, RMSprop\n",
    "from keras.callbacks import TensorBoard, EarlyStopping, ModelCheckpoint\n",
    "from keras.utils import plot_model"
   ]
  },
  {
   "cell_type": "code",
   "execution_count": 212,
   "metadata": {},
   "outputs": [
    {
     "data": {
      "text/plain": [
       "(78369,)"
      ]
     },
     "execution_count": 212,
     "metadata": {},
     "output_type": "execute_result"
    }
   ],
   "source": [
    "y.shape"
   ]
  },
  {
   "cell_type": "code",
   "execution_count": 213,
   "metadata": {},
   "outputs": [],
   "source": [
    "t_model = Sequential()\n",
    "t_model.add(Dense(100, activation=\"relu\", input_shape=(X.shape[1],)))\n",
    "t_model.add(Dense(50, activation=\"relu\"))\n",
    "t_model.add(Dense(1))\n",
    "t_model.compile(\n",
    "    loss=\"mean_squared_error\",\n",
    "    optimizer=Adam(lr=0.001),\n",
    "    metrics=[metrics.mae])"
   ]
  },
  {
   "cell_type": "code",
   "execution_count": null,
   "metadata": {
    "scrolled": true
   },
   "outputs": [],
   "source": [
    "epochs = 50\n",
    "batch = 128\n",
    "\n",
    "#cols = list(train.columns)\n",
    "#cols.remove(label_column)\n",
    "history = t_model.fit(\n",
    "    X_train, y_train,\n",
    "    batch_size=batch,\n",
    "    epochs=epochs,\n",
    "    shuffle=True,\n",
    "    verbose=1\n",
    ")\n"
   ]
  },
  {
   "cell_type": "code",
   "execution_count": 221,
   "metadata": {},
   "outputs": [],
   "source": [
    "score = t_model.evaluate(X_test, y_test, verbose=0)"
   ]
  },
  {
   "cell_type": "code",
   "execution_count": 222,
   "metadata": {},
   "outputs": [
    {
     "data": {
      "text/plain": [
       "[0.00809372097383836, 0.014941401580005351]"
      ]
     },
     "execution_count": 222,
     "metadata": {},
     "output_type": "execute_result"
    }
   ],
   "source": [
    "score"
   ]
  },
  {
   "cell_type": "code",
   "execution_count": 223,
   "metadata": {},
   "outputs": [],
   "source": [
    "def keras_predict_print(est):\n",
    "    false_positive_rate, true_positive_rate, thresholds = roc_curve(y_test, est.predict(X_test))\n",
    "    print('AUC: {}'.format(auc(false_positive_rate, true_positive_rate)))\n",
    "    print('ROC: {}'.format(roc_auc_score(y_test, est.predict(X_test))))\n",
    "   #print(classification_report(y_test, est.predict(X_test)))"
   ]
  },
  {
   "cell_type": "code",
   "execution_count": null,
   "metadata": {},
   "outputs": [],
   "source": [
    "keras_predict_print(t_model)"
   ]
  },
  {
   "cell_type": "code",
   "execution_count": 204,
   "metadata": {},
   "outputs": [
    {
     "name": "stdout",
     "output_type": "stream",
     "text": [
      "LGBMClassifier(boosting_type='gbdt', class_weight=None, colsample_bytree=1.0,\n",
      "        importance_type='split', learning_rate=0.01, max_depth=-1,\n",
      "        min_child_samples=20, min_child_weight=0.001, min_split_gain=0.0,\n",
      "        n_estimators=60, n_jobs=-1, num_leaves=60, objective=None,\n",
      "        random_state=None, reg_alpha=0.0, reg_lambda=0.0, silent=True,\n",
      "        subsample=1.0, subsample_for_bin=200000, subsample_freq=0)\n",
      "AUC: 0.5\n",
      "ROC: 0.5\n",
      "              precision    recall  f1-score   support\n",
      "\n",
      "           0       0.99      1.00      1.00     25651\n",
      "           1       0.00      0.00      0.00       211\n",
      "\n",
      "   micro avg       0.99      0.99      0.99     25862\n",
      "   macro avg       0.50      0.50      0.50     25862\n",
      "weighted avg       0.98      0.99      0.99     25862\n",
      "\n",
      "\n",
      "\n",
      "BaggingClassifier(base_estimator=None, bootstrap=True,\n",
      "         bootstrap_features=False, max_features=1.0, max_samples=1.0,\n",
      "         n_estimators=10, n_jobs=None, oob_score=False, random_state=None,\n",
      "         verbose=0, warm_start=False)\n"
     ]
    },
    {
     "name": "stderr",
     "output_type": "stream",
     "text": [
      "/anaconda3/lib/python3.7/site-packages/sklearn/metrics/classification.py:1143: UndefinedMetricWarning: Precision and F-score are ill-defined and being set to 0.0 in labels with no predicted samples.\n",
      "  'precision', 'predicted', average, warn_for)\n"
     ]
    },
    {
     "name": "stdout",
     "output_type": "stream",
     "text": [
      "AUC: 0.49986355307785274\n",
      "ROC: 0.49986355307785274\n",
      "              precision    recall  f1-score   support\n",
      "\n",
      "           0       0.99      1.00      1.00     25651\n",
      "           1       0.00      0.00      0.00       211\n",
      "\n",
      "   micro avg       0.99      0.99      0.99     25862\n",
      "   macro avg       0.50      0.50      0.50     25862\n",
      "weighted avg       0.98      0.99      0.99     25862\n",
      "\n",
      "\n",
      "\n",
      "AdaBoostClassifier(algorithm='SAMME.R', base_estimator=None,\n",
      "          learning_rate=1.0, n_estimators=50, random_state=None)\n",
      "AUC: 0.5\n",
      "ROC: 0.5\n"
     ]
    },
    {
     "name": "stderr",
     "output_type": "stream",
     "text": [
      "/anaconda3/lib/python3.7/site-packages/sklearn/metrics/classification.py:1143: UndefinedMetricWarning: Precision and F-score are ill-defined and being set to 0.0 in labels with no predicted samples.\n",
      "  'precision', 'predicted', average, warn_for)\n"
     ]
    },
    {
     "name": "stdout",
     "output_type": "stream",
     "text": [
      "              precision    recall  f1-score   support\n",
      "\n",
      "           0       0.99      1.00      1.00     25651\n",
      "           1       0.00      0.00      0.00       211\n",
      "\n",
      "   micro avg       0.99      0.99      0.99     25862\n",
      "   macro avg       0.50      0.50      0.50     25862\n",
      "weighted avg       0.98      0.99      0.99     25862\n",
      "\n",
      "\n",
      "\n",
      "GradientBoostingClassifier(criterion='friedman_mse', init=None,\n",
      "              learning_rate=0.1, loss='deviance', max_depth=3,\n",
      "              max_features=None, max_leaf_nodes=None,\n",
      "              min_impurity_decrease=0.0, min_impurity_split=None,\n",
      "              min_samples_leaf=1, min_samples_split=2,\n",
      "              min_weight_fraction_leaf=0.0, n_estimators=100,\n",
      "              n_iter_no_change=None, presort='auto', random_state=None,\n",
      "              subsample=1.0, tol=0.0001, validation_fraction=0.1,\n",
      "              verbose=0, warm_start=False)\n",
      "AUC: 0.5016094639659106\n",
      "ROC: 0.5016094639659106\n",
      "              precision    recall  f1-score   support\n",
      "\n",
      "           0       0.99      1.00      1.00     25651\n",
      "           1       0.03      0.00      0.01       211\n",
      "\n",
      "   micro avg       0.99      0.99      0.99     25862\n",
      "   macro avg       0.51      0.50      0.50     25862\n",
      "weighted avg       0.98      0.99      0.99     25862\n",
      "\n",
      "\n",
      "\n",
      "RandomForestClassifier(bootstrap=True, class_weight=None, criterion='gini',\n",
      "            max_depth=None, max_features='auto', max_leaf_nodes=None,\n",
      "            min_impurity_decrease=0.0, min_impurity_split=None,\n",
      "            min_samples_leaf=1, min_samples_split=2,\n",
      "            min_weight_fraction_leaf=0.0, n_estimators='warn', n_jobs=None,\n",
      "            oob_score=False, random_state=None, verbose=0,\n",
      "            warm_start=False)\n"
     ]
    },
    {
     "name": "stderr",
     "output_type": "stream",
     "text": [
      "/anaconda3/lib/python3.7/site-packages/sklearn/ensemble/forest.py:246: FutureWarning: The default value of n_estimators will change from 10 in version 0.20 to 100 in 0.22.\n",
      "  \"10 in version 0.20 to 100 in 0.22.\", FutureWarning)\n"
     ]
    },
    {
     "name": "stdout",
     "output_type": "stream",
     "text": [
      "AUC: 0.49986355307785274\n",
      "ROC: 0.49986355307785274\n",
      "              precision    recall  f1-score   support\n",
      "\n",
      "           0       0.99      1.00      1.00     25651\n",
      "           1       0.00      0.00      0.00       211\n",
      "\n",
      "   micro avg       0.99      0.99      0.99     25862\n",
      "   macro avg       0.50      0.50      0.50     25862\n",
      "weighted avg       0.98      0.99      0.99     25862\n",
      "\n",
      "\n",
      "\n",
      "ExtraTreesClassifier(bootstrap=False, class_weight=None, criterion='gini',\n",
      "           max_depth=None, max_features='auto', max_leaf_nodes=None,\n",
      "           min_impurity_decrease=0.0, min_impurity_split=None,\n",
      "           min_samples_leaf=1, min_samples_split=2,\n",
      "           min_weight_fraction_leaf=0.0, n_estimators='warn', n_jobs=None,\n",
      "           oob_score=False, random_state=None, verbose=0, warm_start=False)\n"
     ]
    },
    {
     "name": "stderr",
     "output_type": "stream",
     "text": [
      "/anaconda3/lib/python3.7/site-packages/sklearn/ensemble/forest.py:246: FutureWarning: The default value of n_estimators will change from 10 in version 0.20 to 100 in 0.22.\n",
      "  \"10 in version 0.20 to 100 in 0.22.\", FutureWarning)\n"
     ]
    },
    {
     "name": "stdout",
     "output_type": "stream",
     "text": [
      "AUC: 0.499649136485907\n",
      "ROC: 0.499649136485907\n",
      "              precision    recall  f1-score   support\n",
      "\n",
      "           0       0.99      1.00      1.00     25651\n",
      "           1       0.00      0.00      0.00       211\n",
      "\n",
      "   micro avg       0.99      0.99      0.99     25862\n",
      "   macro avg       0.50      0.50      0.50     25862\n",
      "weighted avg       0.98      0.99      0.99     25862\n",
      "\n",
      "\n",
      "\n"
     ]
    }
   ],
   "source": [
    "\n",
    "for clf in model_list:\n",
    "    print(clf)\n",
    "    train_predict_print_report(clf)\n",
    "    print()\n",
    "    print()"
   ]
  },
  {
   "cell_type": "code",
   "execution_count": 187,
   "metadata": {},
   "outputs": [
    {
     "data": {
      "text/plain": [
       "LGBMClassifier(boosting_type='gbdt', class_weight=None, colsample_bytree=1.0,\n",
       "        importance_type='split', learning_rate=0.1, max_depth=-1,\n",
       "        min_child_samples=20, min_child_weight=0.001, min_split_gain=0.0,\n",
       "        n_estimators=100, n_jobs=-1, num_leaves=31, objective=None,\n",
       "        random_state=None, reg_alpha=0.0, reg_lambda=0.0, silent=True,\n",
       "        subsample=1.0, subsample_for_bin=200000, subsample_freq=0)"
      ]
     },
     "execution_count": 187,
     "metadata": {},
     "output_type": "execute_result"
    }
   ],
   "source": [
    "lgbmc.fit(X,y)"
   ]
  },
  {
   "cell_type": "code",
   "execution_count": 164,
   "metadata": {},
   "outputs": [
    {
     "data": {
      "text/html": [
       "<div>\n",
       "<style scoped>\n",
       "    .dataframe tbody tr th:only-of-type {\n",
       "        vertical-align: middle;\n",
       "    }\n",
       "\n",
       "    .dataframe tbody tr th {\n",
       "        vertical-align: top;\n",
       "    }\n",
       "\n",
       "    .dataframe thead th {\n",
       "        text-align: right;\n",
       "    }\n",
       "</style>\n",
       "<table border=\"1\" class=\"dataframe\">\n",
       "  <thead>\n",
       "    <tr style=\"text-align: right;\">\n",
       "      <th></th>\n",
       "      <th>id</th>\n",
       "      <th>redemption_status</th>\n",
       "    </tr>\n",
       "  </thead>\n",
       "  <tbody>\n",
       "    <tr>\n",
       "      <th>0</th>\n",
       "      <td>3</td>\n",
       "      <td>0</td>\n",
       "    </tr>\n",
       "    <tr>\n",
       "      <th>1</th>\n",
       "      <td>4</td>\n",
       "      <td>0</td>\n",
       "    </tr>\n",
       "    <tr>\n",
       "      <th>2</th>\n",
       "      <td>5</td>\n",
       "      <td>0</td>\n",
       "    </tr>\n",
       "  </tbody>\n",
       "</table>\n",
       "</div>"
      ],
      "text/plain": [
       "   id  redemption_status\n",
       "0   3                  0\n",
       "1   4                  0\n",
       "2   5                  0"
      ]
     },
     "execution_count": 164,
     "metadata": {},
     "output_type": "execute_result"
    }
   ],
   "source": [
    "pd.read_csv('data/sample_submission_Byiv0dS.csv').head(3)"
   ]
  },
  {
   "cell_type": "code",
   "execution_count": 165,
   "metadata": {},
   "outputs": [],
   "source": [
    "pd.concat([test['id'],pd.DataFrame(lgbmc.predict_proba(X_val))[1]],axis=1).rename(columns={1:'redemption_status'\n",
    "                                                                                          }).to_csv('Submissions/submission_somewhat_crude_join.csv',index=False)"
   ]
  },
  {
   "cell_type": "code",
   "execution_count": null,
   "metadata": {},
   "outputs": [],
   "source": []
  }
 ],
 "metadata": {
  "kernelspec": {
   "display_name": "Python 3",
   "language": "python",
   "name": "python3"
  },
  "language_info": {
   "codemirror_mode": {
    "name": "ipython",
    "version": 3
   },
   "file_extension": ".py",
   "mimetype": "text/x-python",
   "name": "python",
   "nbconvert_exporter": "python",
   "pygments_lexer": "ipython3",
   "version": "3.7.3"
  }
 },
 "nbformat": 4,
 "nbformat_minor": 2
}
